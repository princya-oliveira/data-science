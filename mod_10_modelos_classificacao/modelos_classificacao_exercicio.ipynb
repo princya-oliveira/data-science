{
 "cells": [
  {
   "cell_type": "markdown",
   "metadata": {},
   "source": [
    "Neste exercício, vamos seguir usando o dataset MNIST, assim como nas aulas:"
   ]
  },
  {
   "cell_type": "code",
   "execution_count": 1,
   "metadata": {},
   "outputs": [],
   "source": [
    "from sklearn.datasets import fetch_openml\n",
    "mnist = fetch_openml('mnist_784', version=1)\n",
    "X, y = mnist[\"data\"], mnist[\"target\"].astype(float)"
   ]
  },
  {
   "cell_type": "markdown",
   "metadata": {},
   "source": [
    "O __objetivo__ aqui será construir um algoritmo que faça a __predição se um dígito é par ou ímpar.__\n",
    "\n",
    "Para isso, faça um tratamento inicial na variável target.\n",
    "\n",
    "Use a __AUC__ como métrica de performance.\n",
    "\n",
    "Teste diferentes versões do KNN-Classifier, bem como a regressão logística. \n",
    "\n",
    "Use a __metodologia de validação cruzada__, implementando manualmente a AUC, conforme feito nas aulas.\n",
    "\n",
    "Plote as __curvas ROC__ dos algoritmos."
   ]
  }
 ],
 "metadata": {
  "kernelspec": {
   "display_name": "Python 3",
   "language": "python",
   "name": "python3"
  },
  "language_info": {
   "codemirror_mode": {
    "name": "ipython",
    "version": 3
   },
   "file_extension": ".py",
   "mimetype": "text/x-python",
   "name": "python",
   "nbconvert_exporter": "python",
   "pygments_lexer": "ipython3",
   "version": "3.7.4"
  }
 },
 "nbformat": 4,
 "nbformat_minor": 2
}
