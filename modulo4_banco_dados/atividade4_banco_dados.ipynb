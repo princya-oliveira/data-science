{
 "cells": [
  {
   "cell_type": "markdown",
   "metadata": {},
   "source": [
    "1 - Criar uma tabela dados_cadastrais onde cada linha representa um funcionário e com os seguintes atributos: id, nome, sobrenome, data_nasci, cpf e endereco; Criar uma tabela dados_profissionais com id, graduacao, cargo, salario e tempo_casa. Insira 4 registros em cada uma das tabelas."
   ]
  },
  {
   "cell_type": "code",
   "execution_count": 7,
   "metadata": {},
   "outputs": [],
   "source": [
    "import sqlite3 #implementando banco de dados SQL imbutido"
   ]
  },
  {
   "cell_type": "code",
   "execution_count": 8,
   "metadata": {},
   "outputs": [
    {
     "name": "stdout",
     "output_type": "stream",
     "text": [
      "<sqlite3.Connection object at 0x000001ED7AF23A80>\n"
     ]
    }
   ],
   "source": [
    "conn = sqlite3.connect(\"banco_dados_atividade4.db\") #criando bd\n",
    "\n",
    "print(conn)"
   ]
  },
  {
   "cell_type": "code",
   "execution_count": 9,
   "metadata": {},
   "outputs": [],
   "source": [
    "cursor = conn.cursor() #criando varíavel para construir as tabelas"
   ]
  },
  {
   "cell_type": "code",
   "execution_count": 10,
   "metadata": {},
   "outputs": [
    {
     "data": {
      "text/plain": [
       "<sqlite3.Cursor at 0x1ed7b12a650>"
      ]
     },
     "execution_count": 10,
     "metadata": {},
     "output_type": "execute_result"
    }
   ],
   "source": [
    "#criando tabela dados_cadastrais\n",
    "cursor.execute(\"CREATE TABLE dados_cadastrais(user_id integer, nome text, sobrenome text, data_nasci text, cpf text, endereco text)\")"
   ]
  },
  {
   "cell_type": "code",
   "execution_count": 11,
   "metadata": {},
   "outputs": [
    {
     "data": {
      "text/plain": [
       "<sqlite3.Cursor at 0x1ed7b12a650>"
      ]
     },
     "execution_count": 11,
     "metadata": {},
     "output_type": "execute_result"
    }
   ],
   "source": [
    "#criando tabela dados_profissionais\n",
    "cursor.execute(\"CREATE TABLE dados_profissionais(user_id integer, graduacao text, cargo text, salario float, tempo_casa integer)\")"
   ]
  },
  {
   "cell_type": "code",
   "execution_count": 12,
   "metadata": {},
   "outputs": [
    {
     "data": {
      "text/plain": [
       "[('dados_cadastrais',), ('dados_profissionais',)]"
      ]
     },
     "execution_count": 12,
     "metadata": {},
     "output_type": "execute_result"
    }
   ],
   "source": [
    "cursor.execute('SELECT name from sqlite_master where type= \"table\"')\n",
    "\n",
    "cursor.fetchall() #mostrando as tabelas que foram criadas no bd"
   ]
  },
  {
   "cell_type": "code",
   "execution_count": 13,
   "metadata": {},
   "outputs": [
    {
     "data": {
      "text/plain": [
       "<function Connection.commit>"
      ]
     },
     "execution_count": 13,
     "metadata": {},
     "output_type": "execute_result"
    }
   ],
   "source": [
    "#inserindo registros na tabela dados_cadastrais\n",
    "cursor.execute(\"INSERT INTO dados_cadastrais VALUES(1, 'Maria', 'Silva', '13/10/1975', '235.524,555-00', 'Rua 1 - SP')\")\n",
    "cursor.execute(\"INSERT INTO dados_cadastrais VALUES(2, 'João', 'Silva', '20/01/1980', '111.213.521-11', 'Rua 2 - SP')\")\n",
    "cursor.execute(\"INSERT INTO dados_cadastrais VALUES(3, 'Pedro', 'Pereira', '15/11/2000', '111.214.520-45', 'Rua 3 - SP')\")\n",
    "cursor.execute(\"INSERT INTO dados_cadastrais VALUES(4, 'Paulo', 'Ribeiro', '30/03/1995', '852.159.347-12', 'Rua 4 - SP')\")\n",
    "conn.commit"
   ]
  },
  {
   "cell_type": "code",
   "execution_count": 14,
   "metadata": {},
   "outputs": [
    {
     "data": {
      "text/plain": [
       "<function Connection.commit>"
      ]
     },
     "execution_count": 14,
     "metadata": {},
     "output_type": "execute_result"
    }
   ],
   "source": [
    "#inserindo registro na tabela dados_profissionais\n",
    "cursor.execute(\"INSERT INTO dados_profissionais VALUES(1, 'Matemática', 'Professor', 3500.89, 3)\")\n",
    "cursor.execute(\"INSERT INTO dados_profissionais VALUES(2, 'Geografia', 'Orientador', 2850.8, 1)\")\n",
    "cursor.execute(\"INSERT INTO dados_profissionais VALUES(3, 'História', 'Orientador', 3200.45, 1)\")\n",
    "cursor.execute(\"INSERT INTO dados_profissionais VALUES(4, 'Física', 'Professor', 1890.33, 2)\")\n",
    "conn.commit"
   ]
  },
  {
   "cell_type": "markdown",
   "metadata": {},
   "source": [
    "2 - Usando a tabela dados profissionais, escreva uma query que retorne todos os campos da tabela ordenando-os pela coluna tempo de casa de maneira decrescente."
   ]
  },
  {
   "cell_type": "code",
   "execution_count": 15,
   "metadata": {},
   "outputs": [
    {
     "data": {
      "text/plain": [
       "[(1, 'Matemática', 'Professor', 3500.89, 3),\n",
       " (4, 'Física', 'Professor', 1890.33, 2),\n",
       " (2, 'Geografia', 'Orientador', 2850.8, 1),\n",
       " (3, 'História', 'Orientador', 3200.45, 1)]"
      ]
     },
     "execution_count": 15,
     "metadata": {},
     "output_type": "execute_result"
    }
   ],
   "source": [
    "cursor.execute(\"SELECT * FROM dados_profissionais ORDER BY tempo_casa DESC\")\n",
    "cursor.fetchall()"
   ]
  },
  {
   "cell_type": "markdown",
   "metadata": {},
   "source": [
    "3 - Conte a quantidade de funcionários dessa empresa;"
   ]
  },
  {
   "cell_type": "code",
   "execution_count": 17,
   "metadata": {},
   "outputs": [
    {
     "data": {
      "text/plain": [
       "[(4,)]"
      ]
     },
     "execution_count": 17,
     "metadata": {},
     "output_type": "execute_result"
    }
   ],
   "source": [
    "cursor.execute(\"SELECT COUNT(user_id) FROM dados_cadastrais\")\n",
    "cursor.fetchall()"
   ]
  },
  {
   "cell_type": "markdown",
   "metadata": {},
   "source": [
    "4 - Usando a tabela dados cadastrais, escreva uma query que liste apenas os funcionários que possuem sobrenome \"silva\", ordenados pelo nome completo, ou seja, nome e sobrenome."
   ]
  },
  {
   "cell_type": "code",
   "execution_count": 20,
   "metadata": {},
   "outputs": [
    {
     "data": {
      "text/plain": [
       "[(2, 'João', 'Silva', '20/01/1980', '111.213.521-11', 'Rua 2 - SP'),\n",
       " (1, 'Maria', 'Silva', '13/10/1975', '235.524,555-00', 'Rua 1 - SP')]"
      ]
     },
     "execution_count": 20,
     "metadata": {},
     "output_type": "execute_result"
    }
   ],
   "source": [
    "cursor.execute(\"SELECT * FROM dados_cadastrais WHERE sobrenome = 'Silva' ORDER BY nome, sobrenome\")\n",
    "cursor.fetchall()"
   ]
  },
  {
   "cell_type": "markdown",
   "metadata": {},
   "source": [
    "5 - Escreva uma query que liste o valor da folha de pagamento dessa empresa por cargo, usando a tabela dados_profissionais (ou seja, somar os salários em cada cargo)."
   ]
  },
  {
   "cell_type": "code",
   "execution_count": 26,
   "metadata": {},
   "outputs": [
    {
     "data": {
      "text/plain": [
       "[(6051.25, 'Orientador'), (5391.219999999999, 'Professor')]"
      ]
     },
     "execution_count": 26,
     "metadata": {},
     "output_type": "execute_result"
    }
   ],
   "source": [
    "cursor.execute(\"SELECT SUM(salario), cargo FROM dados_profissionais GROUP BY cargo\")\n",
    "cursor.fetchall()"
   ]
  }
 ],
 "metadata": {
  "kernelspec": {
   "display_name": "Python 3",
   "language": "python",
   "name": "python3"
  },
  "language_info": {
   "codemirror_mode": {
    "name": "ipython",
    "version": 3
   },
   "file_extension": ".py",
   "mimetype": "text/x-python",
   "name": "python",
   "nbconvert_exporter": "python",
   "pygments_lexer": "ipython3",
   "version": "3.8.5"
  }
 },
 "nbformat": 4,
 "nbformat_minor": 4
}
