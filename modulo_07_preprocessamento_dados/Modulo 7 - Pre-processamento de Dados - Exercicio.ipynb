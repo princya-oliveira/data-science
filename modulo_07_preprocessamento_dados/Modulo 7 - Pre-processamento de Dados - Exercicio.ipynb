{
 "cells": [
  {
   "cell_type": "code",
   "execution_count": 1,
   "metadata": {},
   "outputs": [],
   "source": [
    "import pandas as pd\n",
    "import numpy as np\n",
    "import matplotlib.pyplot as plt\n",
    "from sklearn.preprocessing import MinMaxScaler, StandardScaler\n",
    "from sklearn.preprocessing import OneHotEncoder"
   ]
  },
  {
   "cell_type": "markdown",
   "metadata": {},
   "source": [
    "# Exercícios:\n",
    "\n",
    "<br>\n",
    "\n",
    "1 - Importe o arquivo \"dataframe_exercicio_modulo_7.csv\" em um dataframe - df - do Pandas.\n",
    "\n",
    "<br>\n",
    "\n",
    "2 - Quais as dimensões do dataframe?\n",
    "\n",
    "<br>\n",
    "\n",
    "3 - Qual o tipo das variáveis?\n",
    "\n",
    "<br>\n",
    "\n",
    "4 - Existem variáveis faltantes no dataset? Quais?\n",
    "\n",
    "<br>\n",
    "\n",
    "\n",
    "5 - Exiba todas as categorias das variáveis 'estado_civil', 'cor' e 'sexo'. Você consegue detectar algum problema?\n",
    "\n",
    "<br>\n",
    "\n",
    "6 - Faça um tratamento nas variáveis faltantes.\n",
    "\n",
    "<br>\n",
    "\n",
    "7 - Aplique uma transformação \"MinMax\" na variável  'tempo_educacao'e uma transformação \"StandardScaler\" na variável 'horas_por_semana'.\n",
    "\n",
    "<br>\n",
    "\n",
    "8 - Aplique ohe-hot-encoding nas variáveis 'estado_civil', 'cor' e 'sexo'.\n",
    "\n",
    "<br>\n",
    "\n",
    "9 - Detecte e elimine os outliers da variável 'idade'.\n",
    "\n",
    "<br>\n",
    "\n",
    "\n",
    "10 - Escreva uma função que receba o dataframe em sua forma original e retorne o dataframe modificado, após todas as transformações dos itens acima."
   ]
  },
  {
   "cell_type": "code",
   "execution_count": 2,
   "metadata": {},
   "outputs": [
    {
     "data": {
      "text/html": [
       "<div>\n",
       "<style scoped>\n",
       "    .dataframe tbody tr th:only-of-type {\n",
       "        vertical-align: middle;\n",
       "    }\n",
       "\n",
       "    .dataframe tbody tr th {\n",
       "        vertical-align: top;\n",
       "    }\n",
       "\n",
       "    .dataframe thead th {\n",
       "        text-align: right;\n",
       "    }\n",
       "</style>\n",
       "<table border=\"1\" class=\"dataframe\">\n",
       "  <thead>\n",
       "    <tr style=\"text-align: right;\">\n",
       "      <th></th>\n",
       "      <th>idade</th>\n",
       "      <th>tempo_educacao</th>\n",
       "      <th>estado_civil</th>\n",
       "      <th>cor</th>\n",
       "      <th>sexo</th>\n",
       "      <th>horas_por_semana</th>\n",
       "      <th>salario_anual</th>\n",
       "      <th>nome</th>\n",
       "      <th>dívida</th>\n",
       "    </tr>\n",
       "  </thead>\n",
       "  <tbody>\n",
       "    <tr>\n",
       "      <th>0</th>\n",
       "      <td>39.0</td>\n",
       "      <td>13</td>\n",
       "      <td>Never-married</td>\n",
       "      <td>White</td>\n",
       "      <td>Male</td>\n",
       "      <td>40</td>\n",
       "      <td>&lt;=50K</td>\n",
       "      <td>NaN</td>\n",
       "      <td>NaN</td>\n",
       "    </tr>\n",
       "    <tr>\n",
       "      <th>1</th>\n",
       "      <td>50.0</td>\n",
       "      <td>13</td>\n",
       "      <td>Married-civ-spouse</td>\n",
       "      <td>White</td>\n",
       "      <td>Male</td>\n",
       "      <td>13</td>\n",
       "      <td>&lt;=50K</td>\n",
       "      <td>NaN</td>\n",
       "      <td>NaN</td>\n",
       "    </tr>\n",
       "    <tr>\n",
       "      <th>2</th>\n",
       "      <td>38.0</td>\n",
       "      <td>9</td>\n",
       "      <td>Divorced</td>\n",
       "      <td>White</td>\n",
       "      <td>Male</td>\n",
       "      <td>40</td>\n",
       "      <td>&lt;=50K</td>\n",
       "      <td>NaN</td>\n",
       "      <td>NaN</td>\n",
       "    </tr>\n",
       "    <tr>\n",
       "      <th>3</th>\n",
       "      <td>53.0</td>\n",
       "      <td>7</td>\n",
       "      <td>Married-civ-spouse</td>\n",
       "      <td>Black</td>\n",
       "      <td>Male</td>\n",
       "      <td>40</td>\n",
       "      <td>&lt;=50K</td>\n",
       "      <td>NaN</td>\n",
       "      <td>NaN</td>\n",
       "    </tr>\n",
       "    <tr>\n",
       "      <th>4</th>\n",
       "      <td>37.0</td>\n",
       "      <td>14</td>\n",
       "      <td>Married-civ-spouse</td>\n",
       "      <td>White</td>\n",
       "      <td>Female</td>\n",
       "      <td>40</td>\n",
       "      <td>&lt;=50K</td>\n",
       "      <td>NaN</td>\n",
       "      <td>NaN</td>\n",
       "    </tr>\n",
       "  </tbody>\n",
       "</table>\n",
       "</div>"
      ],
      "text/plain": [
       "   idade  tempo_educacao        estado_civil    cor    sexo  horas_por_semana  \\\n",
       "0   39.0              13       Never-married  White    Male                40   \n",
       "1   50.0              13  Married-civ-spouse  White    Male                13   \n",
       "2   38.0               9            Divorced  White    Male                40   \n",
       "3   53.0               7  Married-civ-spouse  Black    Male                40   \n",
       "4   37.0              14  Married-civ-spouse  White  Female                40   \n",
       "\n",
       "  salario_anual  nome  dívida  \n",
       "0         <=50K   NaN     NaN  \n",
       "1         <=50K   NaN     NaN  \n",
       "2         <=50K   NaN     NaN  \n",
       "3         <=50K   NaN     NaN  \n",
       "4         <=50K   NaN     NaN  "
      ]
     },
     "execution_count": 2,
     "metadata": {},
     "output_type": "execute_result"
    }
   ],
   "source": [
    "# 1 - Importe o arquivo \"dataframe_exercicio_modulo_7.csv\" em um dataframe - df - do Pandas.\n",
    "\n",
    "df = pd.read_csv(\"dataframe_exercicio_modulo_7.csv\")\n",
    "df.head()"
   ]
  },
  {
   "cell_type": "code",
   "execution_count": null,
   "metadata": {},
   "outputs": [],
   "source": [
    "# 2 - Quais as dimensões do dataframe?\n",
    "\n",
    "df.shape\n",
    "# 29170 -> linhas \n",
    "# 9 -> colunas"
   ]
  },
  {
   "cell_type": "code",
   "execution_count": null,
   "metadata": {},
   "outputs": [],
   "source": [
    "# 3 - Qual o tipo das variáveis?\n",
    "\n",
    "df.dtypes"
   ]
  },
  {
   "cell_type": "code",
   "execution_count": null,
   "metadata": {},
   "outputs": [],
   "source": [
    "# 4 - Existem variáveis faltantes no dataset? Quais?\n",
    "# Os valores faltantes são: idade(0,34%), nome(100%) e dívida(100%)\n",
    "\n",
    "df.isnull().sum() "
   ]
  },
  {
   "cell_type": "code",
   "execution_count": null,
   "metadata": {},
   "outputs": [],
   "source": [
    "# valores faltantes em percentual:\n",
    "\n",
    "((df.isnull().sum() / df.shape[0]) * 100).round(2)"
   ]
  },
  {
   "cell_type": "code",
   "execution_count": null,
   "metadata": {},
   "outputs": [],
   "source": [
    "# 5 - Exiba todas as categorias das variáveis 'estado_civil', 'cor' e 'sexo'. Você consegue detectar algum problema?\n",
    "# Não sei se classificaria necessariamente como um problema, mas as variáveis mencionadas tem muitas categorias e nas \n",
    "# variáveis cor e sexo temos as categorias 'other' e '?', que basicamente são informações indefinidas e que, por isso\n",
    "# poderiam não colaborar com o estudo, a depender da linha que se quer seguir. Além disso eu observaria com cuidado a\n",
    "# pouca representatividade das informações, já que a maior parte delas estão concentradas em algumas categorias. \n",
    "\n",
    "# estado_civil:\n",
    "df.estado_civil.value_counts()"
   ]
  },
  {
   "cell_type": "code",
   "execution_count": null,
   "metadata": {},
   "outputs": [],
   "source": [
    "# cor:\n",
    "df.cor.value_counts()"
   ]
  },
  {
   "cell_type": "code",
   "execution_count": null,
   "metadata": {},
   "outputs": [],
   "source": [
    "# sexo:\n",
    "df.sexo.value_counts()"
   ]
  },
  {
   "cell_type": "code",
   "execution_count": null,
   "metadata": {},
   "outputs": [],
   "source": [
    "# 6 - Faça um tratamento nas variáveis faltantes.\n",
    "\n",
    "# retirando as colunas 'nome' e 'divida', pois ambas tem 100% de dados faltantes, sem condições de uso, portanto. \n",
    "df = df.drop(['nome','dívida'],axis = 1)\n",
    "df.head()"
   ]
  },
  {
   "cell_type": "code",
   "execution_count": null,
   "metadata": {},
   "outputs": [],
   "source": [
    "# tratando a variável idade, que possui 0,34% de dados faltantes e podem ser preenchidos pela média de idades do df.\n",
    "\n",
    "media_idade = df.idade.mean()\n",
    "media_idade"
   ]
  },
  {
   "cell_type": "code",
   "execution_count": null,
   "metadata": {},
   "outputs": [],
   "source": [
    "df.idade.loc[np.isnan(df.idade)]"
   ]
  },
  {
   "cell_type": "code",
   "execution_count": null,
   "metadata": {},
   "outputs": [],
   "source": [
    "# substituindo os valores NaN pela média de idades:\n",
    "\n",
    "df.idade.fillna(media_idade, inplace=True)"
   ]
  },
  {
   "cell_type": "code",
   "execution_count": null,
   "metadata": {},
   "outputs": [],
   "source": [
    "# 7 - Aplique uma transformação \"MinMax\" na variável 'tempo_educacao'e uma transformação \"StandardScaler\" \n",
    "# na variável 'horas_por_semana'.\n",
    "\n",
    "mm_scaler = MinMaxScaler()\n",
    "ss_scaler = StandardScaler()"
   ]
  },
  {
   "cell_type": "code",
   "execution_count": null,
   "metadata": {},
   "outputs": [],
   "source": [
    "# MinMax na variável 'tempo_educacao':\n",
    "\n",
    "df.tempo_educacao.describe()"
   ]
  },
  {
   "cell_type": "code",
   "execution_count": null,
   "metadata": {},
   "outputs": [],
   "source": [
    "tempo_edu_mm = df.tempo_educacao.values.reshape(-1,1)\n",
    "tempo_edu_mm"
   ]
  },
  {
   "cell_type": "code",
   "execution_count": null,
   "metadata": {},
   "outputs": [],
   "source": [
    "mm_scaler.fit(tempo_edu_mm)"
   ]
  },
  {
   "cell_type": "code",
   "execution_count": null,
   "metadata": {},
   "outputs": [],
   "source": [
    "mm_scaler.transform(tempo_edu_mm)"
   ]
  },
  {
   "cell_type": "code",
   "execution_count": null,
   "metadata": {},
   "outputs": [],
   "source": [
    "# StandardScaler na variável 'horas_por_semana':\n",
    "\n",
    "df.tempo_educacao.describe()"
   ]
  },
  {
   "cell_type": "code",
   "execution_count": null,
   "metadata": {},
   "outputs": [],
   "source": [
    "horas_semana_ss = df.horas_por_semana.values.reshape(-1,1)\n",
    "horas_semana_ss"
   ]
  },
  {
   "cell_type": "code",
   "execution_count": null,
   "metadata": {},
   "outputs": [],
   "source": [
    "ss_scaler.fit(horas_semana_ss)"
   ]
  },
  {
   "cell_type": "code",
   "execution_count": null,
   "metadata": {},
   "outputs": [],
   "source": [
    "ss_scaler.transform(horas_semana_ss)"
   ]
  },
  {
   "cell_type": "code",
   "execution_count": null,
   "metadata": {},
   "outputs": [],
   "source": [
    "# 8 - Aplique ohe-hot-encoding nas variáveis 'estado_civil', 'cor' e 'sexo'.\n",
    "\n",
    "ohe = OneHotEncoder()"
   ]
  },
  {
   "cell_type": "code",
   "execution_count": null,
   "metadata": {},
   "outputs": [],
   "source": [
    "# OHE na variável 'estado_civil':\n",
    "\n",
    "estado_civil_ohe = df.estado_civil.values.reshape(-1,1)\n",
    "\n",
    "ohe.fit(estado_civil_ohe)"
   ]
  },
  {
   "cell_type": "code",
   "execution_count": null,
   "metadata": {},
   "outputs": [],
   "source": [
    "ohe.transform(estado_civil_ohe)"
   ]
  },
  {
   "cell_type": "code",
   "execution_count": null,
   "metadata": {},
   "outputs": [],
   "source": [
    "ohe.transform(estado_civil_ohe).toarray()"
   ]
  },
  {
   "cell_type": "code",
   "execution_count": null,
   "metadata": {},
   "outputs": [],
   "source": [
    "ohe.categories_"
   ]
  },
  {
   "cell_type": "code",
   "execution_count": null,
   "metadata": {},
   "outputs": [],
   "source": [
    "df_estado_civil_ohe = pd.DataFrame(ohe.transform(estado_civil_ohe).toarray(),columns = ohe.categories_[0].tolist())\n",
    "df_estado_civil_ohe"
   ]
  },
  {
   "cell_type": "code",
   "execution_count": null,
   "metadata": {},
   "outputs": [],
   "source": [
    "# OHE na variável 'cor':\n",
    "\n",
    "cor_ohe = df.cor.values.reshape(-1,1)\n",
    "\n",
    "ohe.fit(cor_ohe)"
   ]
  },
  {
   "cell_type": "code",
   "execution_count": null,
   "metadata": {},
   "outputs": [],
   "source": [
    "ohe.transform(cor_ohe).toarray()"
   ]
  },
  {
   "cell_type": "code",
   "execution_count": null,
   "metadata": {},
   "outputs": [],
   "source": [
    "ohe.categories_"
   ]
  },
  {
   "cell_type": "code",
   "execution_count": null,
   "metadata": {},
   "outputs": [],
   "source": [
    "df_cor_ohe = pd.DataFrame(ohe.transform(cor_ohe).toarray(),columns = ohe.categories_[0].tolist())\n",
    "df_cor_ohe"
   ]
  },
  {
   "cell_type": "code",
   "execution_count": null,
   "metadata": {},
   "outputs": [],
   "source": [
    "# OHE na variável 'sexo':\n",
    "\n",
    "sexo_ohe = df.sexo.values.reshape(-1,1)\n",
    "\n",
    "ohe.fit(sexo_ohe)"
   ]
  },
  {
   "cell_type": "code",
   "execution_count": null,
   "metadata": {},
   "outputs": [],
   "source": [
    "ohe.transform(sexo_ohe)"
   ]
  },
  {
   "cell_type": "code",
   "execution_count": null,
   "metadata": {},
   "outputs": [],
   "source": [
    "ohe.transform(sexo_ohe).toarray()"
   ]
  },
  {
   "cell_type": "code",
   "execution_count": null,
   "metadata": {},
   "outputs": [],
   "source": [
    "ohe.categories_"
   ]
  },
  {
   "cell_type": "code",
   "execution_count": null,
   "metadata": {},
   "outputs": [],
   "source": [
    "df_sexo_ohe = pd.DataFrame(ohe.transform(sexo_ohe).toarray(),columns = ohe.categories_[0].tolist())\n",
    "df_sexo_ohe"
   ]
  },
  {
   "cell_type": "code",
   "execution_count": null,
   "metadata": {},
   "outputs": [],
   "source": [
    "# 9 - Detecte e elimine os outliers da variável 'idade'.\n",
    "\n",
    "plt.figure(figsize=[8,6])\n",
    "plt.title(\"Boxplot - Idade\", fontsize = 14, fontweight = 'bold')\n",
    "plt.boxplot(df.idade)\n",
    "plt.show()"
   ]
  },
  {
   "cell_type": "code",
   "execution_count": null,
   "metadata": {},
   "outputs": [],
   "source": [
    "# cálculo do intervalo interquartil:\n",
    "\n",
    "i_quartil = np.percentile(df.idade, 75) - np.percentile(df.idade, 25)\n",
    "i_quartil"
   ]
  },
  {
   "cell_type": "code",
   "execution_count": null,
   "metadata": {},
   "outputs": [],
   "source": [
    "# cálculo limite inferior:\n",
    "\n",
    "limite_inf = np.maximum(np.percentile(df.idade, 25) - 1.5 * i_quartil, np.min(df.idade))\n",
    "limite_inf"
   ]
  },
  {
   "cell_type": "code",
   "execution_count": null,
   "metadata": {},
   "outputs": [],
   "source": [
    "# cálculo limite superior:\n",
    "\n",
    "limite_sup = np.minimum(np.percentile(df.idade, 75) + 1.5 * i_quartil, np.max(df.idade))\n",
    "limite_sup"
   ]
  },
  {
   "cell_type": "code",
   "execution_count": null,
   "metadata": {},
   "outputs": [],
   "source": [
    "def detecta_outlier(x, limite = 1.5):\n",
    "    i_quartil = np.percentile(x, 75) - np.percentile(x, 25)\n",
    "    limite_inf = np.maximum(np.percentile(x, 25) - limite * i_quartil, np.min(x))\n",
    "    limite_sup = np.minimum(np.percentile(x, 75) + limite * i_quartil, np.max(x))\n",
    "    return np.where((x < limite_inf) | (x > limite_sup), 1, 0)"
   ]
  },
  {
   "cell_type": "code",
   "execution_count": null,
   "metadata": {},
   "outputs": [],
   "source": [
    "df['outlier_idade'] = detecta_outlier(df.idade)"
   ]
  },
  {
   "cell_type": "code",
   "execution_count": null,
   "metadata": {},
   "outputs": [],
   "source": [
    "df"
   ]
  },
  {
   "cell_type": "code",
   "execution_count": null,
   "metadata": {},
   "outputs": [],
   "source": [
    "# eliminando os outliers do df:\n",
    "\n",
    "df = df.drop(df[df.outlier_idade == 1].index)"
   ]
  },
  {
   "cell_type": "code",
   "execution_count": null,
   "metadata": {},
   "outputs": [],
   "source": [
    "df"
   ]
  },
  {
   "cell_type": "code",
   "execution_count": 24,
   "metadata": {},
   "outputs": [],
   "source": [
    "# 10 - Escreva uma função que receba o dataframe em sua forma original e retorne o dataframe modificado,\n",
    "# após todas as transformações dos itens acima.\n",
    "\n",
    "def preprocessamento(df, cols_numericas, cols_categoricas, cols_ohe, limite = 1.5):\n",
    "    dff = df.copy()\n",
    "    \n",
    "    # tratando as variáveis faltantes:\n",
    "    temp = (df.isnull().sum() / df.shape[0]) >= 0.9\n",
    "    variaveis_90percFaltantes = temp.loc[temp == True].index.tolist()\n",
    "    for v in variaveis_90percFaltantes:\n",
    "        dff = dff.drop(v, axis = 1)\n",
    "        \n",
    "    cols_numericas = list(set(cols_numericas).intersection(set(dff.columns.tolist())))\n",
    "    cols_categoricas = list(set(cols_categoricas).intersection(set(dff.columns.tolist())))\n",
    "        \n",
    "    for v in cols_numericas:\n",
    "        dff[v] = dff[v].fillna(dff[v].mean())\n",
    "        \n",
    "    for v in cols_categoricas:\n",
    "        mode_v = dff[v].value_counts().idxmax()\n",
    "        dff[v] = dff[v].fillna(mode_v)\n",
    "    \n",
    "    mm_scaler = MinMaxScaler()\n",
    "    ss_scaler = StandardScaler()\n",
    "    ohe = OneHotEncoder()\n",
    "    \n",
    "    # Minmax na variável 'tempo_educacao':\n",
    "    tempo_edu_mm = dff.tempo_educacao.values.reshape(-1,1)\n",
    "    mm_scaler.fit(tempo_edu_mm)\n",
    "    mm_scaler.transform(tempo_edu_mm)\n",
    "    \n",
    "    # StandardScaler na variável 'horas_por_semana':\n",
    "    horas_semana_ss = dff.horas_por_semana.values.reshape(-1,1)\n",
    "    ss_scaler.fit(horas_semana_ss)\n",
    "    ss_scaler.transform(horas_semana_ss)\n",
    "    \n",
    "    # Ohe-Hot-Encoding nas variáveis 'estado_civil', 'cor' e 'sexo':\n",
    "    cols_ohe = list(set(cols_ohe).intersection(set(dff.columns.tolist())))\n",
    "    \n",
    "    for v in cols_ohe:\n",
    "        v_ohe = dff[v].values.reshape(-1,1)\n",
    "        ohe.fit(v_ohe)\n",
    "        ohe.transform(v_ohe)\n",
    "        ohe.transform(v_ohe).toarray()\n",
    "        df_ohe = pd.DataFrame(ohe.transform(v_ohe).toarray(),columns = ohe.categories_[0].tolist())\n",
    "    \n",
    "    # Detectar e eliminar outliers da variável idade:\n",
    "    i_quartil = np.percentile(dff.idade, 75) - np.percentile(dff.idade, 25)\n",
    "    limite_inf = np.maximum(np.percentile(dff.idade, 25) - 1.5 * i_quartil, np.min(dff.idade))\n",
    "    limite_sup = np.minimum(np.percentile(dff.idade, 75) + 1.5 * i_quartil, np.max(dff.idade))\n",
    "    dff['outlier_idade'] = np.where((dff.idade < limite_inf) | (dff.idade > limite_sup), 1, 0)\n",
    "    dff = dff.drop(dff[dff.outlier_idade == 1].index)\n",
    "    \n",
    "    return dff"
   ]
  },
  {
   "cell_type": "code",
   "execution_count": 25,
   "metadata": {},
   "outputs": [
    {
     "data": {
      "text/html": [
       "<div>\n",
       "<style scoped>\n",
       "    .dataframe tbody tr th:only-of-type {\n",
       "        vertical-align: middle;\n",
       "    }\n",
       "\n",
       "    .dataframe tbody tr th {\n",
       "        vertical-align: top;\n",
       "    }\n",
       "\n",
       "    .dataframe thead th {\n",
       "        text-align: right;\n",
       "    }\n",
       "</style>\n",
       "<table border=\"1\" class=\"dataframe\">\n",
       "  <thead>\n",
       "    <tr style=\"text-align: right;\">\n",
       "      <th></th>\n",
       "      <th>idade</th>\n",
       "      <th>tempo_educacao</th>\n",
       "      <th>estado_civil</th>\n",
       "      <th>cor</th>\n",
       "      <th>sexo</th>\n",
       "      <th>horas_por_semana</th>\n",
       "      <th>salario_anual</th>\n",
       "      <th>nome</th>\n",
       "      <th>dívida</th>\n",
       "    </tr>\n",
       "  </thead>\n",
       "  <tbody>\n",
       "    <tr>\n",
       "      <th>0</th>\n",
       "      <td>39.0</td>\n",
       "      <td>13</td>\n",
       "      <td>Never-married</td>\n",
       "      <td>White</td>\n",
       "      <td>Male</td>\n",
       "      <td>40</td>\n",
       "      <td>&lt;=50K</td>\n",
       "      <td>NaN</td>\n",
       "      <td>NaN</td>\n",
       "    </tr>\n",
       "    <tr>\n",
       "      <th>1</th>\n",
       "      <td>50.0</td>\n",
       "      <td>13</td>\n",
       "      <td>Married-civ-spouse</td>\n",
       "      <td>White</td>\n",
       "      <td>Male</td>\n",
       "      <td>13</td>\n",
       "      <td>&lt;=50K</td>\n",
       "      <td>NaN</td>\n",
       "      <td>NaN</td>\n",
       "    </tr>\n",
       "    <tr>\n",
       "      <th>2</th>\n",
       "      <td>38.0</td>\n",
       "      <td>9</td>\n",
       "      <td>Divorced</td>\n",
       "      <td>White</td>\n",
       "      <td>Male</td>\n",
       "      <td>40</td>\n",
       "      <td>&lt;=50K</td>\n",
       "      <td>NaN</td>\n",
       "      <td>NaN</td>\n",
       "    </tr>\n",
       "    <tr>\n",
       "      <th>3</th>\n",
       "      <td>53.0</td>\n",
       "      <td>7</td>\n",
       "      <td>Married-civ-spouse</td>\n",
       "      <td>Black</td>\n",
       "      <td>Male</td>\n",
       "      <td>40</td>\n",
       "      <td>&lt;=50K</td>\n",
       "      <td>NaN</td>\n",
       "      <td>NaN</td>\n",
       "    </tr>\n",
       "    <tr>\n",
       "      <th>4</th>\n",
       "      <td>37.0</td>\n",
       "      <td>14</td>\n",
       "      <td>Married-civ-spouse</td>\n",
       "      <td>White</td>\n",
       "      <td>Female</td>\n",
       "      <td>40</td>\n",
       "      <td>&lt;=50K</td>\n",
       "      <td>NaN</td>\n",
       "      <td>NaN</td>\n",
       "    </tr>\n",
       "    <tr>\n",
       "      <th>...</th>\n",
       "      <td>...</td>\n",
       "      <td>...</td>\n",
       "      <td>...</td>\n",
       "      <td>...</td>\n",
       "      <td>...</td>\n",
       "      <td>...</td>\n",
       "      <td>...</td>\n",
       "      <td>...</td>\n",
       "      <td>...</td>\n",
       "    </tr>\n",
       "    <tr>\n",
       "      <th>29165</th>\n",
       "      <td>27.0</td>\n",
       "      <td>12</td>\n",
       "      <td>Married-civ-spouse</td>\n",
       "      <td>White</td>\n",
       "      <td>Female</td>\n",
       "      <td>38</td>\n",
       "      <td>&lt;=50K</td>\n",
       "      <td>NaN</td>\n",
       "      <td>NaN</td>\n",
       "    </tr>\n",
       "    <tr>\n",
       "      <th>29166</th>\n",
       "      <td>40.0</td>\n",
       "      <td>9</td>\n",
       "      <td>Married-civ-spouse</td>\n",
       "      <td>White</td>\n",
       "      <td>Male</td>\n",
       "      <td>40</td>\n",
       "      <td>&gt;50K</td>\n",
       "      <td>NaN</td>\n",
       "      <td>NaN</td>\n",
       "    </tr>\n",
       "    <tr>\n",
       "      <th>29167</th>\n",
       "      <td>58.0</td>\n",
       "      <td>9</td>\n",
       "      <td>Widowed</td>\n",
       "      <td>White</td>\n",
       "      <td>Female</td>\n",
       "      <td>40</td>\n",
       "      <td>&lt;=50K</td>\n",
       "      <td>NaN</td>\n",
       "      <td>NaN</td>\n",
       "    </tr>\n",
       "    <tr>\n",
       "      <th>29168</th>\n",
       "      <td>22.0</td>\n",
       "      <td>9</td>\n",
       "      <td>Never-married</td>\n",
       "      <td>White</td>\n",
       "      <td>Male</td>\n",
       "      <td>20</td>\n",
       "      <td>&lt;=50K</td>\n",
       "      <td>NaN</td>\n",
       "      <td>NaN</td>\n",
       "    </tr>\n",
       "    <tr>\n",
       "      <th>29169</th>\n",
       "      <td>52.0</td>\n",
       "      <td>9</td>\n",
       "      <td>Married-civ-spouse</td>\n",
       "      <td>White</td>\n",
       "      <td>Female</td>\n",
       "      <td>40</td>\n",
       "      <td>&gt;50K</td>\n",
       "      <td>NaN</td>\n",
       "      <td>NaN</td>\n",
       "    </tr>\n",
       "  </tbody>\n",
       "</table>\n",
       "<p>29170 rows × 9 columns</p>\n",
       "</div>"
      ],
      "text/plain": [
       "       idade  tempo_educacao        estado_civil    cor    sexo  \\\n",
       "0       39.0              13       Never-married  White    Male   \n",
       "1       50.0              13  Married-civ-spouse  White    Male   \n",
       "2       38.0               9            Divorced  White    Male   \n",
       "3       53.0               7  Married-civ-spouse  Black    Male   \n",
       "4       37.0              14  Married-civ-spouse  White  Female   \n",
       "...      ...             ...                 ...    ...     ...   \n",
       "29165   27.0              12  Married-civ-spouse  White  Female   \n",
       "29166   40.0               9  Married-civ-spouse  White    Male   \n",
       "29167   58.0               9             Widowed  White  Female   \n",
       "29168   22.0               9       Never-married  White    Male   \n",
       "29169   52.0               9  Married-civ-spouse  White  Female   \n",
       "\n",
       "       horas_por_semana salario_anual  nome  dívida  \n",
       "0                    40         <=50K   NaN     NaN  \n",
       "1                    13         <=50K   NaN     NaN  \n",
       "2                    40         <=50K   NaN     NaN  \n",
       "3                    40         <=50K   NaN     NaN  \n",
       "4                    40         <=50K   NaN     NaN  \n",
       "...                 ...           ...   ...     ...  \n",
       "29165                38         <=50K   NaN     NaN  \n",
       "29166                40          >50K   NaN     NaN  \n",
       "29167                40         <=50K   NaN     NaN  \n",
       "29168                20         <=50K   NaN     NaN  \n",
       "29169                40          >50K   NaN     NaN  \n",
       "\n",
       "[29170 rows x 9 columns]"
      ]
     },
     "execution_count": 25,
     "metadata": {},
     "output_type": "execute_result"
    }
   ],
   "source": [
    "df"
   ]
  },
  {
   "cell_type": "code",
   "execution_count": 26,
   "metadata": {},
   "outputs": [
    {
     "data": {
      "text/html": [
       "<div>\n",
       "<style scoped>\n",
       "    .dataframe tbody tr th:only-of-type {\n",
       "        vertical-align: middle;\n",
       "    }\n",
       "\n",
       "    .dataframe tbody tr th {\n",
       "        vertical-align: top;\n",
       "    }\n",
       "\n",
       "    .dataframe thead th {\n",
       "        text-align: right;\n",
       "    }\n",
       "</style>\n",
       "<table border=\"1\" class=\"dataframe\">\n",
       "  <thead>\n",
       "    <tr style=\"text-align: right;\">\n",
       "      <th></th>\n",
       "      <th>idade</th>\n",
       "      <th>tempo_educacao</th>\n",
       "      <th>estado_civil</th>\n",
       "      <th>cor</th>\n",
       "      <th>sexo</th>\n",
       "      <th>horas_por_semana</th>\n",
       "      <th>salario_anual</th>\n",
       "      <th>outlier_idade</th>\n",
       "    </tr>\n",
       "  </thead>\n",
       "  <tbody>\n",
       "    <tr>\n",
       "      <th>0</th>\n",
       "      <td>39.0</td>\n",
       "      <td>13</td>\n",
       "      <td>Never-married</td>\n",
       "      <td>White</td>\n",
       "      <td>Male</td>\n",
       "      <td>40</td>\n",
       "      <td>&lt;=50K</td>\n",
       "      <td>0</td>\n",
       "    </tr>\n",
       "    <tr>\n",
       "      <th>1</th>\n",
       "      <td>50.0</td>\n",
       "      <td>13</td>\n",
       "      <td>Married-civ-spouse</td>\n",
       "      <td>White</td>\n",
       "      <td>Male</td>\n",
       "      <td>13</td>\n",
       "      <td>&lt;=50K</td>\n",
       "      <td>0</td>\n",
       "    </tr>\n",
       "    <tr>\n",
       "      <th>2</th>\n",
       "      <td>38.0</td>\n",
       "      <td>9</td>\n",
       "      <td>Divorced</td>\n",
       "      <td>White</td>\n",
       "      <td>Male</td>\n",
       "      <td>40</td>\n",
       "      <td>&lt;=50K</td>\n",
       "      <td>0</td>\n",
       "    </tr>\n",
       "    <tr>\n",
       "      <th>3</th>\n",
       "      <td>53.0</td>\n",
       "      <td>7</td>\n",
       "      <td>Married-civ-spouse</td>\n",
       "      <td>Black</td>\n",
       "      <td>Male</td>\n",
       "      <td>40</td>\n",
       "      <td>&lt;=50K</td>\n",
       "      <td>0</td>\n",
       "    </tr>\n",
       "    <tr>\n",
       "      <th>4</th>\n",
       "      <td>37.0</td>\n",
       "      <td>14</td>\n",
       "      <td>Married-civ-spouse</td>\n",
       "      <td>White</td>\n",
       "      <td>Female</td>\n",
       "      <td>40</td>\n",
       "      <td>&lt;=50K</td>\n",
       "      <td>0</td>\n",
       "    </tr>\n",
       "    <tr>\n",
       "      <th>...</th>\n",
       "      <td>...</td>\n",
       "      <td>...</td>\n",
       "      <td>...</td>\n",
       "      <td>...</td>\n",
       "      <td>...</td>\n",
       "      <td>...</td>\n",
       "      <td>...</td>\n",
       "      <td>...</td>\n",
       "    </tr>\n",
       "    <tr>\n",
       "      <th>29165</th>\n",
       "      <td>27.0</td>\n",
       "      <td>12</td>\n",
       "      <td>Married-civ-spouse</td>\n",
       "      <td>White</td>\n",
       "      <td>Female</td>\n",
       "      <td>38</td>\n",
       "      <td>&lt;=50K</td>\n",
       "      <td>0</td>\n",
       "    </tr>\n",
       "    <tr>\n",
       "      <th>29166</th>\n",
       "      <td>40.0</td>\n",
       "      <td>9</td>\n",
       "      <td>Married-civ-spouse</td>\n",
       "      <td>White</td>\n",
       "      <td>Male</td>\n",
       "      <td>40</td>\n",
       "      <td>&gt;50K</td>\n",
       "      <td>0</td>\n",
       "    </tr>\n",
       "    <tr>\n",
       "      <th>29167</th>\n",
       "      <td>58.0</td>\n",
       "      <td>9</td>\n",
       "      <td>Widowed</td>\n",
       "      <td>White</td>\n",
       "      <td>Female</td>\n",
       "      <td>40</td>\n",
       "      <td>&lt;=50K</td>\n",
       "      <td>0</td>\n",
       "    </tr>\n",
       "    <tr>\n",
       "      <th>29168</th>\n",
       "      <td>22.0</td>\n",
       "      <td>9</td>\n",
       "      <td>Never-married</td>\n",
       "      <td>White</td>\n",
       "      <td>Male</td>\n",
       "      <td>20</td>\n",
       "      <td>&lt;=50K</td>\n",
       "      <td>0</td>\n",
       "    </tr>\n",
       "    <tr>\n",
       "      <th>29169</th>\n",
       "      <td>52.0</td>\n",
       "      <td>9</td>\n",
       "      <td>Married-civ-spouse</td>\n",
       "      <td>White</td>\n",
       "      <td>Female</td>\n",
       "      <td>40</td>\n",
       "      <td>&gt;50K</td>\n",
       "      <td>0</td>\n",
       "    </tr>\n",
       "  </tbody>\n",
       "</table>\n",
       "<p>29044 rows × 8 columns</p>\n",
       "</div>"
      ],
      "text/plain": [
       "       idade  tempo_educacao        estado_civil    cor    sexo  \\\n",
       "0       39.0              13       Never-married  White    Male   \n",
       "1       50.0              13  Married-civ-spouse  White    Male   \n",
       "2       38.0               9            Divorced  White    Male   \n",
       "3       53.0               7  Married-civ-spouse  Black    Male   \n",
       "4       37.0              14  Married-civ-spouse  White  Female   \n",
       "...      ...             ...                 ...    ...     ...   \n",
       "29165   27.0              12  Married-civ-spouse  White  Female   \n",
       "29166   40.0               9  Married-civ-spouse  White    Male   \n",
       "29167   58.0               9             Widowed  White  Female   \n",
       "29168   22.0               9       Never-married  White    Male   \n",
       "29169   52.0               9  Married-civ-spouse  White  Female   \n",
       "\n",
       "       horas_por_semana salario_anual  outlier_idade  \n",
       "0                    40         <=50K              0  \n",
       "1                    13         <=50K              0  \n",
       "2                    40         <=50K              0  \n",
       "3                    40         <=50K              0  \n",
       "4                    40         <=50K              0  \n",
       "...                 ...           ...            ...  \n",
       "29165                38         <=50K              0  \n",
       "29166                40          >50K              0  \n",
       "29167                40         <=50K              0  \n",
       "29168                20         <=50K              0  \n",
       "29169                40          >50K              0  \n",
       "\n",
       "[29044 rows x 8 columns]"
      ]
     },
     "execution_count": 26,
     "metadata": {},
     "output_type": "execute_result"
    }
   ],
   "source": [
    "df_limpo = preprocessamento(df = df, \n",
    "                            cols_numericas = ['idade', 'tempo_educacao', 'horas_por_semana', 'dívida'], \n",
    "                            cols_categoricas = ['estado_civil', 'cor', 'sexo', 'nome', 'salario_anual'],\n",
    "                            cols_ohe = ['estado_civil', 'cor', 'sexo'])\n",
    "\n",
    "df_limpo"
   ]
  }
 ],
 "metadata": {
  "kernelspec": {
   "display_name": "Python 3",
   "language": "python",
   "name": "python3"
  },
  "language_info": {
   "codemirror_mode": {
    "name": "ipython",
    "version": 3
   },
   "file_extension": ".py",
   "mimetype": "text/x-python",
   "name": "python",
   "nbconvert_exporter": "python",
   "pygments_lexer": "ipython3",
   "version": "3.8.5"
  }
 },
 "nbformat": 4,
 "nbformat_minor": 2
}
