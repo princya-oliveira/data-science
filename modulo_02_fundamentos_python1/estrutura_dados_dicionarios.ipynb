{
 "cells": [
  {
   "cell_type": "markdown",
   "metadata": {},
   "source": [
    "**Dicionários**\n",
    "\n",
    "*Diferentemente da tupla e lista o dicionário não é uma coleção de elementos, ele é uma coleção de pares de elementos (chave-valor)*"
   ]
  },
  {
   "cell_type": "code",
   "execution_count": 1,
   "metadata": {},
   "outputs": [],
   "source": [
    "#Criando dicionários:\n",
    "\n",
    "dicionario = {}"
   ]
  },
  {
   "cell_type": "code",
   "execution_count": 2,
   "metadata": {},
   "outputs": [
    {
     "data": {
      "text/plain": [
       "{}"
      ]
     },
     "execution_count": 2,
     "metadata": {},
     "output_type": "execute_result"
    }
   ],
   "source": [
    "#Visualizando elementos do dicionário:\n",
    "\n",
    "dicionario"
   ]
  },
  {
   "cell_type": "code",
   "execution_count": 3,
   "metadata": {},
   "outputs": [
    {
     "data": {
      "text/plain": [
       "dict"
      ]
     },
     "execution_count": 3,
     "metadata": {},
     "output_type": "execute_result"
    }
   ],
   "source": [
    "type(dicionario)"
   ]
  },
  {
   "cell_type": "code",
   "execution_count": 4,
   "metadata": {},
   "outputs": [
    {
     "data": {
      "text/plain": [
       "0"
      ]
     },
     "execution_count": 4,
     "metadata": {},
     "output_type": "execute_result"
    }
   ],
   "source": [
    "len(dicionario)"
   ]
  },
  {
   "cell_type": "code",
   "execution_count": 5,
   "metadata": {},
   "outputs": [],
   "source": [
    "#Podemos usar também a função dict()\n",
    "\n",
    "dicionario = dict()"
   ]
  },
  {
   "cell_type": "code",
   "execution_count": 6,
   "metadata": {},
   "outputs": [
    {
     "data": {
      "text/plain": [
       "{}"
      ]
     },
     "execution_count": 6,
     "metadata": {},
     "output_type": "execute_result"
    }
   ],
   "source": [
    "dicionario"
   ]
  },
  {
   "cell_type": "code",
   "execution_count": 7,
   "metadata": {},
   "outputs": [],
   "source": [
    "#dicionario = {chave: valor} -- chave pode ser string, int...\n",
    "#Ex.: suponha que uma professora queira guardar as notas dos alunos "
   ]
  },
  {
   "cell_type": "code",
   "execution_count": 8,
   "metadata": {},
   "outputs": [],
   "source": [
    "notas = [10,9.5,8,7,7.5] #de quem é cada nota?"
   ]
  },
  {
   "cell_type": "code",
   "execution_count": 9,
   "metadata": {},
   "outputs": [],
   "source": [
    "#uma opção melhor seria usando o dicionário:\n",
    "\n",
    "primeiro_dict = {\"João\": 10, \"Maria\": 7.5, \"Pedro\": 6}"
   ]
  },
  {
   "cell_type": "code",
   "execution_count": 10,
   "metadata": {},
   "outputs": [
    {
     "data": {
      "text/plain": [
       "{'João': 10, 'Maria': 7.5, 'Pedro': 6}"
      ]
     },
     "execution_count": 10,
     "metadata": {},
     "output_type": "execute_result"
    }
   ],
   "source": [
    "#As chaves devem ser únicas\n",
    "\n",
    "primeiro_dict"
   ]
  },
  {
   "cell_type": "code",
   "execution_count": 13,
   "metadata": {},
   "outputs": [],
   "source": [
    "#Adicionando o par (João,9) no primeiro_dict\n",
    "primeiro_dict[\"João\"] = 9"
   ]
  },
  {
   "cell_type": "code",
   "execution_count": 14,
   "metadata": {},
   "outputs": [
    {
     "data": {
      "text/plain": [
       "{'João': 9, 'Maria': 7.5, 'Pedro': 6}"
      ]
     },
     "execution_count": 14,
     "metadata": {},
     "output_type": "execute_result"
    }
   ],
   "source": [
    "primeiro_dict #como a chave João já existe ele apenas sobreescreveu o novo valor indicado para aquela chave"
   ]
  },
  {
   "cell_type": "code",
   "execution_count": 15,
   "metadata": {},
   "outputs": [],
   "source": [
    "primeiro_dict[\"Mariana\"] = 8.7"
   ]
  },
  {
   "cell_type": "code",
   "execution_count": 16,
   "metadata": {},
   "outputs": [
    {
     "data": {
      "text/plain": [
       "{'João': 9, 'Maria': 7.5, 'Pedro': 6, 'Mariana': 8.7}"
      ]
     },
     "execution_count": 16,
     "metadata": {},
     "output_type": "execute_result"
    }
   ],
   "source": [
    "primeiro_dict"
   ]
  },
  {
   "cell_type": "code",
   "execution_count": 17,
   "metadata": {},
   "outputs": [],
   "source": [
    "primeiro_dict.update({\"Joaquim\": 7.7}) #inclui o novo elemento ao final da sequência"
   ]
  },
  {
   "cell_type": "code",
   "execution_count": 18,
   "metadata": {},
   "outputs": [
    {
     "data": {
      "text/plain": [
       "{'João': 9, 'Maria': 7.5, 'Pedro': 6, 'Mariana': 8.7, 'Joaquim': 7.7}"
      ]
     },
     "execution_count": 18,
     "metadata": {},
     "output_type": "execute_result"
    }
   ],
   "source": [
    "primeiro_dict"
   ]
  },
  {
   "cell_type": "code",
   "execution_count": 19,
   "metadata": {},
   "outputs": [
    {
     "data": {
      "text/plain": [
       "5"
      ]
     },
     "execution_count": 19,
     "metadata": {},
     "output_type": "execute_result"
    }
   ],
   "source": [
    "len(primeiro_dict) #quantidade de chaves dentro do dicionário"
   ]
  },
  {
   "cell_type": "code",
   "execution_count": 20,
   "metadata": {},
   "outputs": [],
   "source": [
    "#A inspiração é um dicionário mesmo, como por exemplo um dicionário inglês>portugues:\n",
    "\n",
    "dic_en_pt = {\"data science\": \"ciência de dados\",\n",
    "            \"machine learning\": \"aprendizado de máquina\",\n",
    "            \"deep learning\": \"aprendizado profundo\"}"
   ]
  },
  {
   "cell_type": "code",
   "execution_count": 21,
   "metadata": {},
   "outputs": [
    {
     "data": {
      "text/plain": [
       "{'data science': 'ciência de dados',\n",
       " 'machine learning': 'aprendizado de máquina',\n",
       " 'deep learning': 'aprendizado profundo'}"
      ]
     },
     "execution_count": 21,
     "metadata": {},
     "output_type": "execute_result"
    }
   ],
   "source": [
    "dic_en_pt"
   ]
  },
  {
   "cell_type": "markdown",
   "metadata": {},
   "source": [
    "**Acessando valores**"
   ]
  },
  {
   "cell_type": "code",
   "execution_count": 22,
   "metadata": {},
   "outputs": [
    {
     "data": {
      "text/plain": [
       "{'João': 9, 'Maria': 7.5, 'Pedro': 6, 'Mariana': 8.7, 'Joaquim': 7.7}"
      ]
     },
     "execution_count": 22,
     "metadata": {},
     "output_type": "execute_result"
    }
   ],
   "source": [
    "primeiro_dict"
   ]
  },
  {
   "cell_type": "code",
   "execution_count": 23,
   "metadata": {},
   "outputs": [
    {
     "data": {
      "text/plain": [
       "9"
      ]
     },
     "execution_count": 23,
     "metadata": {},
     "output_type": "execute_result"
    }
   ],
   "source": [
    "#Acessando valores via chaves:\n",
    "\n",
    "primeiro_dict[\"João\"]"
   ]
  },
  {
   "cell_type": "code",
   "execution_count": 24,
   "metadata": {},
   "outputs": [
    {
     "data": {
      "text/plain": [
       "9"
      ]
     },
     "execution_count": 24,
     "metadata": {},
     "output_type": "execute_result"
    }
   ],
   "source": [
    "primeiro_dict.get(\"João\")"
   ]
  },
  {
   "cell_type": "code",
   "execution_count": 27,
   "metadata": {},
   "outputs": [],
   "source": [
    "#Python é case sensitive, então nãi tem João com j minusculo como chave:\n",
    "primeiro_dict.get(\"joão\")"
   ]
  },
  {
   "cell_type": "code",
   "execution_count": 28,
   "metadata": {},
   "outputs": [
    {
     "ename": "KeyError",
     "evalue": "0",
     "output_type": "error",
     "traceback": [
      "\u001b[1;31m---------------------------------------------------------------------------\u001b[0m",
      "\u001b[1;31mKeyError\u001b[0m                                  Traceback (most recent call last)",
      "\u001b[1;32m<ipython-input-28-53ad19b155ca>\u001b[0m in \u001b[0;36m<module>\u001b[1;34m\u001b[0m\n\u001b[0;32m      1\u001b[0m \u001b[1;31m#Indexação é pela chave não pela posição como nas letras\u001b[0m\u001b[1;33m\u001b[0m\u001b[1;33m\u001b[0m\u001b[1;33m\u001b[0m\u001b[0m\n\u001b[0;32m      2\u001b[0m \u001b[1;33m\u001b[0m\u001b[0m\n\u001b[1;32m----> 3\u001b[1;33m \u001b[0mprimeiro_dict\u001b[0m\u001b[1;33m[\u001b[0m\u001b[1;36m0\u001b[0m\u001b[1;33m]\u001b[0m\u001b[1;33m\u001b[0m\u001b[1;33m\u001b[0m\u001b[0m\n\u001b[0m",
      "\u001b[1;31mKeyError\u001b[0m: 0"
     ]
    }
   ],
   "source": [
    "#Indexação é pela chave não pela posição como nas letras\n",
    "\n",
    "primeiro_dict[0]"
   ]
  },
  {
   "cell_type": "markdown",
   "metadata": {},
   "source": [
    "**Alterando valores**"
   ]
  },
  {
   "cell_type": "code",
   "execution_count": 29,
   "metadata": {},
   "outputs": [
    {
     "data": {
      "text/plain": [
       "{'João': 9, 'Maria': 7.5, 'Pedro': 6, 'Mariana': 8.7, 'Joaquim': 7.7}"
      ]
     },
     "execution_count": 29,
     "metadata": {},
     "output_type": "execute_result"
    }
   ],
   "source": [
    "primeiro_dict"
   ]
  },
  {
   "cell_type": "code",
   "execution_count": 30,
   "metadata": {},
   "outputs": [],
   "source": [
    "#Dicionário é mutável\n",
    "primeiro_dict[\"Pedro\"] = 6.5"
   ]
  },
  {
   "cell_type": "code",
   "execution_count": 31,
   "metadata": {},
   "outputs": [
    {
     "data": {
      "text/plain": [
       "{'João': 9, 'Maria': 7.5, 'Pedro': 6.5, 'Mariana': 8.7, 'Joaquim': 7.7}"
      ]
     },
     "execution_count": 31,
     "metadata": {},
     "output_type": "execute_result"
    }
   ],
   "source": [
    "primeiro_dict"
   ]
  },
  {
   "cell_type": "code",
   "execution_count": 32,
   "metadata": {},
   "outputs": [],
   "source": [
    "#Valores podem ser: inteiros, strings, boleanos, listas, tuplas...\n",
    "\n",
    "dict_duas_notas = {\"João\": [9,9.5], \"Maria\": [7.5,8]}"
   ]
  },
  {
   "cell_type": "code",
   "execution_count": 33,
   "metadata": {},
   "outputs": [
    {
     "data": {
      "text/plain": [
       "{'João': [9, 9.5], 'Maria': [7.5, 8]}"
      ]
     },
     "execution_count": 33,
     "metadata": {},
     "output_type": "execute_result"
    }
   ],
   "source": [
    "dict_duas_notas"
   ]
  },
  {
   "cell_type": "code",
   "execution_count": 38,
   "metadata": {},
   "outputs": [],
   "source": [
    "#Podemos ter dicionários com valores de vários tipos, por exemplo\n",
    "# um dicionário que guarda informações de um formulário:\n",
    "\n",
    "dic_form = {\"nome\": \"João\", \"idade\": 18, \"nota1\": 9.5,\"aprovado\": True}"
   ]
  },
  {
   "cell_type": "code",
   "execution_count": 39,
   "metadata": {},
   "outputs": [
    {
     "data": {
      "text/plain": [
       "{'nome': 'João', 'idade': 18, 'nota1': 9.5, 'aprovado': True}"
      ]
     },
     "execution_count": 39,
     "metadata": {},
     "output_type": "execute_result"
    }
   ],
   "source": [
    "dic_form"
   ]
  },
  {
   "cell_type": "code",
   "execution_count": 34,
   "metadata": {},
   "outputs": [
    {
     "name": "stdout",
     "output_type": "stream",
     "text": [
      "{'nome': 'João', 1: 9, 2: 9.5}\n"
     ]
    }
   ],
   "source": [
    "#Dicionários com chaves de varios tipos, por exemplo:\n",
    "\n",
    "d = {\"nome\":\"João\", 1:9, 2:9.5}\n",
    "print(d)"
   ]
  },
  {
   "cell_type": "code",
   "execution_count": 35,
   "metadata": {},
   "outputs": [
    {
     "data": {
      "text/plain": [
       "dict"
      ]
     },
     "execution_count": 35,
     "metadata": {},
     "output_type": "execute_result"
    }
   ],
   "source": [
    "type(d)"
   ]
  },
  {
   "cell_type": "code",
   "execution_count": 37,
   "metadata": {},
   "outputs": [
    {
     "name": "stdout",
     "output_type": "stream",
     "text": [
      "João 9\n"
     ]
    }
   ],
   "source": [
    "print(d[\"nome\"],d[1])"
   ]
  },
  {
   "cell_type": "markdown",
   "metadata": {},
   "source": [
    "**Funções para dicionários**"
   ]
  },
  {
   "cell_type": "code",
   "execution_count": 40,
   "metadata": {},
   "outputs": [
    {
     "ename": "SyntaxError",
     "evalue": "invalid syntax (<ipython-input-40-dfe72f08cbf8>, line 1)",
     "output_type": "error",
     "traceback": [
      "\u001b[1;36m  File \u001b[1;32m\"<ipython-input-40-dfe72f08cbf8>\"\u001b[1;36m, line \u001b[1;32m1\u001b[0m\n\u001b[1;33m    primeiro_dict. # + tab para ver todas as funções possíveis para esse elemento\u001b[0m\n\u001b[1;37m                   ^\u001b[0m\n\u001b[1;31mSyntaxError\u001b[0m\u001b[1;31m:\u001b[0m invalid syntax\n"
     ]
    }
   ],
   "source": [
    "primeiro_dict. # + tab para ver todas as funções possíveis para esse elemento"
   ]
  },
  {
   "cell_type": "code",
   "execution_count": 41,
   "metadata": {},
   "outputs": [
    {
     "data": {
      "text/plain": [
       "6.5"
      ]
     },
     "execution_count": 41,
     "metadata": {},
     "output_type": "execute_result"
    }
   ],
   "source": [
    "#Função .get() usada para acessar elementos:\n",
    "primeiro_dict.get(\"Pedro\")"
   ]
  },
  {
   "cell_type": "code",
   "execution_count": 42,
   "metadata": {},
   "outputs": [
    {
     "data": {
      "text/plain": [
       "dict_keys(['João', 'Maria', 'Pedro', 'Mariana', 'Joaquim'])"
      ]
     },
     "execution_count": 42,
     "metadata": {},
     "output_type": "execute_result"
    }
   ],
   "source": [
    "# Função .keys() mostra todas as chaves do dicionário:\n",
    "primeiro_dict.keys()"
   ]
  },
  {
   "cell_type": "code",
   "execution_count": 43,
   "metadata": {},
   "outputs": [
    {
     "data": {
      "text/plain": [
       "dict_values([9, 7.5, 6.5, 8.7, 7.7])"
      ]
     },
     "execution_count": 43,
     "metadata": {},
     "output_type": "execute_result"
    }
   ],
   "source": [
    "#Função .values() mostra todos os valores salvos no dicionário:\n",
    "primeiro_dict.values()"
   ]
  },
  {
   "cell_type": "code",
   "execution_count": 44,
   "metadata": {},
   "outputs": [
    {
     "data": {
      "text/plain": [
       "dict_items([('João', 9), ('Maria', 7.5), ('Pedro', 6.5), ('Mariana', 8.7), ('Joaquim', 7.7)])"
      ]
     },
     "execution_count": 44,
     "metadata": {},
     "output_type": "execute_result"
    }
   ],
   "source": [
    "#Função .items() mostra todos os itens (pares chave:valor) do dicionário -- é o mesmo que dar um print no dicionário:\n",
    "primeiro_dict.items()"
   ]
  },
  {
   "cell_type": "code",
   "execution_count": 46,
   "metadata": {},
   "outputs": [
    {
     "data": {
      "text/plain": [
       "7.5"
      ]
     },
     "execution_count": 46,
     "metadata": {},
     "output_type": "execute_result"
    }
   ],
   "source": [
    "#Função .pop() remove a o par chave valor, com chave maria:\n",
    "primeiro_dict.pop(\"Maria\")"
   ]
  },
  {
   "cell_type": "code",
   "execution_count": 47,
   "metadata": {},
   "outputs": [
    {
     "name": "stdout",
     "output_type": "stream",
     "text": [
      "Como era o primeiro dict {'João': 9, 'Pedro': 6.5, 'Mariana': 8.7, 'Joaquim': 7.7}\n",
      "Como ficou o primeiro dict {'João': 9.2, 'Pedro': 6.5, 'Mariana': 8.7, 'Joaquim': 7.7, 'Marisa': 7, 'Sabrina': 5}\n"
     ]
    }
   ],
   "source": [
    "#Função update: podemos usar para concatenar dois dicionários, alterando/mantendo valores caso a chave já exista\n",
    "# se a chave não existir ele cria\n",
    "\n",
    "print(\"Como era o primeiro dict\", primeiro_dict)\n",
    "\n",
    "segundo_dict = {\"Marisa\": 7, \"Sabrina\": 5, \"João\": 9.2}\n",
    "\n",
    "#altera a estrutura do primeiro_dict\n",
    "primeiro_dict.update(segundo_dict)\n",
    "\n",
    "print(\"Como ficou o primeiro dict\", primeiro_dict)"
   ]
  },
  {
   "cell_type": "code",
   "execution_count": 48,
   "metadata": {},
   "outputs": [
    {
     "name": "stdout",
     "output_type": "stream",
     "text": [
      "{}\n"
     ]
    }
   ],
   "source": [
    "#Função .clear() apaga os itens do dicionário:\n",
    "primeiro_dict.clear()\n",
    "\n",
    "print(primeiro_dict)"
   ]
  },
  {
   "cell_type": "markdown",
   "metadata": {},
   "source": [
    "**E como poderíamos pegar duas listas separadas e converter em um dicionário, sem ter que fazer de forma manual?**"
   ]
  },
  {
   "cell_type": "code",
   "execution_count": 49,
   "metadata": {},
   "outputs": [
    {
     "name": "stdout",
     "output_type": "stream",
     "text": [
      "['Maria', 'João', 'Pedro', 'Mariana']\n",
      "[7.5, 9, 6.5, 8.7]\n"
     ]
    }
   ],
   "source": [
    "lista_nomes = [\"Maria\", \"João\", \"Pedro\", \"Mariana\"]\n",
    "lista_notas = [7.5,9,6.5,8.7]\n",
    "\n",
    "print(lista_nomes)\n",
    "print(lista_notas)"
   ]
  },
  {
   "cell_type": "code",
   "execution_count": 50,
   "metadata": {},
   "outputs": [
    {
     "data": {
      "text/plain": [
       "[('Maria', 7.5), ('João', 9), ('Pedro', 6.5), ('Mariana', 8.7)]"
      ]
     },
     "execution_count": 50,
     "metadata": {},
     "output_type": "execute_result"
    }
   ],
   "source": [
    "#Função ZIP:\n",
    "\n",
    "#criamos uma lista com tuplas, que serão nossos pares chave:valor no dicionário\n",
    "lista_pares = list(zip(lista_nomes, lista_notas)) ; lista_pares"
   ]
  },
  {
   "cell_type": "code",
   "execution_count": 51,
   "metadata": {},
   "outputs": [
    {
     "name": "stdout",
     "output_type": "stream",
     "text": [
      "{'Maria': 7.5, 'João': 9, 'Pedro': 6.5, 'Mariana': 8.7}\n"
     ]
    }
   ],
   "source": [
    "dicionario_nome_nota = dict(lista_pares)\n",
    "print(dicionario_nome_nota)"
   ]
  },
  {
   "cell_type": "code",
   "execution_count": null,
   "metadata": {},
   "outputs": [],
   "source": []
  }
 ],
 "metadata": {
  "kernelspec": {
   "display_name": "Python 3",
   "language": "python",
   "name": "python3"
  },
  "language_info": {
   "codemirror_mode": {
    "name": "ipython",
    "version": 3
   },
   "file_extension": ".py",
   "mimetype": "text/x-python",
   "name": "python",
   "nbconvert_exporter": "python",
   "pygments_lexer": "ipython3",
   "version": "3.8.5"
  }
 },
 "nbformat": 4,
 "nbformat_minor": 4
}
