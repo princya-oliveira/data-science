{
 "cells": [
  {
   "cell_type": "markdown",
   "metadata": {},
   "source": [
    "**Métodos e Funções**\n",
    "\n",
    "#Diferença entre:\n",
    "\n",
    "#métodos: não retonam valores\n",
    "\n",
    "#funções: retornam valores\n",
    "\n",
    "#sintaxe: \n",
    "def funcao_faz_algo(arg1, arg2):\n",
    "    ***Texto de documentação***\n",
    "    linha 1\n",
    "    linha 2\n",
    "    return alguma_coisa"
   ]
  },
  {
   "cell_type": "code",
   "execution_count": 1,
   "metadata": {},
   "outputs": [
    {
     "name": "stdout",
     "output_type": "stream",
     "text": [
      "1\n",
      "5\n"
     ]
    }
   ],
   "source": [
    "#Usando funções built-in:\n",
    "\n",
    "lista = [1,2,3,4,5]\n",
    "\n",
    "print(min(lista))\n",
    "print(max(lista))"
   ]
  },
  {
   "cell_type": "code",
   "execution_count": 2,
   "metadata": {},
   "outputs": [
    {
     "data": {
      "text/plain": [
       "4"
      ]
     },
     "execution_count": 2,
     "metadata": {},
     "output_type": "execute_result"
    }
   ],
   "source": [
    "#Função round(arredondar valores)\n",
    "\n",
    "x = 3.5\n",
    "\n",
    "round(x)"
   ]
  },
  {
   "cell_type": "code",
   "execution_count": 3,
   "metadata": {},
   "outputs": [
    {
     "name": "stdout",
     "output_type": "stream",
     "text": [
      "['a', 'b', 'd']\n"
     ]
    }
   ],
   "source": [
    "#Relembrando algumas funções de listas e dicionários\n",
    "\n",
    "l = [\"a\", \"b\", \"c\"]\n",
    "\n",
    "l.append(\"d\")\n",
    "l.remove(\"c\")\n",
    "\n",
    "print(l)"
   ]
  },
  {
   "cell_type": "code",
   "execution_count": 6,
   "metadata": {},
   "outputs": [
    {
     "name": "stdout",
     "output_type": "stream",
     "text": [
      "{'ola': 'hello', 'oi': 'hi', 'ei': 'hey', 'tchau': 'bye'}\n"
     ]
    }
   ],
   "source": [
    "dic = {\"ola\":\"hello\", \"oi\":\"hi\", \"ei\":\"hey\"}\n",
    "\n",
    "dic.update({\"tchau\":\"bye\"})\n",
    "print(dic)"
   ]
  },
  {
   "cell_type": "code",
   "execution_count": 7,
   "metadata": {},
   "outputs": [
    {
     "name": "stdout",
     "output_type": "stream",
     "text": [
      "Help on built-in function min in module builtins:\n",
      "\n",
      "min(...)\n",
      "    min(iterable, *[, default=obj, key=func]) -> value\n",
      "    min(arg1, arg2, *args, *[, key=func]) -> value\n",
      "    \n",
      "    With a single iterable argument, return its smallest item. The\n",
      "    default keyword-only argument specifies an object to return if\n",
      "    the provided iterable is empty.\n",
      "    With two or more arguments, return the smallest argument.\n",
      "\n"
     ]
    }
   ],
   "source": [
    "#help é uma função que dá a descrição do uso de outras funções:\n",
    "\n",
    "help(min)"
   ]
  },
  {
   "cell_type": "markdown",
   "metadata": {},
   "source": [
    "**Criando métodos**\n"
   ]
  },
  {
   "cell_type": "code",
   "execution_count": 8,
   "metadata": {},
   "outputs": [],
   "source": [
    "# def nome_da_funcao():\n",
    "#      bloco de código"
   ]
  },
  {
   "cell_type": "code",
   "execution_count": 9,
   "metadata": {},
   "outputs": [],
   "source": [
    "#Definindo o método:\n",
    "\n",
    "def diz_oi():\n",
    "    print(\"Fala galera!\")"
   ]
  },
  {
   "cell_type": "code",
   "execution_count": 10,
   "metadata": {},
   "outputs": [
    {
     "name": "stdout",
     "output_type": "stream",
     "text": [
      "Fala galera!\n"
     ]
    }
   ],
   "source": [
    "#Executando a função\n",
    "diz_oi()"
   ]
  },
  {
   "cell_type": "code",
   "execution_count": 13,
   "metadata": {},
   "outputs": [],
   "source": [
    "#Métodos com parâmetros\n",
    "\n",
    "def ao_quadrado(x):\n",
    "    print(\"O valor ao quadrado é:\", x**2)"
   ]
  },
  {
   "cell_type": "code",
   "execution_count": 15,
   "metadata": {},
   "outputs": [
    {
     "name": "stdout",
     "output_type": "stream",
     "text": [
      "O valor ao quadrado é: 100\n"
     ]
    }
   ],
   "source": [
    "#Atenção: agora precisamos passar o parâmetro na chamada da função:\n",
    "\n",
    "valor_ao_quadrado = ao_quadrado(10)"
   ]
  },
  {
   "cell_type": "raw",
   "metadata": {},
   "source": [
    "valor_ao_quadrado"
   ]
  },
  {
   "cell_type": "markdown",
   "metadata": {},
   "source": [
    "**Criando funções**"
   ]
  },
  {
   "cell_type": "code",
   "execution_count": 16,
   "metadata": {},
   "outputs": [],
   "source": [
    "# def nome_da_funcao():\n",
    "#     bloco de código\n",
    "#     return"
   ]
  },
  {
   "cell_type": "code",
   "execution_count": 17,
   "metadata": {},
   "outputs": [],
   "source": [
    "def func_ao_quadrado(x):\n",
    "    return (x**2)"
   ]
  },
  {
   "cell_type": "code",
   "execution_count": 21,
   "metadata": {},
   "outputs": [
    {
     "data": {
      "text/plain": [
       "100"
      ]
     },
     "execution_count": 21,
     "metadata": {},
     "output_type": "execute_result"
    }
   ],
   "source": [
    "valor_ao_quadrado = func_ao_quadrado(10)\n",
    "\n",
    "valor_ao_quadrado"
   ]
  },
  {
   "cell_type": "code",
   "execution_count": 22,
   "metadata": {},
   "outputs": [],
   "source": [
    "#Podemos ter mais de um parâmetro:\n",
    "\n",
    "def soma(x,y):\n",
    "    return x + y"
   ]
  },
  {
   "cell_type": "code",
   "execution_count": 23,
   "metadata": {},
   "outputs": [
    {
     "data": {
      "text/plain": [
       "175"
      ]
     },
     "execution_count": 23,
     "metadata": {},
     "output_type": "execute_result"
    }
   ],
   "source": [
    "retorno_soma = soma(100,75); retorno_soma"
   ]
  },
  {
   "cell_type": "code",
   "execution_count": 25,
   "metadata": {},
   "outputs": [],
   "source": [
    "#Utilizando estrutura if-else\n",
    "\n",
    "def identifica_pares(x):\n",
    "    if x % 2 == 0:\n",
    "        print(x, \"é par.\")"
   ]
  },
  {
   "cell_type": "code",
   "execution_count": 26,
   "metadata": {},
   "outputs": [
    {
     "name": "stdout",
     "output_type": "stream",
     "text": [
      "10 é par.\n"
     ]
    }
   ],
   "source": [
    "identifica_pares(10)"
   ]
  },
  {
   "cell_type": "code",
   "execution_count": 27,
   "metadata": {},
   "outputs": [],
   "source": [
    "#Utilizando a estrutura for:\n",
    "\n",
    "def identifica_pares_na_lista(lista):\n",
    "    pares = []\n",
    "    for i in lista:\n",
    "        if i % 2 == 0:\n",
    "            pares.append(i)\n",
    "        else:\n",
    "            continue\n",
    "    return pares"
   ]
  },
  {
   "cell_type": "code",
   "execution_count": 28,
   "metadata": {},
   "outputs": [
    {
     "data": {
      "text/plain": [
       "[2, 4, 6, 8, 10]"
      ]
     },
     "execution_count": 28,
     "metadata": {},
     "output_type": "execute_result"
    }
   ],
   "source": [
    "pares_lista = identifica_pares_na_lista([1,2,3,4,5,6,7,8,9,10])\n",
    "\n",
    "pares_lista"
   ]
  },
  {
   "cell_type": "code",
   "execution_count": 29,
   "metadata": {},
   "outputs": [
    {
     "data": {
      "text/plain": [
       "function"
      ]
     },
     "execution_count": 29,
     "metadata": {},
     "output_type": "execute_result"
    }
   ],
   "source": [
    "type(identifica_pares_na_lista)"
   ]
  },
  {
   "cell_type": "code",
   "execution_count": 30,
   "metadata": {},
   "outputs": [
    {
     "name": "stdout",
     "output_type": "stream",
     "text": [
      "Help on function identifica_pares_na_lista in module __main__:\n",
      "\n",
      "identifica_pares_na_lista(lista)\n",
      "\n"
     ]
    }
   ],
   "source": [
    "help(identifica_pares_na_lista)"
   ]
  },
  {
   "cell_type": "code",
   "execution_count": 31,
   "metadata": {},
   "outputs": [],
   "source": [
    "def identifica_pares_na_lista(lista):\n",
    "    \"\"\"\\n Retorna lista de números pares na lista de input.\"\"\"\n",
    "    \n",
    "    pares = []\n",
    "    for i in lista:\n",
    "        if i % 2 == 0:\n",
    "            pares.append(i)\n",
    "        else:\n",
    "            continue\n",
    "    return pares"
   ]
  },
  {
   "cell_type": "code",
   "execution_count": 32,
   "metadata": {},
   "outputs": [
    {
     "name": "stdout",
     "output_type": "stream",
     "text": [
      "Help on function identifica_pares_na_lista in module __main__:\n",
      "\n",
      "identifica_pares_na_lista(lista)\n",
      "    Retorna lista de números pares na lista de input.\n",
      "\n"
     ]
    }
   ],
   "source": [
    "help(identifica_pares_na_lista)"
   ]
  },
  {
   "cell_type": "code",
   "execution_count": 33,
   "metadata": {},
   "outputs": [],
   "source": [
    "#Para determinados programas, códigos que queremos fazer, podemos construir um arquivo\n",
    "#de funções e depois podemos rodar aqui no notebook, --> funcs.py\n",
    "\n"
   ]
  },
  {
   "cell_type": "code",
   "execution_count": null,
   "metadata": {},
   "outputs": [],
   "source": [
    "# %load minhas_funcs.py\n",
    "def soma(x,y):\n",
    "    return x+y\n",
    "\n",
    "def multiplica(x,y):\n",
    "    return x*y\n",
    "\n",
    "def encontra_max_lista(lista):\n",
    "    return max(lista)\n",
    "\n",
    "def verifica_se_e_par(x):\n",
    "    if x % 2 == 0:\n",
    "        print(x, \"é par\")"
   ]
  },
  {
   "cell_type": "code",
   "execution_count": 41,
   "metadata": {},
   "outputs": [],
   "source": [
    "import minhas_funcs as f #outra forma de chamar/importar as funções que estão no arquivo .py de funções"
   ]
  },
  {
   "cell_type": "code",
   "execution_count": 42,
   "metadata": {},
   "outputs": [
    {
     "data": {
      "text/plain": [
       "5"
      ]
     },
     "execution_count": 42,
     "metadata": {},
     "output_type": "execute_result"
    }
   ],
   "source": [
    "f.encontra_max_lista([1,3,5])"
   ]
  },
  {
   "cell_type": "code",
   "execution_count": 43,
   "metadata": {},
   "outputs": [
    {
     "name": "stdout",
     "output_type": "stream",
     "text": [
      "2 é par\n"
     ]
    }
   ],
   "source": [
    "f.verifica_se_e_par(2)"
   ]
  },
  {
   "cell_type": "code",
   "execution_count": null,
   "metadata": {},
   "outputs": [],
   "source": []
  }
 ],
 "metadata": {
  "kernelspec": {
   "display_name": "Python 3",
   "language": "python",
   "name": "python3"
  },
  "language_info": {
   "codemirror_mode": {
    "name": "ipython",
    "version": 3
   },
   "file_extension": ".py",
   "mimetype": "text/x-python",
   "name": "python",
   "nbconvert_exporter": "python",
   "pygments_lexer": "ipython3",
   "version": "3.8.5"
  }
 },
 "nbformat": 4,
 "nbformat_minor": 4
}
