{
 "cells": [
  {
   "cell_type": "markdown",
   "metadata": {},
   "source": [
    "**Estrutura de Repetição - FOR**"
   ]
  },
  {
   "cell_type": "code",
   "execution_count": 1,
   "metadata": {},
   "outputs": [],
   "source": [
    "#sintaxe: for variavel_iter in sequencia:\n",
    "#   bloco código"
   ]
  },
  {
   "cell_type": "code",
   "execution_count": 16,
   "metadata": {},
   "outputs": [
    {
     "ename": "SyntaxError",
     "evalue": "invalid syntax (<ipython-input-16-cf01770fcd2c>, line 4)",
     "output_type": "error",
     "traceback": [
      "\u001b[1;36m  File \u001b[1;32m\"<ipython-input-16-cf01770fcd2c>\"\u001b[1;36m, line \u001b[1;32m4\u001b[0m\n\u001b[1;33m    for num is range(1,10,2):\u001b[0m\n\u001b[1;37m            ^\u001b[0m\n\u001b[1;31mSyntaxError\u001b[0m\u001b[1;31m:\u001b[0m invalid syntax\n"
     ]
    }
   ],
   "source": [
    "#Podemos iterar em listas (precisa ser um objeto iterável):\n",
    "\n",
    "#roda um número fixo de vezes, nesse caso 5:\n",
    "for num is range(1,10,2):\n",
    "    print(i)"
   ]
  },
  {
   "cell_type": "code",
   "execution_count": 3,
   "metadata": {},
   "outputs": [
    {
     "name": "stdout",
     "output_type": "stream",
     "text": [
      "P\n",
      "Y\n",
      "T\n",
      "H\n",
      "O\n",
      "N\n"
     ]
    }
   ],
   "source": [
    "#Podemos iterar em strings:\n",
    "\n",
    "for letra in \"PYTHON\":\n",
    "    print(letra)"
   ]
  },
  {
   "cell_type": "code",
   "execution_count": 4,
   "metadata": {},
   "outputs": [
    {
     "name": "stdout",
     "output_type": "stream",
     "text": [
      "10\n"
     ]
    }
   ],
   "source": [
    "#Podemos iterar em dicionários:\n",
    "\n",
    "dic_aluno_nota = {\"Maria\": 7.5, \"Joao\": 9, \"Pedro\": 6, \"Mariana\": 10, \"Paulo\": 6.5}\n",
    "\n",
    "#Podemos ver a nota de um único aluno fazendo:\n",
    "\n",
    "print(dic_aluno_nota[\"Mariana\"])"
   ]
  },
  {
   "cell_type": "code",
   "execution_count": 5,
   "metadata": {},
   "outputs": [
    {
     "name": "stdout",
     "output_type": "stream",
     "text": [
      "Maria : 7.5\n",
      "Joao : 9\n",
      "Pedro : 6\n",
      "Mariana : 10\n",
      "Paulo : 6.5\n"
     ]
    }
   ],
   "source": [
    "#Para analisarmos a nota de todos os alunos não faz sentido escrevermos esse código acima várias vezes.\n",
    "#Usamos um loop for para isso.\n",
    "\n",
    "#duas variáveis iteradoras, a chave e o valor:\n",
    "\n",
    "for aluno, nota in dic_aluno_nota.items():\n",
    "    print(aluno,\":\", nota)\n",
    "    "
   ]
  },
  {
   "cell_type": "code",
   "execution_count": 9,
   "metadata": {},
   "outputs": [],
   "source": [
    "#Podemos combinar o loop for com a estrutura if-else para termos códigos ainda mais poderosos.\n",
    "\n",
    "alunos_reprovados = {}\n",
    "alunos_aprovados = {}\n",
    "\n",
    "for aluno, nota in dic_aluno_nota.items():\n",
    "    if nota < 7:\n",
    "        alunos_reprovados.update({aluno:nota})\n",
    "    else:\n",
    "        alunos_aprovados.update({aluno:nota})"
   ]
  },
  {
   "cell_type": "code",
   "execution_count": 11,
   "metadata": {},
   "outputs": [
    {
     "data": {
      "text/plain": [
       "{'Maria': 7.5, 'Joao': 9, 'Mariana': 10}"
      ]
     },
     "execution_count": 11,
     "metadata": {},
     "output_type": "execute_result"
    }
   ],
   "source": [
    "alunos_aprovados"
   ]
  },
  {
   "cell_type": "code",
   "execution_count": 12,
   "metadata": {},
   "outputs": [
    {
     "data": {
      "text/plain": [
       "{'Pedro': 6, 'Paulo': 6.5}"
      ]
     },
     "execution_count": 12,
     "metadata": {},
     "output_type": "execute_result"
    }
   ],
   "source": [
    "alunos_reprovados"
   ]
  },
  {
   "cell_type": "markdown",
   "metadata": {},
   "source": [
    "**Alterar a execução do loop**\n",
    "\n",
    "#Podemos alterar a execução de um loop usando break ou continue"
   ]
  },
  {
   "cell_type": "code",
   "execution_count": 15,
   "metadata": {},
   "outputs": [
    {
     "name": "stdout",
     "output_type": "stream",
     "text": [
      "i vezes j é: 1\n",
      "i vezes j é: 6\n",
      "i vezes j é: 15\n",
      "i vezes j é: 28\n",
      "i vezes j é: 45\n",
      "i vezes j é: 66\n",
      "i vezes j é: 91\n",
      "Aqui o loop já parou!\n",
      "Os próximos i e j seriam: (15, 8)\n"
     ]
    }
   ],
   "source": [
    "#break: usado para sair de um loop (para o loop), não importando o estado em que se encontra.\n",
    "\n",
    "L1 = range(1,50,2)\n",
    "L2 = range(1,50,1)\n",
    "\n",
    "for i,j in zip(L1,L2):\n",
    "    if i*j > 100:\n",
    "        break\n",
    "    else:\n",
    "        print(\"i vezes j é:\", i*j)\n",
    "        \n",
    "print(\"Aqui o loop já parou!\")\n",
    "print(\"Os próximos i e j seriam:\", (i,j))"
   ]
  },
  {
   "cell_type": "code",
   "execution_count": 18,
   "metadata": {},
   "outputs": [
    {
     "name": "stdout",
     "output_type": "stream",
     "text": [
      "Esse número é par: 2\n",
      "Esse número é par: 4\n",
      "Esse número é par: 6\n",
      "Esse número é par: 8\n",
      "Esse número é par: 10\n",
      "Esse número é par: 12\n",
      "Esse número é par: 14\n",
      "Esse número é par: 16\n",
      "Esse número é par: 18\n",
      "Esse número é par: 20\n",
      "Esse número é par: 22\n",
      "Esse número é par: 24\n",
      "Esse número é par: 26\n",
      "Esse número é par: 28\n",
      "Esse número é par: 30\n",
      "Esse número é par: 32\n",
      "Esse número é par: 34\n",
      "Esse número é par: 36\n",
      "Esse número é par: 38\n",
      "Esse número é par: 40\n",
      "Esse número é par: 42\n",
      "Esse número é par: 44\n",
      "Esse número é par: 46\n",
      "Esse número é par: 48\n"
     ]
    }
   ],
   "source": [
    "#continue: ao invés de parar o loop, eke faz com que todo código que esteja abaixo seja ignorado\n",
    "# e avança para a próxima iteração:\n",
    "\n",
    "L1 = range(1,50,1)\n",
    "\n",
    "for i in L1:\n",
    "    if (i % 2 == 0):\n",
    "        print(\"Esse número é par:\", i)\n",
    "    else:\n",
    "        continue"
   ]
  },
  {
   "cell_type": "code",
   "execution_count": null,
   "metadata": {},
   "outputs": [],
   "source": []
  }
 ],
 "metadata": {
  "kernelspec": {
   "display_name": "Python 3",
   "language": "python",
   "name": "python3"
  },
  "language_info": {
   "codemirror_mode": {
    "name": "ipython",
    "version": 3
   },
   "file_extension": ".py",
   "mimetype": "text/x-python",
   "name": "python",
   "nbconvert_exporter": "python",
   "pygments_lexer": "ipython3",
   "version": "3.8.5"
  }
 },
 "nbformat": 4,
 "nbformat_minor": 4
}
