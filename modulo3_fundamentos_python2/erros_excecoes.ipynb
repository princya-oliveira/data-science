{
 "cells": [
  {
   "cell_type": "markdown",
   "metadata": {},
   "source": [
    "**Erros e Exceções**"
   ]
  },
  {
   "cell_type": "code",
   "execution_count": null,
   "metadata": {},
   "outputs": [],
   "source": [
    "#No caso de o erro não estar tratado, nosso código, no momento em que encontra a execeção ele quebra\n",
    "\n",
    "valor = 1000\n",
    "parcelas = int(input(\"Número de parcelas: \"))\n",
    "\n",
    "valor_da_parcela = valor / parcelas\n",
    "\n",
    "print(\"Ok! Nesse caso o valor de cada parcela é:\", round(valor_da_parcela,2))\n"
   ]
  },
  {
   "cell_type": "code",
   "execution_count": 3,
   "metadata": {},
   "outputs": [
    {
     "name": "stdout",
     "output_type": "stream",
     "text": [
      "Número de parcelas: 0\n",
      "Algo está errado!\n",
      "Será executado porque tratei o erro!\n"
     ]
    }
   ],
   "source": [
    "#Fazendo o tratamento do erro com try-except:\n",
    "valor = 1000\n",
    "\n",
    "try:\n",
    "    parcelas = int(input(\"Número de parcelas: \"))\n",
    "    valor_da_parcela = valor / parcelas\n",
    "    print(\"Ok! Nesse caso o valor de cada parcela é:\", round(valor_da_parcela,2))\n",
    "except:\n",
    "    print(\"Algo está errado!\")\n",
    "    \n",
    "print(\"Será executado porque tratei o erro!\")"
   ]
  },
  {
   "cell_type": "code",
   "execution_count": 6,
   "metadata": {},
   "outputs": [
    {
     "name": "stdout",
     "output_type": "stream",
     "text": [
      "Número de parcelas: 0\n",
      "Aconteceu um erro do tipo: <class 'ZeroDivisionError'> e a mensagem de erro é: division by zero\n",
      "Será executado porque tratei o erro!\n"
     ]
    }
   ],
   "source": [
    "#Podemos mostrar qual foi o tipo de erro:\n",
    "valor = 1000\n",
    "\n",
    "try:\n",
    "    parcelas = int(input(\"Número de parcelas: \"))\n",
    "    valor_da_parcela = valor / parcelas\n",
    "    print(\"Ok! Nesse caso o valor de cada parcela é:\", round(valor_da_parcela,2))\n",
    "except Exception as erro:\n",
    "    print(\"Aconteceu um erro do tipo:\", erro.__class__, \"e a mensagem de erro é:\", erro)\n",
    "    \n",
    "print(\"Será executado porque tratei o erro!\")"
   ]
  },
  {
   "cell_type": "code",
   "execution_count": 7,
   "metadata": {},
   "outputs": [
    {
     "name": "stdout",
     "output_type": "stream",
     "text": [
      "Número de parcelas: \n",
      "Você só pode por números aqui!\n"
     ]
    }
   ],
   "source": [
    "#Podemos ainda colocar uma exception para um tipo específico de erro:\n",
    "valor = 1000\n",
    "\n",
    "try:\n",
    "    parcelas = int(input(\"Número de parcelas: \"))\n",
    "    valor_da_parcela = valor / parcelas\n",
    "    print(\"Ok! Nesse caso o valor de cada parcela é:\", round(valor_da_parcela,2))\n",
    "except ZeroDivisionError:\n",
    "    print(\"Coloque um número diferente de 0\")\n",
    "except ValueError:\n",
    "    print(\"Você só pode por números aqui!\")"
   ]
  },
  {
   "cell_type": "code",
   "execution_count": null,
   "metadata": {},
   "outputs": [],
   "source": []
  }
 ],
 "metadata": {
  "kernelspec": {
   "display_name": "Python 3",
   "language": "python",
   "name": "python3"
  },
  "language_info": {
   "codemirror_mode": {
    "name": "ipython",
    "version": 3
   },
   "file_extension": ".py",
   "mimetype": "text/x-python",
   "name": "python",
   "nbconvert_exporter": "python",
   "pygments_lexer": "ipython3",
   "version": "3.8.5"
  }
 },
 "nbformat": 4,
 "nbformat_minor": 4
}
