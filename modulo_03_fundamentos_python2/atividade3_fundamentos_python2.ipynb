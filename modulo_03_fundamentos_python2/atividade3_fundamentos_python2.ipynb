{
 "cells": [
  {
   "cell_type": "markdown",
   "metadata": {},
   "source": [
    "**1 -** Construa uma função que recebe uma lista de tamanho 5 como parâmetro. Essa função deve percorrer cada elemento dessa lista e verificar se o elemento é par ou não. Se ele for par, salvar ele em uma nova lista que deve ser retornada com todos os valores pares encontrados."
   ]
  },
  {
   "cell_type": "code",
   "execution_count": 9,
   "metadata": {},
   "outputs": [
    {
     "data": {
      "text/plain": [
       "[10, 12, 34]"
      ]
     },
     "execution_count": 9,
     "metadata": {},
     "output_type": "execute_result"
    }
   ],
   "source": [
    "def num_par(lista): #definição da função\n",
    "    pares = [] #lista vazia p/ inclusão de números pares\n",
    "    for i in lista:\n",
    "        if i % 2 == 0: #verifica se o elemento é par\n",
    "            pares.append(i) #se par, inclui na lista pares\n",
    "        else:\n",
    "            continue\n",
    "    return pares\n",
    "\n",
    "pares_na_lista = num_par([3,10,12,25,34,63]) #chamando a função com lista de tamanho 5 como parâmetro\n",
    "pares_na_lista #retornando nova lista apenas com os números pares"
   ]
  },
  {
   "cell_type": "markdown",
   "metadata": {},
   "source": [
    "**2 -** Escreva um código que chama o módulo random. Dentro deste módulo utilize a função que gera números aleatórios inteiros para criar uma função customizada que pede para o usuário digitar quantidade de sorteios que ele quer e roda sorteando essa quantidade de números. Alguns usuários podem não entender que o input é um número e digitar, por exemplo, \"três\", o que geraria um erro no código. Então escreva essa função de maneira a tratar esse erro, enviando uma mensagem que ajude o usuário a resolver o problema."
   ]
  },
  {
   "cell_type": "code",
   "execution_count": 66,
   "metadata": {},
   "outputs": [],
   "source": [
    "import random #chamando módulo random\n",
    "\n",
    "def sorteios(): #definindo a função\n",
    "    try: #usando try-except para tratar erro de entrada de dados pelo usuário \n",
    "        qtd_sort = int(input(\"Quantos sorteios você quer fazer? \")) \n",
    "        num_sort = [] #lista vazia que receberá os números sorteados\n",
    "        cont = 0  #variável contadora \n",
    "    except ValueError:\n",
    "        print(\"ERRO! Você só pode por números aqui.\")\n",
    "\n",
    "    while (cont < qtd_sort): \n",
    "        num = random.randint(1,100)\n",
    "        num_sort.append(num) \n",
    "        cont = cont + 1 \n",
    "    \n",
    "    return num_sort\n",
    "        \n"
   ]
  },
  {
   "cell_type": "code",
   "execution_count": 81,
   "metadata": {},
   "outputs": [
    {
     "name": "stdout",
     "output_type": "stream",
     "text": [
      "Quantos sorteios você quer fazer? 5\n"
     ]
    },
    {
     "data": {
      "text/plain": [
       "[62, 95, 23, 75, 70]"
      ]
     },
     "execution_count": 81,
     "metadata": {},
     "output_type": "execute_result"
    }
   ],
   "source": [
    "sorteios()\n"
   ]
  },
  {
   "cell_type": "markdown",
   "metadata": {},
   "source": [
    "**3 -** Crie uma classe cliente. Esse cliente deve possuir 2 atributos: nome e saldo e 2 métodos: depositar e sacar. Usando a classe, crie um cliente, utilize os métodos criados para depositar 100 reais na conta do cliente, que deve começar com saldo 0 e depois do depósito apresentar saldo 100. Na sequência, faça um saque de 20 reais. Fique atendo: o seu código deve impedir que o usuário saque mais do que ele tem em saldo!"
   ]
  },
  {
   "cell_type": "code",
   "execution_count": 118,
   "metadata": {},
   "outputs": [],
   "source": [
    "class Cliente: \n",
    "    \n",
    "    def __init__(self, nome, saldo):\n",
    "        #atributos\n",
    "        self.nome = nome\n",
    "        self.saldo = 0\n",
    "        \n",
    "    #métodos\n",
    "    def depositar(self):\n",
    "        self.saldo += 100\n",
    "        print(\"Seu depósito foi realizado com sucesso!\")\n",
    "        print(\"Seu novo saldo é de R$\",self.saldo)\n",
    "        \n",
    "    def sacar(self):\n",
    "        self.saldo += - 20\n",
    "        if self.saldo >= 0:\n",
    "            print(\"Seu saque foi realizado com sucesso!\")\n",
    "            print(\"Seu novo saldo é de R$\", self.saldo)\n",
    "        else:\n",
    "            print(\"Você não tem saldo suficiente para realizar esta operação.\")"
   ]
  },
  {
   "cell_type": "code",
   "execution_count": 119,
   "metadata": {},
   "outputs": [
    {
     "name": "stdout",
     "output_type": "stream",
     "text": [
      "Seu depósito foi realizado com sucesso!\n",
      "Seu novo saldo é de R$ 100\n",
      "Seu saque foi realizado com sucesso!\n",
      "Seu novo saldo é de R$ 80\n"
     ]
    }
   ],
   "source": [
    "cliente1 = Cliente(\"Joao\", 0) #criando um cliente\n",
    "\n",
    "cliente1.depositar()\n",
    "cliente1.sacar()\n",
    "\n"
   ]
  }
 ],
 "metadata": {
  "kernelspec": {
   "display_name": "Python 3",
   "language": "python",
   "name": "python3"
  },
  "language_info": {
   "codemirror_mode": {
    "name": "ipython",
    "version": 3
   },
   "file_extension": ".py",
   "mimetype": "text/x-python",
   "name": "python",
   "nbconvert_exporter": "python",
   "pygments_lexer": "ipython3",
   "version": "3.8.5"
  }
 },
 "nbformat": 4,
 "nbformat_minor": 4
}
