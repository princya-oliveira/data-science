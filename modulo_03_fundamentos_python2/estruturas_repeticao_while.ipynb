{
 "cells": [
  {
   "cell_type": "markdown",
   "metadata": {},
   "source": [
    "**Estruturas de Repetição - WHILE**"
   ]
  },
  {
   "cell_type": "code",
   "execution_count": 1,
   "metadata": {},
   "outputs": [],
   "source": [
    "#sintaxe: while (condição):\n",
    "#     executa esse código"
   ]
  },
  {
   "cell_type": "code",
   "execution_count": 2,
   "metadata": {},
   "outputs": [
    {
     "name": "stdout",
     "output_type": "stream",
     "text": [
      "O erro ainda é maior que 11, é 30\n",
      "O erro ainda é maior que 11, é 28\n",
      "O erro ainda é maior que 11, é 26\n",
      "O erro ainda é maior que 11, é 24\n",
      "O erro ainda é maior que 11, é 22\n",
      "O erro ainda é maior que 11, é 20\n",
      "O erro ainda é maior que 11, é 18\n",
      "O erro ainda é maior que 11, é 16\n",
      "O erro ainda é maior que 11, é 14\n",
      "O erro ainda é maior que 11, é 12\n",
      "\n",
      " fim do while com erro igual a 10\n"
     ]
    }
   ],
   "source": [
    "#Ex: suponha que estamos constuindo um modelo de ML. Queremos rodar esse código até que nosso modelo \n",
    "#tenha um erro menor que um determinado valor, digamos 11.\n",
    "\n",
    "erro = 30\n",
    "\n",
    "while erro > 11:\n",
    "    print(\"O erro ainda é maior que 11, é\", erro)\n",
    "    erro = erro - 2 #sem essa linha o while nunca pararia \n",
    "    \n",
    "print(\"\\n fim do while com erro igual a\", erro)"
   ]
  },
  {
   "cell_type": "code",
   "execution_count": null,
   "metadata": {},
   "outputs": [],
   "source": []
  }
 ],
 "metadata": {
  "kernelspec": {
   "display_name": "Python 3",
   "language": "python",
   "name": "python3"
  },
  "language_info": {
   "codemirror_mode": {
    "name": "ipython",
    "version": 3
   },
   "file_extension": ".py",
   "mimetype": "text/x-python",
   "name": "python",
   "nbconvert_exporter": "python",
   "pygments_lexer": "ipython3",
   "version": "3.8.5"
  }
 },
 "nbformat": 4,
 "nbformat_minor": 4
}
