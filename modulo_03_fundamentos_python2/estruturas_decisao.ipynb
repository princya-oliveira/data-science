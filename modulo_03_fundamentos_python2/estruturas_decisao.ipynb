{
 "cells": [
  {
   "cell_type": "markdown",
   "metadata": {},
   "source": [
    "**If - Else**"
   ]
  },
  {
   "cell_type": "code",
   "execution_count": 4,
   "metadata": {},
   "outputs": [
    {
     "name": "stdout",
     "output_type": "stream",
     "text": [
      "Você foi reprovado!\n"
     ]
    }
   ],
   "source": [
    "#Exemplo1\n",
    "\n",
    "nota = 5\n",
    "\n",
    "if nota >=7:\n",
    "    print(\"Parabéns! Você está aprovado.\")\n",
    "else:\n",
    "    print(\"Você foi reprovado!\")"
   ]
  },
  {
   "cell_type": "code",
   "execution_count": 6,
   "metadata": {},
   "outputs": [
    {
     "name": "stdout",
     "output_type": "stream",
     "text": [
      "Qual a sua idade?19\n",
      "idade digitada 19\n",
      "Você já pode tirar a carteira de motorista!\n",
      "Parabéns!\n"
     ]
    }
   ],
   "source": [
    "#Exemplo2\n",
    "\n",
    "idade = int(input(\"Qual a sua idade?\"))\n",
    "\n",
    "if (idade >= 18):\n",
    "    print(\"Idade digitada\", idade)\n",
    "    print(\"Você já pode tirar a carteira de motorista!\")\n",
    "    print(\"Parabéns!\")"
   ]
  },
  {
   "cell_type": "code",
   "execution_count": 7,
   "metadata": {},
   "outputs": [
    {
     "name": "stdout",
     "output_type": "stream",
     "text": [
      "Qual a sua idade?19\n",
      "Você enxerga bem?não\n"
     ]
    }
   ],
   "source": [
    "#Exemplo2\n",
    "\n",
    "idade = int(input(\"Qual a sua idade?\"))\n",
    "visao = str(input(\"Você enxerga bem?\"))\n",
    "\n",
    "if (idade >= 18 and visao == \"sim\"):\n",
    "    print(\"Você já pode tirar sua carteira de motorista!\")\n",
    "    print(\"Parabéns!\")"
   ]
  },
  {
   "cell_type": "code",
   "execution_count": 8,
   "metadata": {},
   "outputs": [],
   "source": [
    "#Exemplo3\n",
    "\n",
    "produtos_disponíveis = [\"arroz\", \"feijão\", \"farinha\", \"banana\", \"leite\"]\n",
    "produto = input(\"Qual produto você procura?\")\n",
    "\n",
    "if produto is produtos_disponiveis:\n",
    "    print(\"Oba! Temos esse produto no estoque\")\n",
    "    print(\"Corre enquanto dá tempo\")\n",
    "    print(\"Agradecemos a preferência!\")"
   ]
  },
  {
   "cell_type": "code",
   "execution_count": 10,
   "metadata": {},
   "outputs": [
    {
     "name": "stdout",
     "output_type": "stream",
     "text": [
      "O valor de  75 foi sacado com sucesso\n",
      "Seu novo saldo é:  925\n"
     ]
    }
   ],
   "source": [
    "#Exemplo4\n",
    "\n",
    "saldo = 1000\n",
    "valor_saque = 75\n",
    "\n",
    "if saldo >= valor_saque:\n",
    "    print(\"O valor de \", valor_saque, \"foi sacado com sucesso\")\n",
    "    saldo = saldo - valor_saque #operação dentro do if\n",
    "    print(\"Seu novo saldo é: \", saldo)"
   ]
  },
  {
   "cell_type": "markdown",
   "metadata": {},
   "source": [
    "**A estrutura if-else**\n",
    "\n",
    "#A estrutura else nunca é executada sozinha. Ela é uma instrução complementar da estrutura if. A palavra else significa SE NÃO e é executada todas as vezes que a expressão definida for falsa."
   ]
  },
  {
   "cell_type": "code",
   "execution_count": 11,
   "metadata": {},
   "outputs": [
    {
     "name": "stdout",
     "output_type": "stream",
     "text": [
      "Reprovado!\n"
     ]
    }
   ],
   "source": [
    "nota = 5\n",
    "\n",
    "if nota >= 7:\n",
    "    print(\"Aprovado!\")\n",
    "else:\n",
    "    print(\"Reprovado!\")\n",
    "    "
   ]
  },
  {
   "cell_type": "code",
   "execution_count": 12,
   "metadata": {},
   "outputs": [
    {
     "name": "stdout",
     "output_type": "stream",
     "text": [
      "Reprovado\n"
     ]
    }
   ],
   "source": [
    "#Suponha agora que para ser aprovado precisamos ter frequência >= 80% E nota >= 7:\n",
    "\n",
    "nota = 5\n",
    "frequencia = 77\n",
    "\n",
    "if (nota >= 7 and frequencia >= 80):\n",
    "    print(\"Aprovado\")\n",
    "else:\n",
    "    print(\"Reprovado\")"
   ]
  },
  {
   "cell_type": "code",
   "execution_count": 13,
   "metadata": {},
   "outputs": [
    {
     "name": "stdout",
     "output_type": "stream",
     "text": [
      "Reprovado\n"
     ]
    }
   ],
   "source": [
    "#Suponha agora que para ser aprovado precisamos ter frequência >= 80% OU nota >= 7:\n",
    "\n",
    "nota = 5\n",
    "frequencia = 77\n",
    "\n",
    "if (nota >= 7 or frequencia >= 80):\n",
    "    print(\"Aprovado\")\n",
    "else:\n",
    "    print(\"Reprovado\")"
   ]
  },
  {
   "cell_type": "markdown",
   "metadata": {},
   "source": [
    "**A estrutura if-elif-else**\n",
    "\n",
    "#ELIF = ELSE + IF\n",
    "#Com essa estrutura podemos fazer if's aninhados, colocando várias condições"
   ]
  },
  {
   "cell_type": "code",
   "execution_count": 14,
   "metadata": {},
   "outputs": [
    {
     "name": "stdout",
     "output_type": "stream",
     "text": [
      "Você não veio as aulas e tem nota baixa, está reprovado!\n"
     ]
    }
   ],
   "source": [
    "#Considere o seguinte: se o aluno tiver nota >= 7 já está aprovado. Se não, se ele tiver frequência >= 80\n",
    "# ele fica em exame. Se ele não tiver nenhum dos dois, ele está reprovado.\n",
    "\n",
    "nota = 5\n",
    "frequencia = 77\n",
    "\n",
    "if (nota >= 7):\n",
    "    print(\"Aprovado\")\n",
    "else:\n",
    "    if frequencia >= 80:\n",
    "        print(\"Em exame\")\n",
    "    else:\n",
    "        print(\"Você não veio as aulas e tem nota baixa, está reprovado!\")"
   ]
  },
  {
   "cell_type": "code",
   "execution_count": null,
   "metadata": {},
   "outputs": [],
   "source": [
    "#Código usando elif\n",
    "\n",
    "nota = 6\n",
    "frequencia = 85\n",
    "\n",
    "if (nota >= 7):\n",
    "    print(\"Aprovado\")\n",
    "elif nota >= 6 and frequencia >= 80:\n",
    "    print(\"Em exame\")\n",
    "else:\n",
    "    print(\"Você não veio as aulas e tem nota baixa, está reprovado!\")"
   ]
  }
 ],
 "metadata": {
  "kernelspec": {
   "display_name": "Python 3",
   "language": "python",
   "name": "python3"
  },
  "language_info": {
   "codemirror_mode": {
    "name": "ipython",
    "version": 3
   },
   "file_extension": ".py",
   "mimetype": "text/x-python",
   "name": "python",
   "nbconvert_exporter": "python",
   "pygments_lexer": "ipython3",
   "version": "3.8.5"
  }
 },
 "nbformat": 4,
 "nbformat_minor": 4
}
