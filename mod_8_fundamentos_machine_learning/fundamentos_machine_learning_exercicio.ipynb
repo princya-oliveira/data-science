{
 "cells": [
  {
   "cell_type": "markdown",
   "metadata": {},
   "source": [
    "\n",
    "<br><br>\n",
    "\n",
    "### Considere o dataset abaixo:"
   ]
  },
  {
   "cell_type": "code",
   "execution_count": 1,
   "metadata": {},
   "outputs": [
    {
     "name": "stdout",
     "output_type": "stream",
     "text": [
      "(2460, 5)\n"
     ]
    },
    {
     "data": {
      "text/html": [
       "<div>\n",
       "<style scoped>\n",
       "    .dataframe tbody tr th:only-of-type {\n",
       "        vertical-align: middle;\n",
       "    }\n",
       "\n",
       "    .dataframe tbody tr th {\n",
       "        vertical-align: top;\n",
       "    }\n",
       "\n",
       "    .dataframe thead th {\n",
       "        text-align: right;\n",
       "    }\n",
       "</style>\n",
       "<table border=\"1\" class=\"dataframe\">\n",
       "  <thead>\n",
       "    <tr style=\"text-align: right;\">\n",
       "      <th></th>\n",
       "      <th>ind_pop_cid</th>\n",
       "      <th>perc_pol</th>\n",
       "      <th>taxa_crim</th>\n",
       "      <th>nivel_ed</th>\n",
       "      <th>crimes</th>\n",
       "    </tr>\n",
       "  </thead>\n",
       "  <tbody>\n",
       "    <tr>\n",
       "      <td>0</td>\n",
       "      <td>1.0</td>\n",
       "      <td>7.185471</td>\n",
       "      <td>62.082693</td>\n",
       "      <td>10.0</td>\n",
       "      <td>77</td>\n",
       "    </tr>\n",
       "    <tr>\n",
       "      <td>1</td>\n",
       "      <td>1.0</td>\n",
       "      <td>24.456750</td>\n",
       "      <td>88.244380</td>\n",
       "      <td>6.0</td>\n",
       "      <td>202</td>\n",
       "    </tr>\n",
       "    <tr>\n",
       "      <td>2</td>\n",
       "      <td>1.0</td>\n",
       "      <td>19.791772</td>\n",
       "      <td>94.930257</td>\n",
       "      <td>1.0</td>\n",
       "      <td>348</td>\n",
       "    </tr>\n",
       "    <tr>\n",
       "      <td>3</td>\n",
       "      <td>4.0</td>\n",
       "      <td>10.089496</td>\n",
       "      <td>41.791507</td>\n",
       "      <td>6.0</td>\n",
       "      <td>114</td>\n",
       "    </tr>\n",
       "    <tr>\n",
       "      <td>4</td>\n",
       "      <td>3.0</td>\n",
       "      <td>34.697495</td>\n",
       "      <td>67.615795</td>\n",
       "      <td>1.0</td>\n",
       "      <td>47</td>\n",
       "    </tr>\n",
       "  </tbody>\n",
       "</table>\n",
       "</div>"
      ],
      "text/plain": [
       "   ind_pop_cid   perc_pol  taxa_crim  nivel_ed  crimes\n",
       "0          1.0   7.185471  62.082693      10.0      77\n",
       "1          1.0  24.456750  88.244380       6.0     202\n",
       "2          1.0  19.791772  94.930257       1.0     348\n",
       "3          4.0  10.089496  41.791507       6.0     114\n",
       "4          3.0  34.697495  67.615795       1.0      47"
      ]
     },
     "execution_count": 1,
     "metadata": {},
     "output_type": "execute_result"
    }
   ],
   "source": [
    "import pandas as pd\n",
    "df = pd.read_csv(\"dataframe_exercicio_modulo_8.csv\")\n",
    "print(df.shape)\n",
    "df.head()"
   ]
  },
  {
   "cell_type": "markdown",
   "metadata": {},
   "source": [
    "Descrição das variáveis:\n",
    "\n",
    "ind_pop_cid = índice entre 1 e 5, indicando o tamanho da população de uma cidade; quanto maior o índice, maior a cidadel;\n",
    "\n",
    "perc_pol = percentual de policiais ativos na cidade;\n",
    "\n",
    "taxa_crim = taxa de criminalidade histórica da cidade;\n",
    "\n",
    "nivel_ed = nível educacional médio da cidade;\n",
    "\n",
    "crimes = quantidade de crimes registrados no mês vigente;\n",
    "\n",
    "<br>\n",
    "<br>\n",
    "\n",
    "# Exercícios\n",
    "\n",
    "<br>\n",
    "\n",
    "## Parte 1:\n",
    "\n",
    "Os exercícios abaixo tratarão a respeito da criação de modelos de aprendizado de máquina. Vimos que precisamos controlar o overfitting dos modelos e medir a capacidade de generalização dos mesmos. Para isso, é interessante termos os dados disponíveis divididos em treino/validação/teste. \n",
    "\n",
    "#### Crie uma função para fazer a divisão de treino/teste.\n",
    "\n",
    "Esta função deve ter dois parâmetros de entrada:\n",
    "\n",
    "    1- dataframe disponível;\n",
    "    2- percentual do dataset que será disponibilizado para os dados de teste;\n",
    "    \n",
    "e deve retornar dois dataframes.\n",
    "\n",
    "(__Exemplo:__ Se o dataframe disponível possui 100 linhas e queremos 25% dos dados para teste, então a função deve retornar dois dataframes, um com 75 linhas (o dataset de treino) e outro com as 25 linhas restantes (o dataset de teste).)\n",
    "\n",
    "\n",
    "\n",
    "## Parte 2:\n",
    "\n",
    "### 1 - \n",
    "\n",
    "Usando __apenas UMA variável__, crie modelos de aprendizado de máquina para prever a quantidade de crimes a partir desta única variável. Justifique a escolha desta variável.\n",
    "\n",
    "Instancie vários modelos e compare-os de acordo com as métricas de performance. Indique quais modelos estão sofrendo overfitting. \n",
    "\n",
    "### 2 - \n",
    "\n",
    "Agora, usando todas as variáveis disponíveis, refaça as análises do primeiro exercício e compare os resultados.\n",
    "\n"
   ]
  }
 ],
 "metadata": {
  "kernelspec": {
   "display_name": "Python 3",
   "language": "python",
   "name": "python3"
  },
  "language_info": {
   "codemirror_mode": {
    "name": "ipython",
    "version": 3
   },
   "file_extension": ".py",
   "mimetype": "text/x-python",
   "name": "python",
   "nbconvert_exporter": "python",
   "pygments_lexer": "ipython3",
   "version": "3.7.4"
  }
 },
 "nbformat": 4,
 "nbformat_minor": 2
}
