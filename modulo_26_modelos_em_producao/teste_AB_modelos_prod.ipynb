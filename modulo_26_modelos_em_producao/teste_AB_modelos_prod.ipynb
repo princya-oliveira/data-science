{
  "nbformat": 4,
  "nbformat_minor": 0,
  "metadata": {
    "kernelspec": {
      "display_name": "Python 3",
      "language": "python",
      "name": "python3"
    },
    "language_info": {
      "codemirror_mode": {
        "name": "ipython",
        "version": 3
      },
      "file_extension": ".py",
      "mimetype": "text/x-python",
      "name": "python",
      "nbconvert_exporter": "python",
      "pygments_lexer": "ipython3",
      "version": "3.7.9"
    },
    "colab": {
      "name": "Testes AB e Modelo em prod.ipynb",
      "provenance": []
    }
  },
  "cells": [
    {
      "cell_type": "markdown",
      "metadata": {
        "id": "4-l4eOHHiXQU"
      },
      "source": [
        "# Testes de hipóteses com bootstrap"
      ]
    },
    {
      "cell_type": "code",
      "metadata": {
        "id": "hr9xt821iXQe"
      },
      "source": [
        "import matplotlib.pyplot as plt\n",
        "import pandas as pd\n",
        "import numpy as np"
      ],
      "execution_count": null,
      "outputs": []
    },
    {
      "cell_type": "code",
      "metadata": {
        "id": "Pf0SDSWaiXQf"
      },
      "source": [
        "lift = 1.1\n",
        "test = np.random.binomial(100, p=0.2 * lift, size=10000)\n",
        "ctrl = np.random.binomial(100, p=0.2, size=50000)"
      ],
      "execution_count": null,
      "outputs": []
    },
    {
      "cell_type": "code",
      "metadata": {
        "scrolled": true,
        "id": "AWIkBpJ3iXQg",
        "outputId": "d6b5cb35-5a0e-49f9-d2e9-053b48ef3b49"
      },
      "source": [
        "bins = np.linspace(0, 40, 20)\n",
        "\n",
        "plt.hist(ctrl, bins=bins, label='Control', density=True)\n",
        "plt.hist(test, bins=bins, label='Test', color='orange', density=True)\n",
        "plt.title('Test/Ctrl Data')\n",
        "plt.legend()"
      ],
      "execution_count": null,
      "outputs": [
        {
          "output_type": "execute_result",
          "data": {
            "text/plain": [
              "<matplotlib.legend.Legend at 0x7f823ab19210>"
            ]
          },
          "metadata": {
            "tags": []
          },
          "execution_count": 3
        },
        {
          "output_type": "display_data",
          "data": {
            "image/png": "[encoded data removed]",
            "text/plain": [
              "<Figure size 432x288 with 1 Axes>"
            ]
          },
          "metadata": {
            "tags": [],
            "needs_background": "light"
          }
        }
      ]
    },
    {
      "cell_type": "code",
      "metadata": {
        "id": "qMRtABbviXQh",
        "outputId": "1d187863-157f-4dcb-821d-65ef9553ef90"
      },
      "source": [
        "from scipy import stats\n",
        "print(\"teste: {0}\".format(stats.describe(test)))\n",
        "print(\"control: {0}\".format(stats.describe(ctrl)))"
      ],
      "execution_count": null,
      "outputs": [
        {
          "output_type": "stream",
          "text": [
            "teste: DescribeResult(nobs=10000, minmax=(6, 38), mean=22.0472, variance=17.345106670667064, skewness=0.11499936618094198, kurtosis=0.03337285094140485)\n",
            "control: DescribeResult(nobs=50000, minmax=(5, 38), mean=19.9824, variance=16.126012760255204, skewness=0.16119314129286946, kurtosis=0.0045769438023759434)\n"
          ],
          "name": "stdout"
        }
      ]
    },
    {
      "cell_type": "code",
      "metadata": {
        "id": "On322_R2iXQi"
      },
      "source": [
        "def boostrapper(A_vec, B_vec, sample_size, resample):\n",
        "    A_avg_vec = A_vec[(np.random.rand(resample, sample_size)*len(A_vec)).astype(int)].mean(axis = 1)\n",
        "    B_avg_vec = B_vec[(np.random.rand(resample, sample_size)*len(B_vec)).astype(int)].mean(axis = 1)\n",
        "    return A_avg_vec, B_avg_vec"
      ],
      "execution_count": null,
      "outputs": []
    },
    {
      "cell_type": "code",
      "metadata": {
        "id": "oOJdy-7IiXQj"
      },
      "source": [
        "A_avg_vec, B_avg_vec = boostrapper(test, ctrl, 100, 500)"
      ],
      "execution_count": null,
      "outputs": []
    },
    {
      "cell_type": "markdown",
      "metadata": {
        "id": "X-8fEFNxiXQj"
      },
      "source": [
        "Distribuição a posterior aproximada dos parâmetros!"
      ]
    },
    {
      "cell_type": "code",
      "metadata": {
        "id": "ESPNaI7oiXQj",
        "outputId": "57765a54-d943-4b54-cbd9-3813e0e732a5"
      },
      "source": [
        "bins = 100\n",
        "\n",
        "plt.hist(B_avg_vec, bins=bins, label='Control - resample', density=True)\n",
        "plt.hist(A_avg_vec, bins=bins, label='Test - resample', color='orange', density=True)\n",
        "plt.title('bootstrap result')\n",
        "plt.legend()"
      ],
      "execution_count": null,
      "outputs": [
        {
          "output_type": "execute_result",
          "data": {
            "text/plain": [
              "<matplotlib.legend.Legend at 0x7f823b6f9fd0>"
            ]
          },
          "metadata": {
            "tags": []
          },
          "execution_count": 7
        },
        {
          "output_type": "display_data",
          "data": {
            "image/png": "[encoded data removed]",
            "text/plain": [
              "<Figure size 432x288 with 1 Axes>"
            ]
          },
          "metadata": {
            "tags": [],
            "needs_background": "light"
          }
        }
      ]
    },
    {
      "cell_type": "code",
      "metadata": {
        "id": "F5EoJoGBiXQk",
        "outputId": "7b862c0c-ab6d-493f-bb1e-a608c0fa7578"
      },
      "source": [
        "print(\"teste: {0}\".format(stats.describe(A_avg_vec)))\n",
        "print(\"control: {0}\".format(stats.describe(B_avg_vec)))"
      ],
      "execution_count": null,
      "outputs": [
        {
          "output_type": "stream",
          "text": [
            "teste: DescribeResult(nobs=500, minmax=(20.89, 23.31), mean=22.04738, variance=0.17946867294589175, skewness=-0.016824556083855965, kurtosis=-0.15817879318147776)\n",
            "control: DescribeResult(nobs=500, minmax=(18.73, 21.17), mean=19.99814, variance=0.14745244529058113, skewness=-0.03200955840937172, kurtosis=0.0061399218704201175)\n"
          ],
          "name": "stdout"
        }
      ]
    },
    {
      "cell_type": "code",
      "metadata": {
        "id": "pXpdzUqNiXQl"
      },
      "source": [
        "#realizando o teste após o bootstap"
      ],
      "execution_count": null,
      "outputs": []
    },
    {
      "cell_type": "code",
      "metadata": {
        "id": "ii63KDcxiXQl",
        "outputId": "8a32e51a-2a07-46fc-9906-6edf18e92eb8"
      },
      "source": [
        "from scipy import stats\n",
        "stats.ttest_ind(A_avg_vec,B_avg_vec)"
      ],
      "execution_count": null,
      "outputs": [
        {
          "output_type": "execute_result",
          "data": {
            "text/plain": [
              "Ttest_indResult(statistic=80.14129183660037, pvalue=0.0)"
            ]
          },
          "metadata": {
            "tags": []
          },
          "execution_count": 10
        }
      ]
    },
    {
      "cell_type": "markdown",
      "metadata": {
        "id": "6bwuuMlfiXQl"
      },
      "source": [
        "# agora testando com dados assimétricos"
      ]
    },
    {
      "cell_type": "code",
      "metadata": {
        "id": "Fh3QiZ4eiXQm"
      },
      "source": [
        "lift = 1.3\n",
        "\n",
        "test = np.random.gamma(shape = 5*lift, scale = 1/4, size=10000)\n",
        "ctrl = np.random.gamma(shape = 5, scale = 1/4, size=50000)"
      ],
      "execution_count": null,
      "outputs": []
    },
    {
      "cell_type": "code",
      "metadata": {
        "scrolled": true,
        "id": "0y0869lAiXQm",
        "outputId": "2b729f5e-2544-4e36-ea2e-00e1c66f22ea"
      },
      "source": [
        "bins = 100\n",
        "\n",
        "plt.hist(ctrl, bins=bins, label='Control', density=True)\n",
        "plt.hist(test, bins=bins, label='Test', color='orange', density=True)\n",
        "plt.title('Test/Ctrl Data')\n",
        "plt.legend()"
      ],
      "execution_count": null,
      "outputs": [
        {
          "output_type": "execute_result",
          "data": {
            "text/plain": [
              "<matplotlib.legend.Legend at 0x7f823bb18050>"
            ]
          },
          "metadata": {
            "tags": []
          },
          "execution_count": 13
        },
        {
          "output_type": "display_data",
          "data": {
            "image/png": "[encoded data removed]",
            "text/plain": [
              "<Figure size 432x288 with 1 Axes>"
            ]
          },
          "metadata": {
            "tags": [],
            "needs_background": "light"
          }
        }
      ]
    },
    {
      "cell_type": "code",
      "metadata": {
        "id": "9-iewpUSiXQn",
        "outputId": "86a6e808-1757-4f42-9448-47982a3be9c6"
      },
      "source": [
        "from scipy import stats\n",
        "print(\"teste: {0}\".format(stats.describe(test)))\n",
        "print(\"control: {0}\".format(stats.describe(ctrl)))"
      ],
      "execution_count": null,
      "outputs": [
        {
          "output_type": "stream",
          "text": [
            "teste: DescribeResult(nobs=10000, minmax=(0.22192407301705994, 5.624505637228672), mean=1.6210150681649884, variance=0.40734340448020007, skewness=0.8090572227821764, kurtosis=0.9976866297054969)\n",
            "control: DescribeResult(nobs=50000, minmax=(0.077069337858008, 4.993513139592547), mean=1.246893496222226, variance=0.3125277790597435, skewness=0.9065908517542457, kurtosis=1.2866275247180692)\n"
          ],
          "name": "stdout"
        }
      ]
    },
    {
      "cell_type": "code",
      "metadata": {
        "id": "LobMQAUAiXQn"
      },
      "source": [
        "def boostrapper(A_vec, B_vec, sample_size, resample):\n",
        "    A_avg_vec = A_vec[(np.random.rand(resample, sample_size)*len(A_vec)).astype(int)].mean(axis = 1)\n",
        "    B_avg_vec = B_vec[(np.random.rand(resample, sample_size)*len(B_vec)).astype(int)].mean(axis = 1)\n",
        "    return A_avg_vec, B_avg_vec"
      ],
      "execution_count": null,
      "outputs": []
    },
    {
      "cell_type": "code",
      "metadata": {
        "id": "4_lZaeaeiXQo"
      },
      "source": [
        "A_avg_vec, B_avg_vec = boostrapper(test, ctrl, 100, 500)"
      ],
      "execution_count": null,
      "outputs": []
    },
    {
      "cell_type": "markdown",
      "metadata": {
        "id": "JKTe_jsHiXQo"
      },
      "source": [
        "Distribuição a posterior aproximada dos parâmetros!"
      ]
    },
    {
      "cell_type": "code",
      "metadata": {
        "id": "OxPkOeCxiXQo",
        "outputId": "cfc1b7fa-9ba8-4092-bb14-cce8645404f4"
      },
      "source": [
        "bins = 100\n",
        "\n",
        "plt.hist(B_avg_vec, bins=bins, label='Control - resample', density=True)\n",
        "plt.hist(A_avg_vec, bins=bins, label='Test - resample', color='orange', density=True)\n",
        "plt.title('bootstrap result')\n",
        "plt.legend()"
      ],
      "execution_count": null,
      "outputs": [
        {
          "output_type": "execute_result",
          "data": {
            "text/plain": [
              "<matplotlib.legend.Legend at 0x7f823beec650>"
            ]
          },
          "metadata": {
            "tags": []
          },
          "execution_count": 17
        },
        {
          "output_type": "display_data",
          "data": {
            "image/png": "[encoded data removed]",
            "text/plain": [
              "<Figure size 432x288 with 1 Axes>"
            ]
          },
          "metadata": {
            "tags": [],
            "needs_background": "light"
          }
        }
      ]
    },
    {
      "cell_type": "code",
      "metadata": {
        "scrolled": true,
        "id": "Ol416Nd-iXQp",
        "outputId": "b7f7dcd4-9e02-471e-8059-506b65104538"
      },
      "source": [
        "#probabilidade da diferença entre A e B ser maior que zero.\n",
        "sum(A_avg_vec - B_avg_vec > 0)/len(A_avg_vec)"
      ],
      "execution_count": null,
      "outputs": [
        {
          "output_type": "execute_result",
          "data": {
            "text/plain": [
              "1.0"
            ]
          },
          "metadata": {
            "tags": []
          },
          "execution_count": 18
        }
      ]
    },
    {
      "cell_type": "code",
      "metadata": {
        "id": "GEhtCkociXQp"
      },
      "source": [
        "#realizando o teste após o bootstap"
      ],
      "execution_count": null,
      "outputs": []
    },
    {
      "cell_type": "code",
      "metadata": {
        "id": "x1V01IxUiXQq",
        "outputId": "a4c844e7-283e-4aa1-dd72-763afbd31760"
      },
      "source": [
        "from scipy import stats\n",
        "stats.ttest_ind(A_avg_vec,B_avg_vec)"
      ],
      "execution_count": null,
      "outputs": [
        {
          "output_type": "execute_result",
          "data": {
            "text/plain": [
              "Ttest_indResult(statistic=96.8560517543578, pvalue=0.0)"
            ]
          },
          "metadata": {
            "tags": []
          },
          "execution_count": 19
        }
      ]
    },
    {
      "cell_type": "markdown",
      "metadata": {
        "id": "4qZWpthGiXQq"
      },
      "source": [
        "# Modelo em produção"
      ]
    },
    {
      "cell_type": "markdown",
      "metadata": {
        "id": "uWfWw429iXQq"
      },
      "source": [
        "# Gerando um dataset e treinando um modelo"
      ]
    },
    {
      "cell_type": "code",
      "metadata": {
        "id": "2C1Qc7s3iXQr"
      },
      "source": [
        "from sklearn.ensemble import RandomForestClassifier\n",
        "from sklearn.datasets import make_classification"
      ],
      "execution_count": null,
      "outputs": []
    },
    {
      "cell_type": "code",
      "metadata": {
        "id": "t3Kl6XMdiXQr"
      },
      "source": [
        "rng = np.random.RandomState(0)\n",
        "X, y = make_classification(n_samples=1000, n_features = 5, random_state=rng)"
      ],
      "execution_count": null,
      "outputs": []
    },
    {
      "cell_type": "code",
      "metadata": {
        "id": "zgXTi36eiXQr"
      },
      "source": [
        "from sklearn.model_selection import train_test_split\n",
        "X_train, X_test, y_train, y_test = train_test_split(X, y, test_size=0.2, random_state=42)"
      ],
      "execution_count": null,
      "outputs": []
    },
    {
      "cell_type": "markdown",
      "metadata": {
        "id": "BgJfE-ufiXQr"
      },
      "source": [
        "## Ajustando um random forest"
      ]
    },
    {
      "cell_type": "code",
      "metadata": {
        "id": "cckXrVqYiXQs"
      },
      "source": [
        "clf = RandomForestClassifier(n_estimators=10, random_state=rng)\n",
        "model = clf.fit(X_train, y_train)"
      ],
      "execution_count": null,
      "outputs": []
    },
    {
      "cell_type": "code",
      "metadata": {
        "id": "4BREmrmMiXQs"
      },
      "source": [
        "pred = model.predict(X_test)"
      ],
      "execution_count": null,
      "outputs": []
    },
    {
      "cell_type": "code",
      "metadata": {
        "id": "uVAV-QrkiXQs",
        "outputId": "fa6cf49f-ae95-404d-e8e2-19e58350f0e8"
      },
      "source": [
        "from sklearn.metrics import classification_report, recall_score, precision_score\n",
        "print(classification_report(y_test, pred))"
      ],
      "execution_count": null,
      "outputs": [
        {
          "output_type": "stream",
          "text": [
            "              precision    recall  f1-score   support\n",
            "\n",
            "           0       0.97      0.96      0.96        99\n",
            "           1       0.96      0.97      0.97       101\n",
            "\n",
            "    accuracy                           0.96       200\n",
            "   macro avg       0.97      0.96      0.96       200\n",
            "weighted avg       0.97      0.96      0.96       200\n",
            "\n"
          ],
          "name": "stdout"
        }
      ]
    },
    {
      "cell_type": "code",
      "metadata": {
        "id": "3W8pDvyKiXQt"
      },
      "source": [
        "model_metrics = dict()\n",
        "model_metrics['recall'] = recall_score(y_test, pred)\n",
        "model_metrics['precision'] = precision_score(y_test, pred)"
      ],
      "execution_count": null,
      "outputs": []
    },
    {
      "cell_type": "code",
      "metadata": {
        "scrolled": true,
        "id": "0-gb6wwuiXQt",
        "outputId": "d408e989-8d05-4bdf-b3bd-a6464755a1b8"
      },
      "source": [
        "model_metrics"
      ],
      "execution_count": null,
      "outputs": [
        {
          "output_type": "execute_result",
          "data": {
            "text/plain": [
              "{'recall': 0.9702970297029703, 'precision': 0.9607843137254902}"
            ]
          },
          "metadata": {
            "tags": []
          },
          "execution_count": 15
        }
      ]
    },
    {
      "cell_type": "code",
      "metadata": {
        "id": "LOo1ONhLiXQt"
      },
      "source": [
        "import json\n",
        "\n",
        "with open('metrics/model_metrics_version_clf.json', 'w') as fp:\n",
        "    json.dump(model_metrics, fp)"
      ],
      "execution_count": null,
      "outputs": []
    },
    {
      "cell_type": "markdown",
      "metadata": {
        "id": "6DX9IHPRiXQu"
      },
      "source": [
        "## Salvando modelo"
      ]
    },
    {
      "cell_type": "code",
      "metadata": {
        "id": "QzZSq4L8iXQu"
      },
      "source": [
        "from joblib import dump, load"
      ],
      "execution_count": null,
      "outputs": []
    },
    {
      "cell_type": "code",
      "metadata": {
        "id": "tQai5H4DiXQu",
        "outputId": "2affef12-61a2-4c06-f3e7-2fcc7f5f6375"
      },
      "source": [
        "dump(clf, 'models/clf.joblib') "
      ],
      "execution_count": null,
      "outputs": [
        {
          "output_type": "execute_result",
          "data": {
            "text/plain": [
              "['clf.joblib']"
            ]
          },
          "metadata": {
            "tags": []
          },
          "execution_count": 69
        }
      ]
    },
    {
      "cell_type": "markdown",
      "metadata": {
        "id": "JEPSBc6ZiXQu"
      },
      "source": [
        "# Criando API"
      ]
    },
    {
      "cell_type": "code",
      "metadata": {
        "id": "NIegiQVQiXQv"
      },
      "source": [
        "from flask import Flask, request, url_for, redirect, render_template, jsonify\n",
        "import numpy as np\n",
        "import pandas as pd"
      ],
      "execution_count": null,
      "outputs": []
    },
    {
      "cell_type": "code",
      "metadata": {
        "id": "VRvkcdd7iXQv"
      },
      "source": [
        "app = Flask(__name__)"
      ],
      "execution_count": null,
      "outputs": []
    },
    {
      "cell_type": "code",
      "metadata": {
        "id": "7eRhmbGoiXQv"
      },
      "source": [
        "model = load('models/clf.joblib')"
      ],
      "execution_count": null,
      "outputs": []
    },
    {
      "cell_type": "code",
      "metadata": {
        "id": "NycxYyFViXQv"
      },
      "source": [
        "@app.route('/')\n",
        "def home():\n",
        "    return render_template('templates/template.html')"
      ],
      "execution_count": null,
      "outputs": []
    },
    {
      "cell_type": "code",
      "metadata": {
        "id": "wjF4h0DviXQw"
      },
      "source": [
        "@app.route('/predict', methods = ['POST'])\n",
        "def predict():\n",
        "    #request of all inputs\n",
        "    features = [x for x in request.form.values()]\n",
        "    \n",
        "    #data preparing\n",
        "    features_array = np.array(features)\n",
        "    pandas_features = pd.DataFrame([features_array])\n",
        "    print(features)\n",
        "    \n",
        "    #predict\n",
        "    pred = model.predict(pandas_features)\n",
        "    print(pred)\n",
        "    prediction = int(pred[0])\n",
        "    return render_template(\"home.html\", pred = \"prediction: {}\".format(prediction))"
      ],
      "execution_count": null,
      "outputs": []
    },
    {
      "cell_type": "code",
      "metadata": {
        "id": "v4KwXt2xiXQw"
      },
      "source": [
        "@app.route('/model_health/<model_id>', methods = ['GET'])\n",
        "def model_health(model_id):\n",
        "    with open('metrics/model_metrics_version_{0}.json'.format(model_id)) as f:\n",
        "        model_metrics = json.load(f)    \n",
        "        return model_metrics"
      ],
      "execution_count": null,
      "outputs": []
    }
  ]
}