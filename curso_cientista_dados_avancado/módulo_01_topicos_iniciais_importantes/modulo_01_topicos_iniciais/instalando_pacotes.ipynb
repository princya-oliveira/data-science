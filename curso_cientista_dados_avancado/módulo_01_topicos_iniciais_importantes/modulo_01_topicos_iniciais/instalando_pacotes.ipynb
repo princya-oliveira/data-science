{
  "nbformat": 4,
  "nbformat_minor": 0,
  "metadata": {
    "kernelspec": {
      "display_name": "Python 3",
      "language": "python",
      "name": "python3"
    },
    "language_info": {
      "codemirror_mode": {
        "name": "ipython",
        "version": 3
      },
      "file_extension": ".py",
      "mimetype": "text/x-python",
      "name": "python",
      "nbconvert_exporter": "python",
      "pygments_lexer": "ipython3",
      "version": "3.7.9"
    },
    "colab": {
      "name": "Instalando Pacotes - Mentorama.ipynb",
      "provenance": []
    }
  },
  "cells": [
    {
      "cell_type": "markdown",
      "metadata": {
        "id": "EAh9LYTGsCON"
      },
      "source": [
        "# Referências importantes:"
      ]
    },
    {
      "cell_type": "markdown",
      "metadata": {
        "id": "LRCj9F3AsCOV"
      },
      "source": [
        "https://www.tensorflow.org/install/pip"
      ]
    },
    {
      "cell_type": "markdown",
      "metadata": {
        "id": "E3NjfaQJsCOW"
      },
      "source": [
        "# Tensorflow"
      ]
    },
    {
      "cell_type": "code",
      "metadata": {
        "scrolled": true,
        "id": "4bvHAHuRsCOW",
        "outputId": "b4852ea5-3ede-4310-8a5c-6d9f7977b6c2"
      },
      "source": [
        "!pip install --upgrade tensorflow"
      ],
      "execution_count": null,
      "outputs": [
        {
          "output_type": "stream",
          "text": [
            "Collecting tensorflow\n",
            "  Downloading tensorflow-2.3.1-cp37-cp37m-macosx_10_9_x86_64.whl (165.1 MB)\n",
            "\u001b[K     |████████████████████████████████| 165.1 MB 4.2 MB/s eta 0:00:01   |█▏                              | 6.0 MB 1.8 MB/s eta 0:01:28     |███████████████████▎            | 99.6 MB 1.8 MB/s eta 0:00:38\n",
            "\u001b[?25hCollecting tensorflow-estimator<2.4.0,>=2.3.0\n",
            "  Downloading tensorflow_estimator-2.3.0-py2.py3-none-any.whl (459 kB)\n",
            "\u001b[K     |████████████████████████████████| 459 kB 4.7 MB/s eta 0:00:01\n",
            "\u001b[?25hCollecting h5py<2.11.0,>=2.10.0\n",
            "  Downloading h5py-2.10.0-cp37-cp37m-macosx_10_6_intel.whl (3.0 MB)\n",
            "\u001b[K     |████████████████████████████████| 3.0 MB 3.4 MB/s eta 0:00:01\n",
            "\u001b[?25hCollecting absl-py>=0.7.0\n",
            "  Downloading absl_py-0.11.0-py3-none-any.whl (127 kB)\n",
            "\u001b[K     |████████████████████████████████| 127 kB 2.2 MB/s eta 0:00:01\n",
            "\u001b[?25hRequirement already satisfied, skipping upgrade: six>=1.12.0 in /Users/dimassoares/opt/anaconda3/envs/mentorama/lib/python3.7/site-packages (from tensorflow) (1.15.0)\n",
            "Requirement already satisfied, skipping upgrade: wheel>=0.26 in /Users/dimassoares/opt/anaconda3/envs/mentorama/lib/python3.7/site-packages (from tensorflow) (0.35.1)\n",
            "Collecting google-pasta>=0.1.8\n",
            "  Downloading google_pasta-0.2.0-py3-none-any.whl (57 kB)\n",
            "\u001b[K     |████████████████████████████████| 57 kB 2.5 MB/s eta 0:00:01\n",
            "\u001b[?25hCollecting opt-einsum>=2.3.2\n",
            "  Downloading opt_einsum-3.3.0-py3-none-any.whl (65 kB)\n",
            "\u001b[K     |████████████████████████████████| 65 kB 2.6 MB/s eta 0:00:01\n",
            "\u001b[?25hCollecting numpy<1.19.0,>=1.16.0\n",
            "  Downloading numpy-1.18.5-cp37-cp37m-macosx_10_9_x86_64.whl (15.1 MB)\n",
            "\u001b[K     |████████████████████████████████| 15.1 MB 3.0 MB/s eta 0:00:01\n",
            "\u001b[?25hCollecting tensorboard<3,>=2.3.0\n",
            "  Downloading tensorboard-2.4.0-py3-none-any.whl (10.6 MB)\n",
            "\u001b[K     |████████████████████████████████| 10.6 MB 2.7 MB/s eta 0:00:01\n",
            "\u001b[?25hCollecting wrapt>=1.11.1\n",
            "  Downloading wrapt-1.12.1.tar.gz (27 kB)\n",
            "Collecting gast==0.3.3\n",
            "  Downloading gast-0.3.3-py2.py3-none-any.whl (9.7 kB)\n",
            "Collecting termcolor>=1.1.0\n",
            "  Downloading termcolor-1.1.0.tar.gz (3.9 kB)\n",
            "Collecting keras-preprocessing<1.2,>=1.1.1\n",
            "  Downloading Keras_Preprocessing-1.1.2-py2.py3-none-any.whl (42 kB)\n",
            "\u001b[K     |████████████████████████████████| 42 kB 1.0 MB/s eta 0:00:01\n",
            "\u001b[?25hCollecting astunparse==1.6.3\n",
            "  Downloading astunparse-1.6.3-py2.py3-none-any.whl (12 kB)\n",
            "Collecting protobuf>=3.9.2\n",
            "  Downloading protobuf-3.14.0-cp37-cp37m-macosx_10_9_x86_64.whl (1.0 MB)\n",
            "\u001b[K     |████████████████████████████████| 1.0 MB 2.7 MB/s eta 0:00:01\n",
            "\u001b[?25hCollecting grpcio>=1.8.6\n",
            "  Downloading grpcio-1.33.2-cp37-cp37m-macosx_10_9_x86_64.whl (3.4 MB)\n",
            "\u001b[K     |████████████████████████████████| 3.4 MB 4.1 MB/s eta 0:00:01\n",
            "\u001b[?25hCollecting markdown>=2.6.8\n",
            "  Downloading Markdown-3.3.3-py3-none-any.whl (96 kB)\n",
            "\u001b[K     |████████████████████████████████| 96 kB 2.8 MB/s eta 0:00:01\n",
            "\u001b[?25hCollecting tensorboard-plugin-wit>=1.6.0\n",
            "  Downloading tensorboard_plugin_wit-1.7.0-py3-none-any.whl (779 kB)\n",
            "\u001b[K     |████████████████████████████████| 779 kB 8.5 MB/s eta 0:00:01\n",
            "\u001b[?25hCollecting google-auth-oauthlib<0.5,>=0.4.1\n",
            "  Using cached google_auth_oauthlib-0.4.2-py2.py3-none-any.whl (18 kB)\n",
            "Collecting requests<3,>=2.21.0\n",
            "  Downloading requests-2.25.0-py2.py3-none-any.whl (61 kB)\n",
            "\u001b[K     |████████████████████████████████| 61 kB 2.4 MB/s eta 0:00:01\n",
            "\u001b[?25hCollecting google-auth<2,>=1.6.3\n",
            "  Downloading google_auth-1.23.0-py2.py3-none-any.whl (114 kB)\n",
            "\u001b[K     |████████████████████████████████| 114 kB 3.3 MB/s eta 0:00:01\n",
            "\u001b[?25hRequirement already satisfied, skipping upgrade: setuptools>=41.0.0 in /Users/dimassoares/opt/anaconda3/envs/mentorama/lib/python3.7/site-packages (from tensorboard<3,>=2.3.0->tensorflow) (50.3.1.post20201107)\n",
            "Collecting werkzeug>=0.11.15\n",
            "  Downloading Werkzeug-1.0.1-py2.py3-none-any.whl (298 kB)\n",
            "\u001b[K     |████████████████████████████████| 298 kB 1.0 MB/s eta 0:00:01\n",
            "\u001b[?25hRequirement already satisfied, skipping upgrade: importlib-metadata; python_version < \"3.8\" in /Users/dimassoares/opt/anaconda3/envs/mentorama/lib/python3.7/site-packages (from markdown>=2.6.8->tensorboard<3,>=2.3.0->tensorflow) (2.0.0)\n",
            "Collecting requests-oauthlib>=0.7.0\n",
            "  Using cached requests_oauthlib-1.3.0-py2.py3-none-any.whl (23 kB)\n",
            "Collecting urllib3<1.27,>=1.21.1\n",
            "  Downloading urllib3-1.26.2-py2.py3-none-any.whl (136 kB)\n",
            "\u001b[K     |████████████████████████████████| 136 kB 1.4 MB/s eta 0:00:01\n",
            "\u001b[?25hCollecting idna<3,>=2.5\n",
            "  Using cached idna-2.10-py2.py3-none-any.whl (58 kB)\n",
            "Collecting chardet<4,>=3.0.2\n",
            "  Using cached chardet-3.0.4-py2.py3-none-any.whl (133 kB)\n",
            "Requirement already satisfied, skipping upgrade: certifi>=2017.4.17 in /Users/dimassoares/opt/anaconda3/envs/mentorama/lib/python3.7/site-packages (from requests<3,>=2.21.0->tensorboard<3,>=2.3.0->tensorflow) (2020.6.20)\n",
            "Collecting rsa<5,>=3.1.4; python_version >= \"3.5\"\n",
            "  Using cached rsa-4.6-py3-none-any.whl (47 kB)\n",
            "Collecting cachetools<5.0,>=2.0.0\n",
            "  Using cached cachetools-4.1.1-py3-none-any.whl (10 kB)\n",
            "Collecting pyasn1-modules>=0.2.1\n",
            "  Using cached pyasn1_modules-0.2.8-py2.py3-none-any.whl (155 kB)\n",
            "Requirement already satisfied, skipping upgrade: zipp>=0.5 in /Users/dimassoares/opt/anaconda3/envs/mentorama/lib/python3.7/site-packages (from importlib-metadata; python_version < \"3.8\"->markdown>=2.6.8->tensorboard<3,>=2.3.0->tensorflow) (3.4.0)\n",
            "Collecting oauthlib>=3.0.0\n",
            "  Using cached oauthlib-3.1.0-py2.py3-none-any.whl (147 kB)\n",
            "Collecting pyasn1>=0.1.3\n",
            "  Using cached pyasn1-0.4.8-py2.py3-none-any.whl (77 kB)\n",
            "Building wheels for collected packages: wrapt, termcolor\n",
            "  Building wheel for wrapt (setup.py) ... \u001b[?25ldone\n",
            "\u001b[?25h  Created wheel for wrapt: filename=wrapt-1.12.1-cp37-cp37m-macosx_10_9_x86_64.whl size=32522 sha256=89a07b3ebf0f35e93326579839a453ce1c7778acf45c83b068647de8f595b1b4\n",
            "  Stored in directory: /Users/dimassoares/Library/Caches/pip/wheels/62/76/4c/aa25851149f3f6d9785f6c869387ad82b3fd37582fa8147ac6\n",
            "  Building wheel for termcolor (setup.py) ... \u001b[?25ldone\n",
            "\u001b[?25h  Created wheel for termcolor: filename=termcolor-1.1.0-py3-none-any.whl size=4830 sha256=c6ffefdd4f5377fa1ec67120e37a43fe39af3fe3a0b5111412b2f210b92b36d2\n",
            "  Stored in directory: /Users/dimassoares/Library/Caches/pip/wheels/3f/e3/ec/8a8336ff196023622fbcb36de0c5a5c218cbb24111d1d4c7f2\n",
            "Successfully built wrapt termcolor\n",
            "Installing collected packages: tensorflow-estimator, numpy, h5py, absl-py, google-pasta, opt-einsum, markdown, grpcio, protobuf, tensorboard-plugin-wit, oauthlib, urllib3, idna, chardet, requests, requests-oauthlib, pyasn1, rsa, cachetools, pyasn1-modules, google-auth, google-auth-oauthlib, werkzeug, tensorboard, wrapt, gast, termcolor, keras-preprocessing, astunparse, tensorflow\n",
            "Successfully installed absl-py-0.11.0 astunparse-1.6.3 cachetools-4.1.1 chardet-3.0.4 gast-0.3.3 google-auth-1.23.0 google-auth-oauthlib-0.4.2 google-pasta-0.2.0 grpcio-1.33.2 h5py-2.10.0 idna-2.10 keras-preprocessing-1.1.2 markdown-3.3.3 numpy-1.18.5 oauthlib-3.1.0 opt-einsum-3.3.0 protobuf-3.14.0 pyasn1-0.4.8 pyasn1-modules-0.2.8 requests-2.25.0 requests-oauthlib-1.3.0 rsa-4.6 tensorboard-2.4.0 tensorboard-plugin-wit-1.7.0 tensorflow-2.3.1 tensorflow-estimator-2.3.0 termcolor-1.1.0 urllib3-1.26.2 werkzeug-1.0.1 wrapt-1.12.1\n"
          ],
          "name": "stdout"
        }
      ]
    },
    {
      "cell_type": "code",
      "metadata": {
        "id": "hySpK3mLsCOY"
      },
      "source": [
        "import tensorflow as tf"
      ],
      "execution_count": null,
      "outputs": []
    },
    {
      "cell_type": "code",
      "metadata": {
        "scrolled": true,
        "id": "lqbLXswrsCOZ",
        "outputId": "490354da-a1b4-4e9b-9162-8206e1031ee2"
      },
      "source": [
        "# Import `tensorflow`\n",
        "import tensorflow as tf\n",
        "\n",
        "# Initialize two constants\n",
        "x1 = tf.constant([1,2,3,4])\n",
        "x2 = tf.constant([5,6,7,8])\n",
        "\n",
        "# Multiply\n",
        "result = tf.multiply(x1, x2)\n",
        "\n",
        "# Print the result\n",
        "print(result)"
      ],
      "execution_count": null,
      "outputs": [
        {
          "output_type": "stream",
          "text": [
            "tf.Tensor([ 5 12 21 32], shape=(4,), dtype=int32)\n"
          ],
          "name": "stdout"
        }
      ]
    },
    {
      "cell_type": "code",
      "metadata": {
        "id": "ipkBq9AMsCOa"
      },
      "source": [
        "from tensorflow import keras"
      ],
      "execution_count": null,
      "outputs": []
    },
    {
      "cell_type": "markdown",
      "metadata": {
        "id": "KSz6xaaIsCOa"
      },
      "source": [
        "# Prophet"
      ]
    },
    {
      "cell_type": "markdown",
      "metadata": {
        "id": "4CipxJDRsCOb"
      },
      "source": [
        "https://facebook.github.io/prophet/docs/quick_start.html"
      ]
    },
    {
      "cell_type": "code",
      "metadata": {
        "id": "W3awnocQsCOb",
        "outputId": "6365b118-a30d-44a7-897a-a6c6c386e09c"
      },
      "source": [
        "!conda install -c conda-forge fbprophet"
      ],
      "execution_count": null,
      "outputs": [
        {
          "output_type": "stream",
          "text": [
            "Collecting package metadata (current_repodata.json): done\n",
            "Solving environment: done\n",
            "\n",
            "\n",
            "==> WARNING: A newer version of conda exists. <==\n",
            "  current version: 4.8.3\n",
            "  latest version: 4.9.2\n",
            "\n",
            "Please update conda by running\n",
            "\n",
            "    $ conda update -n base -c defaults conda\n",
            "\n",
            "\n",
            "\n",
            "## Package Plan ##\n",
            "\n",
            "  environment location: /Users/dimassoares/opt/anaconda3/envs/mentorama\n",
            "\n",
            "  added / updated specs:\n",
            "    - fbprophet\n",
            "\n",
            "\n",
            "The following packages will be downloaded:\n",
            "\n",
            "    package                    |            build\n",
            "    ---------------------------|-----------------\n",
            "    c-ares-1.17.1              |       hc929b4f_0          95 KB  conda-forge\n",
            "    ca-certificates-2020.11.8  |       h033912b_0         145 KB  conda-forge\n",
            "    cctools-949.0.1            |       h22b1bf0_1          16 KB  conda-forge\n",
            "    cctools_osx-64-949.0.1     |       h5ba7a2e_1         1.8 MB  conda-forge\n",
            "    certifi-2020.11.8          |   py37hf985489_0         150 KB  conda-forge\n",
            "    cftime-1.3.0               |   py37h8ba3199_0         252 KB  conda-forge\n",
            "    clang-10.0.0               |default_hf57f61e_0        24.1 MB  conda-forge\n",
            "    clang_osx-64-10.0.0        |       h05bbb7f_0          15 KB\n",
            "    clangxx-10.0.0             |default_hf57f61e_0         123 KB\n",
            "    clangxx_osx-64-10.0.0      |       h05bbb7f_1          22 KB\n",
            "    compiler-rt-10.0.0         |       h47ead80_0          82 KB\n",
            "    compiler-rt_osx-64-10.0.0  |       hbcc88fd_0         1.4 MB\n",
            "    convertdate-2.3.0          |     pyhd8ed1ab_0          36 KB  conda-forge\n",
            "    cython-0.29.21             |   py37h08f6e3d_1         2.0 MB  conda-forge\n",
            "    ephem-3.7.7.1              |   py37h60d8a13_1         751 KB  conda-forge\n",
            "    freetype-2.10.4            |       h3f75d11_0         897 KB  conda-forge\n",
            "    hdf5-1.10.5                |nompi_h0cbb7df_1103         2.7 MB  conda-forge\n",
            "    jpeg-9d                    |       hbcb3906_0         250 KB  conda-forge\n",
            "    kiwisolver-1.3.1           |   py37h8ec247f_0          57 KB  conda-forge\n",
            "    krb5-1.17.2                |       h60d9502_0         1.2 MB  conda-forge\n",
            "    lcms2-2.11                 |       h11f7e16_1         387 KB  conda-forge\n",
            "    ld64-530                   |                1          14 KB  conda-forge\n",
            "    ld64_osx-64-530            |       h3c32e8a_1         1.3 MB  conda-forge\n",
            "    libcxx-11.0.0              |       h439d374_0         1.0 MB  conda-forge\n",
            "    libgfortran-3.0.1          |                0         495 KB  conda-forge\n",
            "    libnetcdf-4.7.4            |nompi_he461dc0_101         1.2 MB  conda-forge\n",
            "    libopenblas-0.3.10         |       h0794777_0         4.5 MB\n",
            "    libpng-1.6.37              |       h7cec526_2         313 KB  conda-forge\n",
            "    libtiff-4.1.0              |       hca7d577_6         621 KB  conda-forge\n",
            "    libwebp-base-1.1.0         |       hbcb3906_3         757 KB  conda-forge\n",
            "    matplotlib-base-3.3.3      |   py37hdacc966_0         6.7 MB  conda-forge\n",
            "    netcdf4-1.5.3              |nompi_py37h19ea5d6_103         476 KB  conda-forge\n",
            "    numpy-1.19.4               |   py37h9ebeaaa_1         5.1 MB  conda-forge\n",
            "    olefile-0.46               |     pyh9f0ad1d_1          32 KB  conda-forge\n",
            "    openssl-1.1.1h             |       haf1e3a3_0         1.9 MB  conda-forge\n",
            "    pandas-1.1.4               |   py37h9b0e0a3_0         9.9 MB  conda-forge\n",
            "    pillow-8.0.1               |   py37h09f51b7_0         641 KB  conda-forge\n",
            "    pytz-2020.4                |     pyhd8ed1ab_0         229 KB  conda-forge\n",
            "    scipy-1.2.1                |   py37hbd7caa9_1        15.6 MB  conda-forge\n",
            "    tornado-6.1                |   py37h4b544eb_0         644 KB  conda-forge\n",
            "    tqdm-4.52.0                |     pyhd3deb0d_0          55 KB  conda-forge\n",
            "    ------------------------------------------------------------\n",
            "                                           Total:        87.9 MB\n",
            "\n",
            "The following NEW packages will be INSTALLED:\n",
            "\n",
            "  arviz              conda-forge/noarch::arviz-0.10.0-py_0\n",
            "  bzip2              conda-forge/osx-64::bzip2-1.0.8-haf1e3a3_3\n",
            "  c-ares             conda-forge/osx-64::c-ares-1.17.1-hc929b4f_0\n",
            "  cctools            conda-forge/osx-64::cctools-949.0.1-h22b1bf0_1\n",
            "  cctools_osx-64     conda-forge/osx-64::cctools_osx-64-949.0.1-h5ba7a2e_1\n",
            "  cftime             conda-forge/osx-64::cftime-1.3.0-py37h8ba3199_0\n",
            "  clang              conda-forge/osx-64::clang-10.0.0-default_hf57f61e_0\n",
            "  clang_osx-64       pkgs/main/osx-64::clang_osx-64-10.0.0-h05bbb7f_0\n",
            "  clangxx            pkgs/main/osx-64::clangxx-10.0.0-default_hf57f61e_0\n",
            "  clangxx_osx-64     pkgs/main/osx-64::clangxx_osx-64-10.0.0-h05bbb7f_1\n",
            "  compiler-rt        pkgs/main/osx-64::compiler-rt-10.0.0-h47ead80_0\n",
            "  compiler-rt_osx-64 pkgs/main/noarch::compiler-rt_osx-64-10.0.0-hbcc88fd_0\n",
            "  convertdate        conda-forge/noarch::convertdate-2.3.0-pyhd8ed1ab_0\n",
            "  curl               conda-forge/osx-64::curl-7.71.1-hcb81553_8\n",
            "  cycler             conda-forge/noarch::cycler-0.10.0-py_2\n",
            "  cython             conda-forge/osx-64::cython-0.29.21-py37h08f6e3d_1\n",
            "  ephem              conda-forge/osx-64::ephem-3.7.7.1-py37h60d8a13_1\n",
            "  fbprophet          conda-forge/osx-64::fbprophet-0.7.1-py37hdadc0f0_0\n",
            "  freetype           conda-forge/osx-64::freetype-2.10.4-h3f75d11_0\n",
            "  hdf4               conda-forge/osx-64::hdf4-4.2.13-h84186c3_1003\n",
            "  hdf5               conda-forge/osx-64::hdf5-1.10.5-nompi_h0cbb7df_1103\n",
            "  holidays           conda-forge/noarch::holidays-0.10.3-pyh9f0ad1d_0\n",
            "  jpeg               conda-forge/osx-64::jpeg-9d-hbcb3906_0\n",
            "  kiwisolver         conda-forge/osx-64::kiwisolver-1.3.1-py37h8ec247f_0\n",
            "  korean_lunar_cale~ conda-forge/noarch::korean_lunar_calendar-0.2.1-pyh9f0ad1d_0\n",
            "  krb5               conda-forge/osx-64::krb5-1.17.2-h60d9502_0\n",
            "  lcms2              conda-forge/osx-64::lcms2-2.11-h11f7e16_1\n",
            "  ld64               conda-forge/osx-64::ld64-530-1\n",
            "  ld64_osx-64        conda-forge/osx-64::ld64_osx-64-530-h3c32e8a_1\n",
            "  libblas            conda-forge/osx-64::libblas-3.8.0-17_openblas\n",
            "  libcblas           conda-forge/osx-64::libcblas-3.8.0-17_openblas\n",
            "  libcurl            conda-forge/osx-64::libcurl-7.71.1-h9bf37e3_8\n",
            "  libev              conda-forge/osx-64::libev-4.33-haf1e3a3_1\n",
            "  libgfortran        conda-forge/osx-64::libgfortran-3.0.1-0\n",
            "  liblapack          conda-forge/osx-64::liblapack-3.8.0-17_openblas\n",
            "  libllvm10          conda-forge/osx-64::libllvm10-10.0.1-h009f743_3\n",
            "  libnetcdf          conda-forge/osx-64::libnetcdf-4.7.4-nompi_he461dc0_101\n",
            "  libnghttp2         conda-forge/osx-64::libnghttp2-1.41.0-h7580e61_2\n",
            "  libopenblas        pkgs/main/osx-64::libopenblas-0.3.10-h0794777_0\n",
            "  libpng             conda-forge/osx-64::libpng-1.6.37-h7cec526_2\n",
            "  libssh2            conda-forge/osx-64::libssh2-1.9.0-h8a08a2b_5\n",
            "  libtiff            conda-forge/osx-64::libtiff-4.1.0-hca7d577_6\n",
            "  libwebp-base       conda-forge/osx-64::libwebp-base-1.1.0-hbcb3906_3\n",
            "  llvm-openmp        pkgs/main/osx-64::llvm-openmp-10.0.0-h28b9765_0\n",
            "  lunarcalendar      conda-forge/noarch::lunarcalendar-0.0.9-py_0\n",
            "  lz4-c              conda-forge/osx-64::lz4-c-1.9.2-hb1e8313_3\n",
            "  matplotlib-base    conda-forge/osx-64::matplotlib-base-3.3.3-py37hdacc966_0\n",
            "  netcdf4            conda-forge/osx-64::netcdf4-1.5.3-nompi_py37h19ea5d6_103\n",
            "  numpy              conda-forge/osx-64::numpy-1.19.4-py37h9ebeaaa_1\n",
            "  olefile            conda-forge/noarch::olefile-0.46-pyh9f0ad1d_1\n",
            "  packaging          conda-forge/noarch::packaging-20.4-pyh9f0ad1d_0\n",
            "  pandas             conda-forge/osx-64::pandas-1.1.4-py37h9b0e0a3_0\n",
            "  pillow             conda-forge/osx-64::pillow-8.0.1-py37h09f51b7_0\n",
            "  pymeeus            conda-forge/noarch::pymeeus-0.3.7-pyh9f0ad1d_0\n",
            "  pyparsing          conda-forge/noarch::pyparsing-2.4.7-pyh9f0ad1d_0\n",
            "  pystan             conda-forge/osx-64::pystan-2.19.1.1-py37h6d0141a_2\n",
            "  python-dateutil    conda-forge/noarch::python-dateutil-2.8.1-py_0\n",
            "  python_abi         conda-forge/osx-64::python_abi-3.7-1_cp37m\n",
            "  pytz               conda-forge/noarch::pytz-2020.4-pyhd8ed1ab_0\n",
            "  scipy              conda-forge/osx-64::scipy-1.2.1-py37hbd7caa9_1\n",
            "  six                conda-forge/noarch::six-1.15.0-pyh9f0ad1d_0\n",
            "  tapi               conda-forge/osx-64::tapi-1000.10.8-h879752b_4\n",
            "  tornado            conda-forge/osx-64::tornado-6.1-py37h4b544eb_0\n",
            "  tqdm               conda-forge/noarch::tqdm-4.52.0-pyhd3deb0d_0\n",
            "  xarray             conda-forge/noarch::xarray-0.16.1-py_0\n",
            "  zstd               conda-forge/osx-64::zstd-1.4.5-h289c70a_2\n",
            "\n",
            "The following packages will be UPDATED:\n",
            "\n",
            "  ca-certificates    pkgs/main::ca-certificates-2020.10.14~ --> conda-forge::ca-certificates-2020.11.8-h033912b_0\n",
            "  certifi            pkgs/main/noarch::certifi-2020.6.20-p~ --> conda-forge/osx-64::certifi-2020.11.8-py37hf985489_0\n",
            "  libcxx                         pkgs/main::libcxx-10.0.0-1 --> conda-forge::libcxx-11.0.0-h439d374_0\n",
            "\n",
            "The following packages will be SUPERSEDED by a higher-priority channel:\n",
            "\n",
            "  openssl                                         pkgs/main --> conda-forge\n",
            "\n",
            "\n",
            "\n",
            "Downloading and Extracting Packages\n"
          ],
          "name": "stdout"
        },
        {
          "output_type": "stream",
          "text": [
            "certifi-2020.11.8    | 150 KB    | ##################################### | 100% \n",
            "pytz-2020.4          | 229 KB    | ##################################### | 100% \n",
            "ca-certificates-2020 | 145 KB    | ##################################### | 100% \n",
            "libopenblas-0.3.10   | 4.5 MB    | ##################################### | 100% \n",
            "pillow-8.0.1         | 641 KB    | ##################################### | 100% \n",
            "cctools-949.0.1      | 16 KB     | ##################################### | 100% \n",
            "cython-0.29.21       | 2.0 MB    | ##################################### | 100% \n",
            "clang-10.0.0         | 24.1 MB   | ##################################### | 100% \n",
            "openssl-1.1.1h       | 1.9 MB    | ##################################### | 100% \n",
            "scipy-1.2.1          | 15.6 MB   | ##################################### | 100% \n",
            "jpeg-9d              | 250 KB    | ##################################### | 100% \n",
            "ld64_osx-64-530      | 1.3 MB    | ##################################### | 100% \n",
            "freetype-2.10.4      | 897 KB    | ##################################### | 100% \n",
            "libtiff-4.1.0        | 621 KB    | ##################################### | 100% \n",
            "hdf5-1.10.5          | 2.7 MB    | ##################################### | 100% \n",
            "c-ares-1.17.1        | 95 KB     | ##################################### | 100% \n",
            "libnetcdf-4.7.4      | 1.2 MB    | ##################################### | 100% \n",
            "compiler-rt_osx-64-1 | 1.4 MB    | ##################################### | 100% \n",
            "matplotlib-base-3.3. | 6.7 MB    | ##################################### | 100% \n",
            "convertdate-2.3.0    | 36 KB     | ##################################### | 100% \n",
            "ld64-530             | 14 KB     | ##################################### | 100% \n",
            "netcdf4-1.5.3        | 476 KB    | ##################################### | 100% \n",
            "libgfortran-3.0.1    | 495 KB    | ##################################### | 100% \n",
            "cctools_osx-64-949.0 | 1.8 MB    | ##################################### | 100% \n",
            "compiler-rt-10.0.0   | 82 KB     | ##################################### | 100% \n",
            "clangxx_osx-64-10.0. | 22 KB     | ##################################### | 100% \n",
            "tornado-6.1          | 644 KB    | ##################################### | 100% \n",
            "libpng-1.6.37        | 313 KB    | ##################################### | 100% \n",
            "kiwisolver-1.3.1     | 57 KB     | ##################################### | 100% \n",
            "numpy-1.19.4         | 5.1 MB    | ##################################### | 100% \n",
            "clangxx-10.0.0       | 123 KB    | ##################################### | 100% \n",
            "ephem-3.7.7.1        | 751 KB    | ##################################### | 100% \n",
            "cftime-1.3.0         | 252 KB    | ##################################### | 100% \n",
            "olefile-0.46         | 32 KB     | ##################################### | 100% \n",
            "lcms2-2.11           | 387 KB    | ##################################### | 100% \n",
            "clang_osx-64-10.0.0  | 15 KB     | ##################################### | 100% \n",
            "libwebp-base-1.1.0   | 757 KB    | ##################################### | 100% \n",
            "libcxx-11.0.0        | 1.0 MB    | ##################################### | 100% \n",
            "pandas-1.1.4         | 9.9 MB    | ##################################### | 100% \n",
            "krb5-1.17.2          | 1.2 MB    | ##################################### | 100% \n",
            "tqdm-4.52.0          | 55 KB     | ##################################### | 100% \n",
            "Preparing transaction: done\n",
            "Verifying transaction: \\ WARNING conda.core.path_actions:verify(962): Unable to create environments file. Path not writable.\n",
            "  environment location: /Users/dimassoares/.conda/environments.txt\n",
            "\n",
            "done\n",
            "Executing transaction: / WARNING conda.core.envs_manager:register_env(50): Unable to register environment. Path not writable or missing.\n",
            "  environment location: /Users/dimassoares/opt/anaconda3/envs/mentorama\n",
            "  registry file: /Users/dimassoares/.conda/environments.txt\n",
            "done\n",
            "\n",
            "Note: you may need to restart the kernel to use updated packages.\n"
          ],
          "name": "stdout"
        }
      ]
    },
    {
      "cell_type": "code",
      "metadata": {
        "scrolled": true,
        "id": "elmeMlUgsCOc",
        "outputId": "e65a85de-9fac-4b73-fb69-5f9de2f6d550"
      },
      "source": [
        "from fbprophet import Prophet"
      ],
      "execution_count": null,
      "outputs": [
        {
          "output_type": "stream",
          "text": [
            "Importing plotly failed. Interactive plots will not work.\n"
          ],
          "name": "stderr"
        }
      ]
    },
    {
      "cell_type": "code",
      "metadata": {
        "id": "aK2b_4O0sCOc",
        "outputId": "083294d7-0aaa-4748-d483-307f68a23415"
      },
      "source": [
        "Prophet()"
      ],
      "execution_count": null,
      "outputs": [
        {
          "output_type": "execute_result",
          "data": {
            "text/plain": [
              "<fbprophet.forecaster.Prophet at 0x7fe9570b0c50>"
            ]
          },
          "metadata": {
            "tags": []
          },
          "execution_count": 2
        }
      ]
    },
    {
      "cell_type": "code",
      "metadata": {
        "id": "rqdQ-6N7sCOd"
      },
      "source": [
        ""
      ],
      "execution_count": null,
      "outputs": []
    }
  ]
}