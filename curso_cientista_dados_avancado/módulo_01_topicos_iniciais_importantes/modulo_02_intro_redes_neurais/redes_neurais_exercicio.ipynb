{
 "cells": [
  {
   "cell_type": "markdown",
   "id": "a6c3fde4",
   "metadata": {},
   "source": [
    "**Atividade | Redes Neurais**\n",
    "\n",
    "\"Primeiro, vou reforçar o pedido de que entrem no playground do tensorflow.\n",
    "Http://playground.tensorflow.org/ e brinquem com isso, identificando as partes que formam uma rede neural e fazendo o treinamento para lidar com diferentes bases de dados, percebendo a importância dos inputs fornecidos.\n",
    "Depois disso, nós fechamos a aula com umas redes bem simples, de no máximo 12 parâmetros treináveis. *Gostaria que vocês adicionassem novas camadas, explorassem as diferentes funções de ativação e numero de neurônios, para verem como fica o treinamento de uma rede mais complexa\".*"
   ]
  },
  {
   "cell_type": "code",
   "execution_count": null,
   "id": "5d995bf7",
   "metadata": {},
   "outputs": [],
   "source": [
    "from matplotlib import pyplot as plt\n",
    "import numpy as np\n",
    "from sklearn.model_selection import train_test_split\n",
    "\n",
    "import keras\n",
    "from keras.layers import Input, Dense\n",
    "from keras.models import Model, Sequential\n",
    "from keras import metrics\n",
    "from keras.callbacks import History \n",
    "\n",
    "import tensorflow as tf"
   ]
  },
  {
   "cell_type": "code",
   "execution_count": null,
   "id": "57f4e0ca",
   "metadata": {},
   "outputs": [],
   "source": [
    "# Define exemplos de dados de treino\n",
    "num_training = 1000"
   ]
  },
  {
   "cell_type": "code",
   "execution_count": null,
   "id": "ff59d33b",
   "metadata": {},
   "outputs": [],
   "source": [
    "# Define o tamanho da entrada\n",
    "input_shape = 10"
   ]
  },
  {
   "cell_type": "code",
   "execution_count": null,
   "id": "17fe5787",
   "metadata": {},
   "outputs": [],
   "source": [
    "# Gera inputs aleatórios para os dados de treino\n",
    "x_train = np.random.rand(num_training, input_shape)\n",
    "y_train = np.random.rand(num_training, 1)"
   ]
  },
  {
   "cell_type": "code",
   "execution_count": null,
   "id": "c808458d",
   "metadata": {},
   "outputs": [],
   "source": [
    "# Define a entrada da rede neural\n",
    "inputs = tf.keras.Input(shape=(input_shape,))"
   ]
  },
  {
   "cell_type": "code",
   "execution_count": null,
   "id": "b6acf667",
   "metadata": {},
   "outputs": [],
   "source": [
    "# Adiciona uma camada com 32 neurônios e uma função de ativação ReLU\n",
    "x = tf.keras.layers.Dense(32, activation='relu')(inputs)"
   ]
  },
  {
   "cell_type": "code",
   "execution_count": null,
   "id": "2d477011",
   "metadata": {},
   "outputs": [],
   "source": [
    "# Adiciona uma segunda camada com 16 neurônios e uma função de ativação sigmóide\n",
    "x = tf.keras.layers.Dense(16, activation='sigmoid')(x)"
   ]
  },
  {
   "cell_type": "code",
   "execution_count": null,
   "id": "9e8a0974",
   "metadata": {},
   "outputs": [],
   "source": [
    "# Adiciona uma camada de saída com um único neurônio e uma função de ativação linear\n",
    "outputs = tf.keras.layers.Dense(1, activation='linear')(x)"
   ]
  },
  {
   "cell_type": "code",
   "execution_count": null,
   "id": "d52143e9",
   "metadata": {},
   "outputs": [],
   "source": [
    "# Cria o modelo a partir das camadas de entrada e saída\n",
    "model = tf.keras.Model(inputs=inputs, outputs=outputs)"
   ]
  },
  {
   "cell_type": "code",
   "execution_count": null,
   "id": "fa09cd50",
   "metadata": {},
   "outputs": [],
   "source": [
    "# Compila o modelo com a função de perda mean squared error e o otimizador Adam\n",
    "model.compile(loss='mean_squared_error', optimizer='adam')"
   ]
  },
  {
   "cell_type": "code",
   "execution_count": null,
   "id": "59472a28",
   "metadata": {},
   "outputs": [],
   "source": [
    "# Treina o modelo usando os dados de treinamento\n",
    "model.fit(x_train, y_train, epochs=100, batch_size=32)"
   ]
  },
  {
   "cell_type": "code",
   "execution_count": null,
   "id": "92f14514",
   "metadata": {
    "scrolled": false
   },
   "outputs": [],
   "source": [
    "model.get_weights()"
   ]
  },
  {
   "cell_type": "code",
   "execution_count": null,
   "id": "34ed8d7c",
   "metadata": {},
   "outputs": [],
   "source": [
    "# Previsões da rede\n",
    "y_pred = model.predict(x_train)"
   ]
  },
  {
   "cell_type": "code",
   "execution_count": null,
   "id": "545962be",
   "metadata": {},
   "outputs": [],
   "source": [
    "# Salvando o modelo\n",
    "model.save(\"rede_train.h5\")"
   ]
  }
 ],
 "metadata": {
  "kernelspec": {
   "display_name": "Python 3 (ipykernel)",
   "language": "python",
   "name": "python3"
  },
  "language_info": {
   "codemirror_mode": {
    "name": "ipython",
    "version": 3
   },
   "file_extension": ".py",
   "mimetype": "text/x-python",
   "name": "python",
   "nbconvert_exporter": "python",
   "pygments_lexer": "ipython3",
   "version": "3.8.16"
  }
 },
 "nbformat": 4,
 "nbformat_minor": 5
}
