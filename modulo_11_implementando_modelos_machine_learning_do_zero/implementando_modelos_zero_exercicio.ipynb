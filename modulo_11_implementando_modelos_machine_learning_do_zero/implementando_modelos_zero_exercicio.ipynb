{
 "cells": [
  {
   "cell_type": "markdown",
   "metadata": {},
   "source": [
    "<br>\n",
    "\n",
    "### Exercício: Regressão Linear:\n",
    "__Parte 1:__\n",
    "\n",
    "1- Usando a função getData(), carregue os dados disponibilizados.\n",
    "\n",
    "2- Separe parte dos dados para o dataset de teste.\n",
    "\n",
    "3- Usando a metodologia de validação cruzada, teste diferentes parâmetros da regLinear - diferentes learning_rates e num_steps - para escolher a melhor combinação de parâmetros.\n",
    "\n",
    "4- Implemente a regressão linear do scikit-learn e compare os resultados obtidos.\n",
    "\n",
    "__Parte 2 (Introdução):__\n",
    "\n",
    "Para cada variável explicativa $X_1, .., X_5$, crie outras variáveis usando o __quadrado__ de cada um delas. Desta forma, o conjunto final será de 10 variáveis, em que:\n",
    "\n",
    "$X_6 = (X_1)^{2}$, $X_7 = (X_2)^{2}$, $X_8 = (X_3)^{2}$, $X_9 = (X_4)^{2}$, $X_{10} = (X_5)^{2}$.\n",
    "\n",
    "Ao treinarmos uma regressão linear com essas 10 variáveis, a predição é da forma:\n",
    "\n",
    "$y_{pred} = \\theta_0 + \\theta_1 \\cdot X_1 + .. + \\theta_5 \\cdot X_5 + \\theta_6 \\cdot (X_1)^{2} + .. + \\theta_{10} \\cdot (X_5)^{2}$\n",
    "\n",
    "Como estamos usando o quadrado das variáveis explicativas, dizemos que temos um __modelo de regressão polinomial de grau 2__. Podemos ter variações deste modelo:\n",
    "\n",
    "-Podemos aumentar o grau: basta mudar a potência que elevamos as variáveis. Por exemplo, podemos incluir o __cubo__ das variáveis e termos um modelo polinomial de ordem 3.\n",
    "\n",
    "-Podemos ter __interações__ entre as variáveis: multiplicações entre as variáveis.\n",
    "\n",
    "Exemplo:\n",
    "\n",
    "$y_{pred} = \\theta_0 + \\theta_1 \\cdot X_1 + .. + \\theta_5 \\cdot X_5 + \\theta_6 \\cdot (X_1)^{2} + .. + \\theta_{10} \\cdot (X_5)^{2} + \\theta_{11} \\cdot (X_1)^{3} + \\theta_{12} \\cdot V1 + \\theta_{13} \\cdot V2$,\n",
    "\n",
    "onde\n",
    "\n",
    "$V_1 = X_1 \\cdot X_2$ e $V_2 = (X_2)^{2} \\cdot X_4$\n",
    "\n",
    "__Parte 2 (Exercício):__\n",
    "\n",
    "1- Estude o link:\n",
    "https://scikit-learn.org/stable/modules/generated/sklearn.preprocessing.PolynomialFeatures.html\n",
    "\n",
    "em que é discutido como criar modelos polinomiais com o scikit-learn de forma detalhada.\n",
    "\n",
    "2- Repita os passos da primeira parte, mas agora considerando polinômios de graus 2 ou mais.\n",
    "\n",
    "3- Inclua regularização Ridge e Lasso nas análises e teste os resultados para diferentes parâmetros $\\alpha$.\n",
    "\n",
    "<br>\n",
    "\n",
    "### Exercício: Regressão Logística:\n",
    "\n",
    "__Parte 1:__\n",
    "\n",
    "Crie uma classe regLogistica para treinar o modelo de regressão logística. Essa classe deve ser usada para problemas de classificação binária, cuja variável target assume os valores: 0 (classe negativa) e 1 (classe positiva).\n",
    "\n",
    "O método construtor dessa classe deve possuir 3 parâmetros: learning_rate, num_steps e limiar.\n",
    "\n",
    "Os outros médotos devem ser:\n",
    "\n",
    "    - médoto fit: para treinar o modelo - usando gradient descent\n",
    "    \n",
    "    - médoto predict_proba: para retornar a probabilidade da classe 1\n",
    "    \n",
    "    - médoto predict: retornar a classe predita: 0 ou 1 - dependente do limiar\n",
    "    \n",
    "__Parte 2:__\n",
    "\n",
    "Usando a função getData2(), carregue o dataset disponibilizado.\n",
    "\n",
    "Use a regLogistica, classe criada na parte 1 do exercício, para treinar modelos nestes dados. Use validação cruzada para seleção dos parâmetros. Considere diferentes métricas de classificação e justifique as escolhas."
   ]
  },
  {
   "cell_type": "markdown",
   "metadata": {},
   "source": [
    "**Exercicio 1 - Parte 1**"
   ]
  },
  {
   "cell_type": "code",
   "execution_count": null,
   "metadata": {},
   "outputs": [],
   "source": [
    "import pandas as pd\n",
    "import numpy as np\n",
    "from sklearn.datasets import make_friedman1, make_classification"
   ]
  },
  {
   "cell_type": "code",
   "execution_count": null,
   "metadata": {},
   "outputs": [],
   "source": [
    "#função para acessar os dados do exercício 1\n",
    "\n",
    "def getData():\n",
    "    X, y = make_friedman1(n_samples = 10000, n_features = 5, noise = 5.0, random_state = 0)\n",
    "    return X, y"
   ]
  },
  {
   "cell_type": "code",
   "execution_count": null,
   "metadata": {},
   "outputs": [],
   "source": [
    "X, y = getData()"
   ]
  },
  {
   "cell_type": "code",
   "execution_count": null,
   "metadata": {},
   "outputs": [],
   "source": [
    "Xtreino, Xteste, ytreino, yteste = X[:7500], X[7500:], y[:7500], y[7500:]"
   ]
  },
  {
   "cell_type": "code",
   "execution_count": null,
   "metadata": {},
   "outputs": [],
   "source": [
    "Xtreino.shape, Xteste.shape, ytreino.shape, yteste.shape"
   ]
  },
  {
   "cell_type": "code",
   "execution_count": null,
   "metadata": {},
   "outputs": [],
   "source": [
    "#classe regLinear para exercício\n",
    "\n",
    "class regLinear():\n",
    "    \n",
    "    def __init__(self, learning_rate, num_steps):\n",
    "        self.learning_rate = learning_rate\n",
    "        self.num_steps = num_steps\n",
    "        \n",
    "    def fit(self, X, y):\n",
    "        y = y.reshape(-1,1)\n",
    "        m = X.shape[0] \n",
    "        k = X.shape[1] \n",
    "        theta = np.random.randn(k+1,1) \n",
    "        X_b = np.c_[np.ones((m, 1)), X] \n",
    "        for step in range(self.num_steps):\n",
    "            gradients = 2/m * X_b.T.dot(X_b.dot(theta) - y)\n",
    "            theta = theta - self.learning_rate * gradients\n",
    "        self.theta_final = theta\n",
    "        print(\"modelo treinado.\")\n",
    "        \n",
    "    def predict(self, X):\n",
    "        m = X.shape[0]\n",
    "        X_b = np.c_[np.ones((m, 1)), X]\n",
    "        preds = X_b.dot(self.theta_final)\n",
    "        return preds.reshape(-1,)"
   ]
  },
  {
   "cell_type": "code",
   "execution_count": null,
   "metadata": {},
   "outputs": [],
   "source": [
    "from sklearn.model_selection import KFold"
   ]
  },
  {
   "cell_type": "code",
   "execution_count": null,
   "metadata": {},
   "outputs": [],
   "source": [
    "from sklearn.metrics import mean_squared_error\n",
    "\n",
    "def MSE(ytrue, ypred):\n",
    "    return mean_squared_error(y_true = ytrue, y_pred = ypred)"
   ]
  },
  {
   "cell_type": "code",
   "execution_count": null,
   "metadata": {},
   "outputs": [],
   "source": [
    "def validacao_cruzada(classificador, \n",
    "                      X, \n",
    "                      y, \n",
    "                      metrica, \n",
    "                      num_folds, \n",
    "                      print_info = False, \n",
    "                      nome_metrica = None):\n",
    "    \n",
    "    lista_metrica_treino = []\n",
    "    lista_metrica_validacao = []\n",
    "    \n",
    "    kf = KFold(n_splits = num_folds)\n",
    "    for train_index, val_index in kf.split(X, y):\n",
    "        \n",
    "        Xtrain_folds = X[train_index]\n",
    "        ytrain_folds = y[train_index]\n",
    "        Xval_fold = X[val_index]\n",
    "        yval_fold = y[val_index]\n",
    "        \n",
    "        classificador.fit(X = Xtrain_folds, y = ytrain_folds)\n",
    "        \n",
    "        pred_treino = classificador.predict(Xtrain_folds)\n",
    "        pred_validacao = classificador.predict(Xval_fold)\n",
    "        \n",
    "        lista_metrica_treino.append(metrica(ytrue = ytrain_folds, ypred = pred_treino))\n",
    "        lista_metrica_validacao.append(metrica(ytrue = yval_fold, ypred = pred_validacao))\n",
    "        \n",
    "    if print_info:\n",
    "        print(\"Métrica: \" + nome_metrica)\n",
    "        print('média treino:', np.mean(lista_metrica_treino))\n",
    "        print('média validação:', np.mean(lista_metrica_validacao))\n",
    "        \n",
    "    return lista_metrica_treino, lista_metrica_validacao"
   ]
  },
  {
   "cell_type": "code",
   "execution_count": null,
   "metadata": {
    "scrolled": true
   },
   "outputs": [],
   "source": [
    "validacao_cruzada(classificador = regLinear(learning_rate = 0.075, num_steps = 200),\n",
    "                 X = Xtreino,\n",
    "                 y = ytreino,\n",
    "                 metrica = MSE,\n",
    "                 num_folds = 5,\n",
    "                 print_info = True,\n",
    "                 nome_metrica = 'MSE')"
   ]
  },
  {
   "cell_type": "code",
   "execution_count": null,
   "metadata": {},
   "outputs": [],
   "source": [
    "validacao_cruzada(classificador = regLinear(learning_rate = 0.1, num_steps = 400),\n",
    "                 X = Xtreino,\n",
    "                 y = ytreino,\n",
    "                 metrica = MSE,\n",
    "                 num_folds = 5,\n",
    "                 print_info = True,\n",
    "                 nome_metrica = 'MSE')"
   ]
  },
  {
   "cell_type": "code",
   "execution_count": null,
   "metadata": {},
   "outputs": [],
   "source": [
    "validacao_cruzada(classificador = regLinear(learning_rate = 1, num_steps = 50),\n",
    "                 X = Xtreino,\n",
    "                 y = ytreino,\n",
    "                 metrica = MSE,\n",
    "                 num_folds = 5,\n",
    "                 print_info = True,\n",
    "                 nome_metrica = 'MSE')"
   ]
  },
  {
   "cell_type": "code",
   "execution_count": null,
   "metadata": {},
   "outputs": [],
   "source": [
    "validacao_cruzada(classificador = regLinear(learning_rate = 0.075, num_steps = 100),\n",
    "                 X = Xtreino,\n",
    "                 y = ytreino,\n",
    "                 metrica = MSE,\n",
    "                 num_folds = 5,\n",
    "                 print_info = True,\n",
    "                 nome_metrica = 'MSE')"
   ]
  },
  {
   "cell_type": "code",
   "execution_count": null,
   "metadata": {},
   "outputs": [],
   "source": [
    "rL = regLinear(learning_rate = 0.1, num_steps = 400)"
   ]
  },
  {
   "cell_type": "code",
   "execution_count": null,
   "metadata": {},
   "outputs": [],
   "source": [
    "rL.fit(Xtreino, ytreino)"
   ]
  },
  {
   "cell_type": "code",
   "execution_count": null,
   "metadata": {},
   "outputs": [],
   "source": [
    "pred = rL.predict(Xteste)"
   ]
  },
  {
   "cell_type": "code",
   "execution_count": null,
   "metadata": {},
   "outputs": [],
   "source": [
    "resultado = MSE(ytrue = yteste, ypred = pred)\n",
    "resultado"
   ]
  },
  {
   "cell_type": "code",
   "execution_count": null,
   "metadata": {},
   "outputs": [],
   "source": [
    "from sklearn.linear_model import LinearRegression"
   ]
  },
  {
   "cell_type": "code",
   "execution_count": null,
   "metadata": {
    "scrolled": true
   },
   "outputs": [],
   "source": [
    "validacao_cruzada(classificador = LinearRegression(),\n",
    "                 X = Xtreino,\n",
    "                 y = ytreino,\n",
    "                 metrica = MSE,\n",
    "                 num_folds = 5,\n",
    "                 print_info = True,\n",
    "                 nome_metrica = 'MSE')"
   ]
  },
  {
   "cell_type": "code",
   "execution_count": null,
   "metadata": {},
   "outputs": [],
   "source": [
    "lm = LinearRegression()\n",
    "lm.fit(Xtreino, ytreino)"
   ]
  },
  {
   "cell_type": "code",
   "execution_count": null,
   "metadata": {},
   "outputs": [],
   "source": [
    "pred1 = lm.predict(Xteste)"
   ]
  },
  {
   "cell_type": "code",
   "execution_count": null,
   "metadata": {},
   "outputs": [],
   "source": [
    "resultado1 = MSE(ytrue = yteste, ypred = pred1)\n",
    "resultado1"
   ]
  },
  {
   "cell_type": "markdown",
   "metadata": {},
   "source": [
    "O modelo onde tivemos o melhor resultado foi o com uma \"learning rate = 0.1\" e \"num steps = 400\", seu resultado na base de teste foi bem semelhante ao resultado utilizando a regressão linear do scikit-learn."
   ]
  },
  {
   "cell_type": "markdown",
   "metadata": {},
   "source": [
    "**Exercicio 1 - Parte 2**"
   ]
  },
  {
   "cell_type": "code",
   "execution_count": null,
   "metadata": {},
   "outputs": [],
   "source": [
    "from sklearn.preprocessing import PolynomialFeatures"
   ]
  },
  {
   "cell_type": "code",
   "execution_count": null,
   "metadata": {},
   "outputs": [],
   "source": [
    "poly = PolynomialFeatures(2)\n",
    "Xtreino_P2 = poly.fit_transform(Xtreino)"
   ]
  },
  {
   "cell_type": "code",
   "execution_count": null,
   "metadata": {},
   "outputs": [],
   "source": [
    "validacao_cruzada(classificador = regLinear(learning_rate = 0.075, num_steps = 200),\n",
    "                 X = Xtreino_P2,\n",
    "                 y = ytreino,\n",
    "                 metrica = MSE,\n",
    "                 num_folds = 5,\n",
    "                 print_info = True,\n",
    "                 nome_metrica = 'MSE')"
   ]
  },
  {
   "cell_type": "code",
   "execution_count": null,
   "metadata": {},
   "outputs": [],
   "source": [
    "validacao_cruzada(classificador = regLinear(learning_rate = 0.1, num_steps = 400),\n",
    "                 X = Xtreino_P2,\n",
    "                 y = ytreino,\n",
    "                 metrica = MSE,\n",
    "                 num_folds = 5,\n",
    "                 print_info = True,\n",
    "                 nome_metrica = 'MSE')"
   ]
  },
  {
   "cell_type": "code",
   "execution_count": null,
   "metadata": {
    "scrolled": true
   },
   "outputs": [],
   "source": [
    "validacao_cruzada(classificador = regLinear(learning_rate = 1, num_steps = 50),\n",
    "                 X = Xtreino_P2,\n",
    "                 y = ytreino,\n",
    "                 metrica = MSE,\n",
    "                 num_folds = 5,\n",
    "                 print_info = True,\n",
    "                 nome_metrica = 'MSE')"
   ]
  },
  {
   "cell_type": "code",
   "execution_count": null,
   "metadata": {},
   "outputs": [],
   "source": [
    "validacao_cruzada(classificador = regLinear(learning_rate = 0.075, num_steps = 100),\n",
    "                 X = Xtreino_P2,\n",
    "                 y = ytreino,\n",
    "                 metrica = MSE,\n",
    "                 num_folds = 5,\n",
    "                 print_info = True,\n",
    "                 nome_metrica = 'MSE')"
   ]
  },
  {
   "cell_type": "code",
   "execution_count": null,
   "metadata": {},
   "outputs": [],
   "source": [
    "poly = PolynomialFeatures(20)\n",
    "Xtreino_P20 = poly.fit_transform(Xtreino)"
   ]
  },
  {
   "cell_type": "code",
   "execution_count": null,
   "metadata": {},
   "outputs": [],
   "source": [
    "validacao_cruzada(classificador = regLinear(learning_rate = 0.075, num_steps = 200),\n",
    "                 X = Xtreino_P20,\n",
    "                 y = ytreino,\n",
    "                 metrica = MSE,\n",
    "                 num_folds = 5,\n",
    "                 print_info = True,\n",
    "                 nome_metrica = 'MSE')"
   ]
  },
  {
   "cell_type": "code",
   "execution_count": null,
   "metadata": {},
   "outputs": [],
   "source": [
    "validacao_cruzada(classificador = regLinear(learning_rate = 0.1, num_steps = 400),\n",
    "                 X = Xtreino_P20,\n",
    "                 y = ytreino,\n",
    "                 metrica = MSE,\n",
    "                 num_folds = 5,\n",
    "                 print_info = True,\n",
    "                 nome_metrica = 'MSE')"
   ]
  },
  {
   "cell_type": "code",
   "execution_count": null,
   "metadata": {},
   "outputs": [],
   "source": [
    "validacao_cruzada(classificador = regLinear(learning_rate = 1, num_steps = 50),\n",
    "                 X = Xtreino_P20,\n",
    "                 y = ytreino,\n",
    "                 metrica = MSE,\n",
    "                 num_folds = 5,\n",
    "                 print_info = True,\n",
    "                 nome_metrica = 'MSE')"
   ]
  },
  {
   "cell_type": "code",
   "execution_count": null,
   "metadata": {
    "scrolled": true
   },
   "outputs": [],
   "source": [
    "validacao_cruzada(classificador = regLinear(learning_rate = 0.075, num_steps = 100),\n",
    "                 X = Xtreino_P20,\n",
    "                 y = ytreino,\n",
    "                 metrica = MSE,\n",
    "                 num_folds = 5,\n",
    "                 print_info = True,\n",
    "                 nome_metrica = 'MSE')"
   ]
  },
  {
   "cell_type": "code",
   "execution_count": null,
   "metadata": {},
   "outputs": [],
   "source": [
    "poly = PolynomialFeatures(6)\n",
    "Xtreino_P6 = poly.fit_transform(Xtreino)"
   ]
  },
  {
   "cell_type": "code",
   "execution_count": null,
   "metadata": {},
   "outputs": [],
   "source": [
    "validacao_cruzada(classificador = regLinear(learning_rate = 0.075, num_steps = 200),\n",
    "                 X = Xtreino_P6,\n",
    "                 y = ytreino,\n",
    "                 metrica = MSE,\n",
    "                 num_folds = 5,\n",
    "                 print_info = True,\n",
    "                 nome_metrica = 'MSE')"
   ]
  },
  {
   "cell_type": "code",
   "execution_count": null,
   "metadata": {
    "scrolled": true
   },
   "outputs": [],
   "source": [
    "validacao_cruzada(classificador = regLinear(learning_rate = 0.1, num_steps = 400),\n",
    "                 X = Xtreino_P6,\n",
    "                 y = ytreino,\n",
    "                 metrica = MSE,\n",
    "                 num_folds = 5,\n",
    "                 print_info = True,\n",
    "                 nome_metrica = 'MSE')"
   ]
  },
  {
   "cell_type": "code",
   "execution_count": null,
   "metadata": {},
   "outputs": [],
   "source": [
    "validacao_cruzada(classificador = regLinear(learning_rate = 1, num_steps = 50),\n",
    "                 X = Xtreino_P6,\n",
    "                 y = ytreino,\n",
    "                 metrica = MSE,\n",
    "                 num_folds = 5,\n",
    "                 print_info = True,\n",
    "                 nome_metrica = 'MSE')"
   ]
  },
  {
   "cell_type": "code",
   "execution_count": null,
   "metadata": {},
   "outputs": [],
   "source": [
    "validacao_cruzada(classificador = regLinear(learning_rate = 0.075, num_steps = 100),\n",
    "                 X = Xtreino_P6,\n",
    "                 y = ytreino,\n",
    "                 metrica = MSE,\n",
    "                 num_folds = 5,\n",
    "                 print_info = True,\n",
    "                 nome_metrica = 'MSE')"
   ]
  },
  {
   "cell_type": "code",
   "execution_count": null,
   "metadata": {},
   "outputs": [],
   "source": [
    "validacao_cruzada(classificador = LinearRegression(),\n",
    "                 X = Xtreino_P6,\n",
    "                 y = ytreino,\n",
    "                 metrica = MSE,\n",
    "                 num_folds = 5,\n",
    "                 print_info = True,\n",
    "                 nome_metrica = 'MSE')"
   ]
  },
  {
   "cell_type": "code",
   "execution_count": null,
   "metadata": {},
   "outputs": [],
   "source": [
    "from sklearn.linear_model import Ridge, Lasso\n",
    "from sklearn.preprocessing import StandardScaler\n",
    "from sklearn.pipeline import Pipeline\n",
    "import matplotlib.pyplot as plt"
   ]
  },
  {
   "cell_type": "code",
   "execution_count": null,
   "metadata": {},
   "outputs": [],
   "source": [
    "def polyFitReg(X, y, grau, base_model, base_model_name):\n",
    "    \n",
    "    polybig_features = PolynomialFeatures(degree = grau, include_bias = False)\n",
    "    std_scaler = StandardScaler()\n",
    "    basemodel = base_model\n",
    "    \n",
    "    #criando um pipeline: sequencia de execução de passos\n",
    "    polynomial_regression = Pipeline([\n",
    "            (\"poly_features\", polybig_features),\n",
    "            (\"std_scaler\", std_scaler),\n",
    "            (base_model_name, base_model),\n",
    "        ])\n",
    "    \n",
    "    polynomial_regression.fit(X, y)\n",
    "    return polynomial_regression"
   ]
  },
  {
   "cell_type": "code",
   "execution_count": null,
   "metadata": {
    "scrolled": false
   },
   "outputs": [],
   "source": [
    "grau = 6 \n",
    "\n",
    "for alpha in [0, 0.001, 0.01, 0.1, 1, 10, 100]:\n",
    "    \n",
    "    model_name = 'Ridge_ alpha: '+str(alpha)\n",
    "    polyfit = polyFitReg(X = Xtreino, \n",
    "                         y = ytreino, \n",
    "                         grau = grau, \n",
    "                         base_model = Ridge(alpha = alpha), \n",
    "                         base_model_name = model_name)\n",
    "    \n",
    "    ypoly_novo = polyfit.predict(Xteste)\n",
    "\n",
    "    print(model_name)\n",
    "    plt.figure(figsize=[6,5])\n",
    "    plt.plot(Xteste, ypoly_novo, label=str(grau), lw=2, c = 'red')\n",
    "    plt.scatter(Xteste[:,0], yteste, c = \"blue\")\n",
    "    plt.axis([-3, 3, 0, 10])\n",
    "    plt.show()\n",
    "    print(\"MSE:\")\n",
    "    print('treino:', np.mean(np.square(y - polyfit.predict(X))))\n",
    "    print('teste:', np.mean(np.square(yteste - polyfit.predict(Xteste))))\n",
    "    print(\"------------------------------------------------\\n\\n\")"
   ]
  },
  {
   "cell_type": "code",
   "execution_count": null,
   "metadata": {
    "scrolled": false
   },
   "outputs": [],
   "source": [
    "grau = 6 \n",
    "\n",
    "for alpha in [0, 0.001, 0.01, 0.1, 1, 10, 100]:\n",
    "    \n",
    "    model_name = 'Lasso_ alpha: '+str(alpha)\n",
    "    polyfit = polyFitReg(X = Xtreino, \n",
    "                         y = ytreino, \n",
    "                         grau = grau, \n",
    "                         base_model = Lasso(alpha = alpha), \n",
    "                         base_model_name = model_name)\n",
    "    \n",
    "    ypoly_novo = polyfit.predict(Xteste)\n",
    "\n",
    "    print(model_name)\n",
    "    plt.figure(figsize=[6,5])\n",
    "    plt.plot(Xteste, ypoly_novo, label=str(grau), lw=2, c = 'red')\n",
    "    plt.scatter(Xteste[:,0], yteste, c = \"blue\")\n",
    "    plt.axis([-3, 3, 0, 10])\n",
    "    plt.show()\n",
    "    print(\"MSE:\")\n",
    "    print('treino:', np.mean(np.square(y - polyfit.predict(X))))\n",
    "    print('teste:', np.mean(np.square(yteste - polyfit.predict(Xteste))))\n",
    "    print(\"------------------------------------------------\\n\\n\")"
   ]
  },
  {
   "cell_type": "markdown",
   "metadata": {},
   "source": [
    "Após todos os modelos testados, onde tivemos o melhor resultado foi utilizando 6 graus de polinômios e utilizando a regularização de Lasso com alpha em 0.01."
   ]
  },
  {
   "cell_type": "markdown",
   "metadata": {},
   "source": [
    "**Exercicio 2 - Parte 1**"
   ]
  },
  {
   "cell_type": "code",
   "execution_count": null,
   "metadata": {},
   "outputs": [],
   "source": [
    "def logLossCost(ytrue, ypred_probs):\n",
    "    return (ytrue * np.log(ypred_probs) + (1 - ytrue) * np.log(1 - ypred_probs)).mean() * -1"
   ]
  },
  {
   "cell_type": "code",
   "execution_count": null,
   "metadata": {},
   "outputs": [],
   "source": [
    "def sigmoid(t):\n",
    "    return 1 / (1 + np.exp(-t))"
   ]
  },
  {
   "cell_type": "code",
   "execution_count": null,
   "metadata": {},
   "outputs": [],
   "source": [
    "class regLogistica():\n",
    "    \n",
    "    def __init__(self, learning_rate, num_steps, limiar):\n",
    "        self.learning_rate = learning_rate\n",
    "        self.num_steps = num_steps\n",
    "        self.linear = linear\n",
    "        \n",
    "    def fit(self, X, y):\n",
    "        X_b = np.c_[np.ones(X.shape[0]), X]\n",
    "        theta = np.random.randn(X_b.shape[1],1)\n",
    "        for step in range(self.num_steps):\n",
    "            yscores = sigmoid(X_b.dot(theta))\n",
    "            gradient = X_b.T.dot(yscores - y)\n",
    "            theta = theta - self.learning_rate * gradient\n",
    "        self.theta_final = theta\n",
    "        print(\"modelo treinado.\")\n",
    "        \n",
    "    def predict_proba(self, X):\n",
    "        X_b = np.c_[np.ones(X.shape[0]), X]\n",
    "        probs = sigmoid(X_b.dot(self.theta_final))\n",
    "        return probs\n",
    "        \n",
    "    def predict(self, probs):\n",
    "        linear = self.linear\n",
    "        ypred = np.where(probs > limiar, 1, 0)\n",
    "        return ypred.reshape(-1,)"
   ]
  },
  {
   "cell_type": "markdown",
   "metadata": {},
   "source": [
    "**Exercicio 2 - Parte 2**"
   ]
  },
  {
   "cell_type": "code",
   "execution_count": null,
   "metadata": {},
   "outputs": [],
   "source": [
    "#função para acessar os dados do exercício 2\n",
    "\n",
    "def getData2():\n",
    "    X, y = make_classification(n_classes=2, n_features=5, n_samples=10000, random_state = 0)\n",
    "    return X, y"
   ]
  },
  {
   "cell_type": "code",
   "execution_count": null,
   "metadata": {},
   "outputs": [],
   "source": [
    "X, y = getData2()"
   ]
  },
  {
   "cell_type": "code",
   "execution_count": null,
   "metadata": {},
   "outputs": [],
   "source": [
    "Xtreino, Xteste, ytreino, yteste = X[:7500], X[7500:], y[:7500], y[7500:]"
   ]
  },
  {
   "cell_type": "code",
   "execution_count": null,
   "metadata": {},
   "outputs": [],
   "source": [
    "ytreino = ytreino.reshape(-1,1)\n",
    "\n",
    "yteste = yteste.reshape(-1,1)"
   ]
  },
  {
   "cell_type": "code",
   "execution_count": null,
   "metadata": {},
   "outputs": [],
   "source": [
    "Xtreino.shape, Xteste.shape, ytreino.shape, yteste.shape"
   ]
  },
  {
   "cell_type": "code",
   "execution_count": null,
   "metadata": {},
   "outputs": [],
   "source": [
    "def validacao_cruzada_log(classificador, \n",
    "                      X, \n",
    "                      y, \n",
    "                      metrica, \n",
    "                      num_folds, \n",
    "                      print_info = False, \n",
    "                      nome_metrica = None):\n",
    "    \n",
    "    lista_metrica_treino = []\n",
    "    lista_metrica_validacao = []\n",
    "    \n",
    "    kf = KFold(n_splits = num_folds)\n",
    "    for train_index, val_index in kf.split(X, y):\n",
    "        \n",
    "        Xtrain_folds = X[train_index]\n",
    "        ytrain_folds = y[train_index]\n",
    "        Xval_fold = X[val_index]\n",
    "        yval_fold = y[val_index]\n",
    "        \n",
    "        classificador.fit(X = Xtrain_folds, y = ytrain_folds)\n",
    "        \n",
    "        probs_treino = classificador.predict_proba(Xtrain_folds)\n",
    "        probs_validacao = classificador.predict_proba(Xval_fold)\n",
    "        \n",
    "        pred_treino = classificador.predict(probs_treino)\n",
    "        pred_validacao = classificador.predict(probs_validacao)\n",
    "        \n",
    "        lista_metrica_treino.append(metrica(y_true = ytrain_folds, y_pred = pred_treino))\n",
    "        lista_metrica_validacao.append(metrica(y_true = yval_fold, y_pred = pred_validacao))\n",
    "        \n",
    "    if print_info:\n",
    "        print(\"Métrica: \" + nome_metrica)\n",
    "        print('média treino:', (lista_metrica_treino[0]+lista_metrica_treino[1]+lista_metrica_treino[2]+lista_metrica_treino[3]+lista_metrica_treino[4])/5)\n",
    "        print('média validação:', (lista_metrica_validacao[0]+lista_metrica_validacao[1]+lista_metrica_validacao[2]+lista_metrica_validacao[3]+lista_metrica_validacao[4])/5)\n",
    "        \n",
    "    return lista_metrica_treino, lista_metrica_validacao"
   ]
  },
  {
   "cell_type": "code",
   "execution_count": null,
   "metadata": {},
   "outputs": [],
   "source": [
    "from sklearn.metrics import confusion_matrix"
   ]
  },
  {
   "cell_type": "code",
   "execution_count": null,
   "metadata": {},
   "outputs": [],
   "source": [
    "validacao_cruzada_log(classificador = regLogistica(learning_rate = 0.075, num_steps = 200, limiar = 0.5),\n",
    "                 X = Xtreino,\n",
    "                 y = ytreino,\n",
    "                 metrica = confusion_matrix,\n",
    "                 num_folds = 5,\n",
    "                 print_info = True,\n",
    "                 nome_metrica = 'Matrix de Confusão')"
   ]
  },
  {
   "cell_type": "code",
   "execution_count": null,
   "metadata": {},
   "outputs": [],
   "source": [
    "validacao_cruzada_log(classificador = regLogistica(learning_rate = 0.1, num_steps = 400, limiar = 0.5),\n",
    "                 X = Xtreino,\n",
    "                 y = ytreino,\n",
    "                 metrica = confusion_matrix,\n",
    "                 num_folds = 5,\n",
    "                 print_info = True,\n",
    "                 nome_metrica = 'Matrix de Confusão')"
   ]
  },
  {
   "cell_type": "code",
   "execution_count": null,
   "metadata": {},
   "outputs": [],
   "source": [
    "validacao_cruzada_log(classificador = regLogistica(learning_rate = 0.075, num_steps = 400, limiar = 0.5),\n",
    "                 X = Xtreino,\n",
    "                 y = ytreino,\n",
    "                 metrica = confusion_matrix,\n",
    "                 num_folds = 5,\n",
    "                 print_info = True,\n",
    "                 nome_metrica = 'Matrix de Confusão')"
   ]
  },
  {
   "cell_type": "code",
   "execution_count": null,
   "metadata": {},
   "outputs": [],
   "source": [
    "validacao_cruzada_log(classificador = regLogistica(learning_rate = 0.075, num_steps = 200, limiar = 0.3),\n",
    "                 X = Xtreino,\n",
    "                 y = ytreino,\n",
    "                 metrica = confusion_matrix,\n",
    "                 num_folds = 5,\n",
    "                 print_info = True,\n",
    "                 nome_metrica = 'Matrix de Confusão')"
   ]
  },
  {
   "cell_type": "code",
   "execution_count": null,
   "metadata": {},
   "outputs": [],
   "source": [
    "validacao_cruzada_log(classificador = regLogistica(learning_rate = 0.1, num_steps = 400, limiar = 0.3),\n",
    "                 X = Xtreino,\n",
    "                 y = ytreino,\n",
    "                 metrica = confusion_matrix,\n",
    "                 num_folds = 5,\n",
    "                 print_info = True,\n",
    "                 nome_metrica = 'Matrix de Confusão')"
   ]
  },
  {
   "cell_type": "code",
   "execution_count": null,
   "metadata": {},
   "outputs": [],
   "source": [
    "validacao_cruzada_log(classificador = regLogistica(learning_rate = 0.075, num_steps = 400, limiar = 0.3),\n",
    "                 X = Xtreino,\n",
    "                 y = ytreino,\n",
    "                 metrica = confusion_matrix,\n",
    "                 num_folds = 5,\n",
    "                 print_info = True,\n",
    "                 nome_metrica = 'Matrix de Confusão')"
   ]
  },
  {
   "cell_type": "code",
   "execution_count": null,
   "metadata": {},
   "outputs": [],
   "source": [
    "validacao_cruzada_log(classificador = regLogistica(learning_rate = 0.075, num_steps = 200, limiar = 0.7),\n",
    "                 X = Xtreino,\n",
    "                 y = ytreino,\n",
    "                 metrica = confusion_matrix,\n",
    "                 num_folds = 5,\n",
    "                 print_info = True,\n",
    "                 nome_metrica = 'Matrix de Confusão')"
   ]
  },
  {
   "cell_type": "code",
   "execution_count": null,
   "metadata": {},
   "outputs": [],
   "source": [
    "validacao_cruzada_log(classificador = regLogistica(learning_rate = 0.1, num_steps = 400, limiar = 0.7),\n",
    "                 X = Xtreino,\n",
    "                 y = ytreino,\n",
    "                 metrica = confusion_matrix,\n",
    "                 num_folds = 5,\n",
    "                 print_info = True,\n",
    "                 nome_metrica = 'Matrix de Confusão')"
   ]
  },
  {
   "cell_type": "code",
   "execution_count": null,
   "metadata": {},
   "outputs": [],
   "source": [
    "validacao_cruzada_log(classificador = regLogistica(learning_rate = 0.075, num_steps = 400, limiar = 0.7),\n",
    "                 X = Xtreino,\n",
    "                 y = ytreino,\n",
    "                 metrica = confusion_matrix,\n",
    "                 num_folds = 5,\n",
    "                 print_info = True,\n",
    "                 nome_metrica = 'Matrix de Confusão')"
   ]
  },
  {
   "cell_type": "code",
   "execution_count": null,
   "metadata": {},
   "outputs": [],
   "source": [
    "log = regLogistica(learning_rate = 0.075, num_steps = 200, limiar = 0.3)"
   ]
  },
  {
   "cell_type": "code",
   "execution_count": null,
   "metadata": {},
   "outputs": [],
   "source": [
    "log.fit(X = Xtreino, y = ytreino)"
   ]
  },
  {
   "cell_type": "code",
   "execution_count": null,
   "metadata": {},
   "outputs": [],
   "source": [
    "probs = log.predict_proba(X = Xteste)\n",
    "probs"
   ]
  },
  {
   "cell_type": "code",
   "execution_count": null,
   "metadata": {},
   "outputs": [],
   "source": [
    "ypred = log.predict(probs)\n",
    "ypred"
   ]
  },
  {
   "cell_type": "code",
   "execution_count": null,
   "metadata": {},
   "outputs": [],
   "source": [
    "confusion_matrix(y_true = yteste, y_pred = ypred)"
   ]
  },
  {
   "cell_type": "markdown",
   "metadata": {},
   "source": [
    "Entre os treinamentos realizados com as diferentes metricas de classificação, a que se saiu melhor na média da matriz de confusão foi com uma learning rate de **0,075**, **200** steps e um limiar de **0.3**. Quando aplicado nas bases de teste o resultado se manteve satisfatório."
   ]
  }
 ],
 "metadata": {
  "kernelspec": {
   "display_name": "Python 3",
   "language": "python",
   "name": "python3"
  },
  "language_info": {
   "codemirror_mode": {
    "name": "ipython",
    "version": 3
   },
   "file_extension": ".py",
   "mimetype": "text/x-python",
   "name": "python",
   "nbconvert_exporter": "python",
   "pygments_lexer": "ipython3",
   "version": "3.8.16 (default, Jan 10 2023, 15:23:34) \n[GCC 9.4.0]"
  },
  "vscode": {
   "interpreter": {
    "hash": "9ac03a0a6051494cc606d484d27d20fce22fb7b4d169f583271e11d5ba46a56e"
   }
  }
 },
 "nbformat": 4,
 "nbformat_minor": 2
}
