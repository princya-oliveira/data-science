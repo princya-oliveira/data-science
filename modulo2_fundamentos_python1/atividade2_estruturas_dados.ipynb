{
 "cells": [
  {
   "cell_type": "markdown",
   "metadata": {},
   "source": [
    "**Ex 1:** Escreva duas variáveis do tipo string e escreva uma expressão lógica que verifica se essas variáveis são iguais. Além disso, defina duas variáveis numéricas e calcule o resto da divisão de uma pela outra."
   ]
  },
  {
   "cell_type": "code",
   "execution_count": 5,
   "metadata": {},
   "outputs": [
    {
     "name": "stdout",
     "output_type": "stream",
     "text": [
      "False\n"
     ]
    }
   ],
   "source": [
    "#declarando variáveis tipo string\n",
    "fruta = \"melão\"\n",
    "legume = \"cenoura\"\n",
    "\n",
    "#verificação de igualdade entre strings\n",
    "print(fruta == legume)"
   ]
  },
  {
   "cell_type": "code",
   "execution_count": 9,
   "metadata": {},
   "outputs": [
    {
     "name": "stdout",
     "output_type": "stream",
     "text": [
      "12.5\n"
     ]
    }
   ],
   "source": [
    "#declarando variáveis tipo numéricas\n",
    "ano = 2020\n",
    "temperatura = 27.5\n",
    "\n",
    "#calculo do resto da divisão\n",
    "print(ano%temperatura)"
   ]
  },
  {
   "cell_type": "markdown",
   "metadata": {},
   "source": [
    "**Ex 2:** Crie uma lista de strings que possui elementos repetidos e posteriormente converta essa lista para um conjunto. Confira o tamanho da lista e o tamanho do conjunto após a conversão."
   ]
  },
  {
   "cell_type": "code",
   "execution_count": 11,
   "metadata": {},
   "outputs": [
    {
     "name": "stdout",
     "output_type": "stream",
     "text": [
      "6\n",
      "{'leão', 'cachorro', 'gato', 'macaco'}\n",
      "4\n"
     ]
    }
   ],
   "source": [
    "#lista de strings\n",
    "lista_animais = [\"cachorro\", \"gato\", \"gato\", \"macaco\", \"leão\", \"leão\"]\n",
    "\n",
    "#convertendo a lista em conjunto e verificando o tamanho da lista e conjunto\n",
    "print(len(lista_animais))\n",
    "print(set(lista_animais))\n",
    "print(len(set(lista_animais)))"
   ]
  },
  {
   "cell_type": "markdown",
   "metadata": {},
   "source": [
    "**Ex 3:** Crie um dicionário com 3 itens, em que as chaves são clientes de uma determinada loja e os valores são listas contendo produtos que esses clientes já consumiram. Lembre-se: as listas podem ter tamanhos diferentes."
   ]
  },
  {
   "cell_type": "code",
   "execution_count": 14,
   "metadata": {},
   "outputs": [],
   "source": [
    "#criando o dicionário\n",
    "clientes = {\"Bete\": [\"biscoito\", \"leite\", \"ovos\"], \"Pedro\": [\"ovos\", \"manteiga\", \"feijão\", \"macarrão\"], \"Joana\": [\"iogurte\", \"arroz\", \"pão\"]}"
   ]
  }
 ],
 "metadata": {
  "kernelspec": {
   "display_name": "Python 3",
   "language": "python",
   "name": "python3"
  },
  "language_info": {
   "codemirror_mode": {
    "name": "ipython",
    "version": 3
   },
   "file_extension": ".py",
   "mimetype": "text/x-python",
   "name": "python",
   "nbconvert_exporter": "python",
   "pygments_lexer": "ipython3",
   "version": "3.8.5"
  }
 },
 "nbformat": 4,
 "nbformat_minor": 4
}
