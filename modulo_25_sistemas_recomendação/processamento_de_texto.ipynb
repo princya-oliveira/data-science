{
  "nbformat": 4,
  "nbformat_minor": 0,
  "metadata": {
    "kernelspec": {
      "display_name": "Python 3",
      "language": "python",
      "name": "python3"
    },
    "language_info": {
      "codemirror_mode": {
        "name": "ipython",
        "version": 3
      },
      "file_extension": ".py",
      "mimetype": "text/x-python",
      "name": "python",
      "nbconvert_exporter": "python",
      "pygments_lexer": "ipython3",
      "version": "3.8.5"
    },
    "colab": {
      "name": "processamento_de_texto.ipynb",
      "provenance": []
    }
  },
  "cells": [
    {
      "cell_type": "code",
      "metadata": {
        "id": "P5ftJ09iRyGd"
      },
      "source": [
        "import re\n",
        "import os\n",
        "import emoji\n",
        "import spacy\n",
        "import string\n",
        "import requests\n",
        "import numpy as np\n",
        "import pandas as pd\n",
        "import seaborn as sns\n",
        "import matplotlib.pyplot as plt\n",
        "from bs4 import BeautifulSoup\n",
        "from nltk.stem.porter import PorterStemmer\n",
        "from sklearn.feature_extraction.text import ENGLISH_STOP_WORDS\n",
        "%matplotlib inline"
      ],
      "execution_count": null,
      "outputs": []
    },
    {
      "cell_type": "markdown",
      "metadata": {
        "id": "-g6BJ57VRyGr"
      },
      "source": [
        "# Webscraping"
      ]
    },
    {
      "cell_type": "markdown",
      "metadata": {
        "id": "ri-OQnfWRyGs"
      },
      "source": [
        "criando função para fazer dataset de texto a partir de 3 editorias determinadas no site."
      ]
    },
    {
      "cell_type": "code",
      "metadata": {
        "id": "IHXBMjyYRyGt"
      },
      "source": [
        "seed_urls = ['https://inshorts.com/en/read/technology',\n",
        "             'https://inshorts.com/en/read/sports',\n",
        "             'https://inshorts.com/en/read/world']\n",
        "\n",
        "def build_dataset(seed_urls):\n",
        "    news_data = []\n",
        "    for url in seed_urls:\n",
        "        news_category = url.split('/')[-1]\n",
        "        data = requests.get(url)\n",
        "        soup = BeautifulSoup(data.content, 'html.parser')\n",
        "        \n",
        "        news_articles = [{'news_headline': headline.find('span', \n",
        "                                                         attrs={\"itemprop\": \"headline\"}).string,\n",
        "                          'news_article': article.find('div', \n",
        "                                                       attrs={\"itemprop\": \"articleBody\"}).string,\n",
        "                          'news_category': news_category}\n",
        "                         \n",
        "                            for headline, article in \n",
        "                             zip(soup.find_all('div', \n",
        "                                               class_=[\"news-card-title news-right-box\"]),\n",
        "                                 soup.find_all('div', \n",
        "                                               class_=[\"news-card-content news-right-box\"]))\n",
        "                        ]\n",
        "        news_data.extend(news_articles)\n",
        "        \n",
        "    df =  pd.DataFrame(news_data)\n",
        "    df = df[['news_headline', 'news_article', 'news_category']]\n",
        "    return df"
      ],
      "execution_count": null,
      "outputs": []
    },
    {
      "cell_type": "code",
      "metadata": {
        "scrolled": false,
        "id": "KaPz59NhRyGu",
        "outputId": "2bd4c0ee-b0e4-4f9c-bd9e-8a1e7f61d85a"
      },
      "source": [
        "news_df = build_dataset(seed_urls)\n",
        "news_df.head(10)"
      ],
      "execution_count": null,
      "outputs": [
        {
          "output_type": "execute_result",
          "data": {
            "text/html": [
              "<div>\n",
              "<style scoped>\n",
              "    .dataframe tbody tr th:only-of-type {\n",
              "        vertical-align: middle;\n",
              "    }\n",
              "\n",
              "    .dataframe tbody tr th {\n",
              "        vertical-align: top;\n",
              "    }\n",
              "\n",
              "    .dataframe thead th {\n",
              "        text-align: right;\n",
              "    }\n",
              "</style>\n",
              "<table border=\"1\" class=\"dataframe\">\n",
              "  <thead>\n",
              "    <tr style=\"text-align: right;\">\n",
              "      <th></th>\n",
              "      <th>news_headline</th>\n",
              "      <th>news_article</th>\n",
              "      <th>news_category</th>\n",
              "    </tr>\n",
              "  </thead>\n",
              "  <tbody>\n",
              "    <tr>\n",
              "      <th>0</th>\n",
              "      <td>RBI releases new index to measure growth of di...</td>\n",
              "      <td>The Reserve Bank of India (RBI) on Friday rele...</td>\n",
              "      <td>technology</td>\n",
              "    </tr>\n",
              "    <tr>\n",
              "      <th>1</th>\n",
              "      <td>CBSE website crashes after 2021 board exams da...</td>\n",
              "      <td>The Central Board of Secondary Education's (CB...</td>\n",
              "      <td>technology</td>\n",
              "    </tr>\n",
              "    <tr>\n",
              "      <th>2</th>\n",
              "      <td>UP residents complain of cyber fraud under pre...</td>\n",
              "      <td>Several reports of cyber fraud being committed...</td>\n",
              "      <td>technology</td>\n",
              "    </tr>\n",
              "    <tr>\n",
              "      <th>3</th>\n",
              "      <td>Emergency fundraising, tech IPOs lead to recor...</td>\n",
              "      <td>Emergency corporate fundraising by sectors suc...</td>\n",
              "      <td>technology</td>\n",
              "    </tr>\n",
              "    <tr>\n",
              "      <th>4</th>\n",
              "      <td>Apple shares rise after JPMorgan says iPhone d...</td>\n",
              "      <td>Apple shares rose slightly on Thursday after J...</td>\n",
              "      <td>technology</td>\n",
              "    </tr>\n",
              "    <tr>\n",
              "      <th>5</th>\n",
              "      <td>Huawei removes Tencent games from app store ov...</td>\n",
              "      <td>Tencent on Friday said its online games have b...</td>\n",
              "      <td>technology</td>\n",
              "    </tr>\n",
              "    <tr>\n",
              "      <th>6</th>\n",
              "      <td>NPCI warns of fake news of extra charges on UP...</td>\n",
              "      <td>The National Payments Corporation of India (NP...</td>\n",
              "      <td>technology</td>\n",
              "    </tr>\n",
              "    <tr>\n",
              "      <th>7</th>\n",
              "      <td>Alphabet's drone unit Wing criticises new ID r...</td>\n",
              "      <td>Google parent Alphabet's drone delivery unit W...</td>\n",
              "      <td>technology</td>\n",
              "    </tr>\n",
              "    <tr>\n",
              "      <th>8</th>\n",
              "      <td>Elon Musk sold 3 more of his houses in Dec for...</td>\n",
              "      <td>Tesla CEO Elon Musk sold three more of his hou...</td>\n",
              "      <td>technology</td>\n",
              "    </tr>\n",
              "    <tr>\n",
              "      <th>9</th>\n",
              "      <td>New Brexit agreement calls Netscape, Mozilla M...</td>\n",
              "      <td>The deal document that will govern the UK and ...</td>\n",
              "      <td>technology</td>\n",
              "    </tr>\n",
              "  </tbody>\n",
              "</table>\n",
              "</div>"
            ],
            "text/plain": [
              "                                       news_headline  \\\n",
              "0  RBI releases new index to measure growth of di...   \n",
              "1  CBSE website crashes after 2021 board exams da...   \n",
              "2  UP residents complain of cyber fraud under pre...   \n",
              "3  Emergency fundraising, tech IPOs lead to recor...   \n",
              "4  Apple shares rise after JPMorgan says iPhone d...   \n",
              "5  Huawei removes Tencent games from app store ov...   \n",
              "6  NPCI warns of fake news of extra charges on UP...   \n",
              "7  Alphabet's drone unit Wing criticises new ID r...   \n",
              "8  Elon Musk sold 3 more of his houses in Dec for...   \n",
              "9  New Brexit agreement calls Netscape, Mozilla M...   \n",
              "\n",
              "                                        news_article news_category  \n",
              "0  The Reserve Bank of India (RBI) on Friday rele...    technology  \n",
              "1  The Central Board of Secondary Education's (CB...    technology  \n",
              "2  Several reports of cyber fraud being committed...    technology  \n",
              "3  Emergency corporate fundraising by sectors suc...    technology  \n",
              "4  Apple shares rose slightly on Thursday after J...    technology  \n",
              "5  Tencent on Friday said its online games have b...    technology  \n",
              "6  The National Payments Corporation of India (NP...    technology  \n",
              "7  Google parent Alphabet's drone delivery unit W...    technology  \n",
              "8  Tesla CEO Elon Musk sold three more of his hou...    technology  \n",
              "9  The deal document that will govern the UK and ...    technology  "
            ]
          },
          "metadata": {
            "tags": []
          },
          "execution_count": 5
        }
      ]
    },
    {
      "cell_type": "code",
      "metadata": {
        "id": "APDqH3o1RyGv"
      },
      "source": [
        "news_df.to_csv('news_df_mentorama.csv')"
      ],
      "execution_count": null,
      "outputs": []
    },
    {
      "cell_type": "markdown",
      "metadata": {
        "id": "-8WuAcgKRyGw"
      },
      "source": [
        "Para saber:\n",
        "\n",
        "- *Token*: uma unidade do texto, pode ser uma palavra, uma frase, etc. \n",
        "- *Documento*: uma sequencia de tokens, por exemplo um livro ou um artigo \n",
        "- *Corpus*: um conjunto de documentos. \n",
        "- *Document Term Matrix*: uma matrix que descreve a frequencia de termos em um corpus\n",
        "- *Stopwords*: palavras que não contém informação, que ocorrem com muita frequência.\n",
        "\n",
        "Definindo função que processa o texto e retorna o texto tokenizado e sem stopwords, emoji, pontuação e números, etc:"
      ]
    },
    {
      "cell_type": "code",
      "metadata": {
        "id": "zRIQ_GU_RyGx"
      },
      "source": [
        "def preprocess_text(text, remove_stop = True, stem_words = False, remove_mentions_hashtags = True):\n",
        "    \"\"\"\n",
        "    eg:\n",
        "    input: preprocess_text(\"@water #dream hi hello where are you going be there tomorrow happening happen happens\",  \n",
        "    stem_words = True) \n",
        "    output: ['tomorrow', 'happen', 'go', 'hello']\n",
        "    \"\"\"\n",
        "\n",
        "    # Remove emojis\n",
        "    emoji_pattern = re.compile(\"[\" \"\\U0001F1E0-\\U0001F6FF\" \"]+\", flags=re.UNICODE)\n",
        "    text = emoji_pattern.sub(r\"\", text)\n",
        "    text = \"\".join([x for x in text if x not in emoji.UNICODE_EMOJI])\n",
        "\n",
        "    if remove_mentions_hashtags:\n",
        "        text = re.sub(r\"@(\\w+)\", \" \", text)\n",
        "        text = re.sub(r\"#(\\w+)\", \" \", text)\n",
        "\n",
        "    text = re.sub(r\"[^\\x00-\\x7F]+\", \" \", text)\n",
        "    regex = re.compile('[' + re.escape(string.punctuation) + '0-9\\\\r\\\\t\\\\n]') # remove punctuation and numbers\n",
        "    nopunct = regex.sub(\" \", text.lower())\n",
        "    words = (''.join(nopunct)).split()\n",
        "\n",
        "    if(remove_stop):\n",
        "        words = [w for w in words if w not in ENGLISH_STOP_WORDS]\n",
        "        words = [w for w in words if len(w) > 2]  # remove a,an,of etc.\n",
        "\n",
        "    if(stem_words):\n",
        "        stemmer = PorterStemmer()\n",
        "        words = [stemmer.stem(w) for w in words]\n",
        "\n",
        "    return list(words)"
      ],
      "execution_count": null,
      "outputs": []
    },
    {
      "cell_type": "code",
      "metadata": {
        "id": "br7iJy8wRyGy"
      },
      "source": [
        "rows, cols = news_df.shape"
      ],
      "execution_count": null,
      "outputs": []
    },
    {
      "cell_type": "code",
      "metadata": {
        "id": "iTjB2VBNRyGy"
      },
      "source": [
        "#processando os textos\n",
        "news_df['token'] = [preprocess_text(news_df[\"news_article\"][row]) for row in range(rows)]"
      ],
      "execution_count": null,
      "outputs": []
    },
    {
      "cell_type": "code",
      "metadata": {
        "scrolled": false,
        "id": "c-OaAKBiRyGz",
        "outputId": "b7465b17-5ceb-4d81-8cb2-fe9d67949bda"
      },
      "source": [
        "news_df.head()"
      ],
      "execution_count": null,
      "outputs": [
        {
          "output_type": "execute_result",
          "data": {
            "text/html": [
              "<div>\n",
              "<style scoped>\n",
              "    .dataframe tbody tr th:only-of-type {\n",
              "        vertical-align: middle;\n",
              "    }\n",
              "\n",
              "    .dataframe tbody tr th {\n",
              "        vertical-align: top;\n",
              "    }\n",
              "\n",
              "    .dataframe thead th {\n",
              "        text-align: right;\n",
              "    }\n",
              "</style>\n",
              "<table border=\"1\" class=\"dataframe\">\n",
              "  <thead>\n",
              "    <tr style=\"text-align: right;\">\n",
              "      <th></th>\n",
              "      <th>news_headline</th>\n",
              "      <th>news_article</th>\n",
              "      <th>news_category</th>\n",
              "      <th>token</th>\n",
              "    </tr>\n",
              "  </thead>\n",
              "  <tbody>\n",
              "    <tr>\n",
              "      <th>0</th>\n",
              "      <td>RBI releases new index to measure growth of di...</td>\n",
              "      <td>The Reserve Bank of India (RBI) on Friday rele...</td>\n",
              "      <td>technology</td>\n",
              "      <td>[reserve, bank, india, rbi, friday, released, ...</td>\n",
              "    </tr>\n",
              "    <tr>\n",
              "      <th>1</th>\n",
              "      <td>CBSE website crashes after 2021 board exams da...</td>\n",
              "      <td>The Central Board of Secondary Education's (CB...</td>\n",
              "      <td>technology</td>\n",
              "      <td>[central, board, secondary, education, cbse, w...</td>\n",
              "    </tr>\n",
              "    <tr>\n",
              "      <th>2</th>\n",
              "      <td>UP residents complain of cyber fraud under pre...</td>\n",
              "      <td>Several reports of cyber fraud being committed...</td>\n",
              "      <td>technology</td>\n",
              "      <td>[reports, cyber, fraud, committed, residents, ...</td>\n",
              "    </tr>\n",
              "    <tr>\n",
              "      <th>3</th>\n",
              "      <td>Emergency fundraising, tech IPOs lead to recor...</td>\n",
              "      <td>Emergency corporate fundraising by sectors suc...</td>\n",
              "      <td>technology</td>\n",
              "      <td>[emergency, corporate, fundraising, sectors, a...</td>\n",
              "    </tr>\n",
              "    <tr>\n",
              "      <th>4</th>\n",
              "      <td>Apple shares rise after JPMorgan says iPhone d...</td>\n",
              "      <td>Apple shares rose slightly on Thursday after J...</td>\n",
              "      <td>technology</td>\n",
              "      <td>[apple, shares, rose, slightly, thursday, jpmo...</td>\n",
              "    </tr>\n",
              "  </tbody>\n",
              "</table>\n",
              "</div>"
            ],
            "text/plain": [
              "                                       news_headline  \\\n",
              "0  RBI releases new index to measure growth of di...   \n",
              "1  CBSE website crashes after 2021 board exams da...   \n",
              "2  UP residents complain of cyber fraud under pre...   \n",
              "3  Emergency fundraising, tech IPOs lead to recor...   \n",
              "4  Apple shares rise after JPMorgan says iPhone d...   \n",
              "\n",
              "                                        news_article news_category  \\\n",
              "0  The Reserve Bank of India (RBI) on Friday rele...    technology   \n",
              "1  The Central Board of Secondary Education's (CB...    technology   \n",
              "2  Several reports of cyber fraud being committed...    technology   \n",
              "3  Emergency corporate fundraising by sectors suc...    technology   \n",
              "4  Apple shares rose slightly on Thursday after J...    technology   \n",
              "\n",
              "                                               token  \n",
              "0  [reserve, bank, india, rbi, friday, released, ...  \n",
              "1  [central, board, secondary, education, cbse, w...  \n",
              "2  [reports, cyber, fraud, committed, residents, ...  \n",
              "3  [emergency, corporate, fundraising, sectors, a...  \n",
              "4  [apple, shares, rose, slightly, thursday, jpmo...  "
            ]
          },
          "metadata": {
            "tags": []
          },
          "execution_count": 9
        }
      ]
    },
    {
      "cell_type": "markdown",
      "metadata": {
        "id": "0-eDtBCBRyGz"
      },
      "source": [
        "# Word Embedding"
      ]
    },
    {
      "cell_type": "markdown",
      "metadata": {
        "id": "jc2HJyvwRyGz"
      },
      "source": [
        "Depois que temos o texto com tokens, vamos usar uma rede neural que recebe palavras e entrega vetores que representam ela em um espaço vetorial. "
      ]
    },
    {
      "cell_type": "markdown",
      "metadata": {
        "id": "p8E0Y6p8RyG0"
      },
      "source": [
        "# documentação importante:\n",
        "https://spacy.io/usage"
      ]
    },
    {
      "cell_type": "code",
      "metadata": {
        "collapsed": true,
        "id": "EwHEs068RyG0",
        "outputId": "11cb2c4f-020b-4cfe-8bf1-38a092ecc93b"
      },
      "source": [
        "!python -m spacy download en_core_web_md"
      ],
      "execution_count": null,
      "outputs": [
        {
          "output_type": "stream",
          "text": [
            "Collecting en_core_web_md==2.3.1\n",
            "  Downloading https://github.com/explosion/spacy-models/releases/download/en_core_web_md-2.3.1/en_core_web_md-2.3.1.tar.gz (50.8 MB)\n",
            "\u001b[K     |████████████████████████████████| 50.8 MB 142 kB/s eta 0:00:01\n",
            "\u001b[?25hRequirement already satisfied: spacy<2.4.0,>=2.3.0 in /opt/anaconda3/envs/py38/lib/python3.8/site-packages (from en_core_web_md==2.3.1) (2.3.5)\n",
            "Requirement already satisfied: setuptools in /opt/anaconda3/envs/py38/lib/python3.8/site-packages (from spacy<2.4.0,>=2.3.0->en_core_web_md==2.3.1) (51.0.0.post20201207)\n",
            "Requirement already satisfied: cymem<2.1.0,>=2.0.2 in /opt/anaconda3/envs/py38/lib/python3.8/site-packages (from spacy<2.4.0,>=2.3.0->en_core_web_md==2.3.1) (2.0.5)\n",
            "Requirement already satisfied: tqdm<5.0.0,>=4.38.0 in /opt/anaconda3/envs/py38/lib/python3.8/site-packages (from spacy<2.4.0,>=2.3.0->en_core_web_md==2.3.1) (4.55.0)\n",
            "Requirement already satisfied: catalogue<1.1.0,>=0.0.7 in /opt/anaconda3/envs/py38/lib/python3.8/site-packages (from spacy<2.4.0,>=2.3.0->en_core_web_md==2.3.1) (1.0.0)\n",
            "Requirement already satisfied: preshed<3.1.0,>=3.0.2 in /opt/anaconda3/envs/py38/lib/python3.8/site-packages (from spacy<2.4.0,>=2.3.0->en_core_web_md==2.3.1) (3.0.5)\n",
            "Requirement already satisfied: numpy>=1.15.0 in /opt/anaconda3/envs/py38/lib/python3.8/site-packages (from spacy<2.4.0,>=2.3.0->en_core_web_md==2.3.1) (1.19.4)\n",
            "Requirement already satisfied: thinc<7.5.0,>=7.4.1 in /opt/anaconda3/envs/py38/lib/python3.8/site-packages (from spacy<2.4.0,>=2.3.0->en_core_web_md==2.3.1) (7.4.5)\n",
            "Requirement already satisfied: wasabi<1.1.0,>=0.4.0 in /opt/anaconda3/envs/py38/lib/python3.8/site-packages (from spacy<2.4.0,>=2.3.0->en_core_web_md==2.3.1) (0.8.0)\n",
            "Requirement already satisfied: plac<1.2.0,>=0.9.6 in /opt/anaconda3/envs/py38/lib/python3.8/site-packages (from spacy<2.4.0,>=2.3.0->en_core_web_md==2.3.1) (1.1.3)\n",
            "Requirement already satisfied: blis<0.8.0,>=0.4.0 in /opt/anaconda3/envs/py38/lib/python3.8/site-packages (from spacy<2.4.0,>=2.3.0->en_core_web_md==2.3.1) (0.7.4)\n",
            "Requirement already satisfied: requests<3.0.0,>=2.13.0 in /opt/anaconda3/envs/py38/lib/python3.8/site-packages (from spacy<2.4.0,>=2.3.0->en_core_web_md==2.3.1) (2.25.1)\n",
            "Requirement already satisfied: srsly<1.1.0,>=1.0.2 in /opt/anaconda3/envs/py38/lib/python3.8/site-packages (from spacy<2.4.0,>=2.3.0->en_core_web_md==2.3.1) (1.0.5)\n",
            "Requirement already satisfied: murmurhash<1.1.0,>=0.28.0 in /opt/anaconda3/envs/py38/lib/python3.8/site-packages (from spacy<2.4.0,>=2.3.0->en_core_web_md==2.3.1) (1.0.5)\n",
            "Requirement already satisfied: chardet<5,>=3.0.2 in /opt/anaconda3/envs/py38/lib/python3.8/site-packages (from requests<3.0.0,>=2.13.0->spacy<2.4.0,>=2.3.0->en_core_web_md==2.3.1) (4.0.0)\n",
            "Requirement already satisfied: idna<3,>=2.5 in /opt/anaconda3/envs/py38/lib/python3.8/site-packages (from requests<3.0.0,>=2.13.0->spacy<2.4.0,>=2.3.0->en_core_web_md==2.3.1) (2.10)\n",
            "Requirement already satisfied: certifi>=2017.4.17 in /opt/anaconda3/envs/py38/lib/python3.8/site-packages (from requests<3.0.0,>=2.13.0->spacy<2.4.0,>=2.3.0->en_core_web_md==2.3.1) (2020.12.5)\n",
            "Requirement already satisfied: urllib3<1.27,>=1.21.1 in /opt/anaconda3/envs/py38/lib/python3.8/site-packages (from requests<3.0.0,>=2.13.0->spacy<2.4.0,>=2.3.0->en_core_web_md==2.3.1) (1.26.2)\n",
            "Building wheels for collected packages: en-core-web-md\n",
            "  Building wheel for en-core-web-md (setup.py) ... \u001b[?25ldone\n",
            "\u001b[?25h  Created wheel for en-core-web-md: filename=en_core_web_md-2.3.1-py3-none-any.whl size=50916640 sha256=5a17be1d76827dc6ea7ede6019e688be56c2d386f1d454deadfd206467af0dde\n",
            "  Stored in directory: /private/var/folders/mv/tfzgrfr17wb3gtswfh_d3n5m0000gp/T/pip-ephem-wheel-cache-gwzwgd3c/wheels/b8/ae/ae/c63bae74a3b3e18b2fa35e179387e6cdeb03a1c479ed45c351\n",
            "Successfully built en-core-web-md\n",
            "Installing collected packages: en-core-web-md\n",
            "Successfully installed en-core-web-md-2.3.1\n",
            "\u001b[38;5;2m✔ Download and installation successful\u001b[0m\n",
            "You can now load the model via spacy.load('en_core_web_md')\n"
          ],
          "name": "stdout"
        }
      ]
    },
    {
      "cell_type": "code",
      "metadata": {
        "id": "J426_C9ORyG1"
      },
      "source": [
        "import spacy"
      ],
      "execution_count": null,
      "outputs": []
    },
    {
      "cell_type": "code",
      "metadata": {
        "id": "3vlVdgvwRyG2"
      },
      "source": [
        "nlp = spacy.load('en_core_web_md')"
      ],
      "execution_count": null,
      "outputs": []
    },
    {
      "cell_type": "code",
      "metadata": {
        "id": "W7ulo8ABRyG3"
      },
      "source": [
        "# definindo função que retorna os vetores para cada palavra:\n",
        "def vec(s):\n",
        "    return nlp.vocab[s].vector"
      ],
      "execution_count": null,
      "outputs": []
    },
    {
      "cell_type": "markdown",
      "metadata": {
        "id": "j9DDdPhsRyG3"
      },
      "source": [
        "# Vetorizando cada palavra. \n",
        "Aqui, como cada documento tem um número diferente de palavras, vamos ter matrizes com diferentes dimensões. Nosso objetivo final é conseguir representar cada documento como um vetor que resume o documento. Ou seja, queremos representar diferentes matrizes como vetores. Existem várias formas de fazer isso (média dos vetores, média ponderada pelo TF-IDF, PCA...), mas nesse teste vamos fazer uma média simples. "
      ]
    },
    {
      "cell_type": "code",
      "metadata": {
        "id": "3S3XI7FoRyG4"
      },
      "source": [
        "vec_size = 300\n",
        "list_of_matrix = []\n",
        "for corpus in news_df['token']:\n",
        "    matrix = np.empty([len(corpus), vec_size])\n",
        "    for idx, word in enumerate(corpus):\n",
        "        matrix[idx,:] = vec(word)\n",
        "    list_of_matrix.append(matrix)"
      ],
      "execution_count": null,
      "outputs": []
    },
    {
      "cell_type": "code",
      "metadata": {
        "scrolled": true,
        "id": "t5Ql9V8xRyG6"
      },
      "source": [
        "final_feature_matrix = np.empty([rows, vec_size])\n",
        "\n",
        "for row in range(rows):\n",
        "    final_feature_matrix[row,:] = list_of_matrix[row].mean(axis = 0)"
      ],
      "execution_count": null,
      "outputs": []
    },
    {
      "cell_type": "code",
      "metadata": {
        "scrolled": true,
        "id": "TK658e0MRyG6",
        "outputId": "03cc6705-9e35-42b4-9022-0ad187329dc0"
      },
      "source": [
        "final_feature_matrix.shape"
      ],
      "execution_count": null,
      "outputs": [
        {
          "output_type": "execute_result",
          "data": {
            "text/plain": [
              "(75, 300)"
            ]
          },
          "metadata": {
            "tags": []
          },
          "execution_count": 13
        }
      ]
    },
    {
      "cell_type": "markdown",
      "metadata": {
        "id": "crsiKXMCRyG7"
      },
      "source": [
        "# Clusterização de matérias:\n",
        "\n",
        "Agora que temos um vetor que representa cada documento, vamos usar algum método de clusterização pra tentar recuperar as editorias selecionadas lá no início. Vamos rodar um k-means em cada vetor que representa um documento e (como é um teste), pedir 3 clusters para ele. "
      ]
    },
    {
      "cell_type": "code",
      "metadata": {
        "scrolled": true,
        "id": "WQ4T-gjmRyG7",
        "outputId": "5b247984-3647-439f-92e7-319c874a4b90"
      },
      "source": [
        "from sklearn.cluster import KMeans\n",
        "import numpy as np\n",
        "kmeans = KMeans(n_clusters=3, random_state=0).fit(final_feature_matrix)\n",
        "kmeans.labels_"
      ],
      "execution_count": null,
      "outputs": [
        {
          "output_type": "execute_result",
          "data": {
            "text/plain": [
              "array([0, 1, 0, 0, 1, 1, 0, 1, 1, 0, 0, 1, 1, 0, 0, 0, 1, 1, 1, 1, 1, 0,\n",
              "       1, 1, 0, 2, 2, 2, 2, 2, 2, 2, 2, 2, 2, 2, 2, 2, 2, 1, 2, 2, 2, 2,\n",
              "       2, 2, 2, 2, 2, 2, 2, 1, 1, 1, 1, 1, 1, 1, 1, 1, 1, 1, 1, 1, 0, 1,\n",
              "       1, 1, 1, 1, 1, 1, 1, 1, 1], dtype=int32)"
            ]
          },
          "metadata": {
            "tags": []
          },
          "execution_count": 15
        }
      ]
    },
    {
      "cell_type": "markdown",
      "metadata": {
        "id": "QsDAoJ3HRyG8"
      },
      "source": [
        "Vamos ver como o k-means separou cada grupo e olhar o label verdadeiro para validar nosso método:"
      ]
    },
    {
      "cell_type": "code",
      "metadata": {
        "scrolled": true,
        "id": "NLhf0-b8RyG8",
        "outputId": "08a705fc-f326-47ad-9da3-bbf6f925e745"
      },
      "source": [
        "print(news_df[\"news_category\"][kmeans.labels_ == 0]) \n",
        "print(news_df[\"news_category\"][kmeans.labels_ == 1])\n",
        "print(news_df[\"news_category\"][kmeans.labels_ == 2])"
      ],
      "execution_count": null,
      "outputs": [
        {
          "output_type": "stream",
          "text": [
            "0     technology\n",
            "2     technology\n",
            "3     technology\n",
            "6     technology\n",
            "9     technology\n",
            "10    technology\n",
            "13    technology\n",
            "14    technology\n",
            "15    technology\n",
            "21    technology\n",
            "24    technology\n",
            "64         world\n",
            "Name: news_category, dtype: object\n",
            "1     technology\n",
            "4     technology\n",
            "5     technology\n",
            "7     technology\n",
            "8     technology\n",
            "11    technology\n",
            "12    technology\n",
            "16    technology\n",
            "17    technology\n",
            "18    technology\n",
            "19    technology\n",
            "20    technology\n",
            "22    technology\n",
            "23    technology\n",
            "39        sports\n",
            "51         world\n",
            "52         world\n",
            "53         world\n",
            "54         world\n",
            "55         world\n",
            "56         world\n",
            "57         world\n",
            "58         world\n",
            "59         world\n",
            "60         world\n",
            "61         world\n",
            "62         world\n",
            "63         world\n",
            "65         world\n",
            "66         world\n",
            "67         world\n",
            "68         world\n",
            "69         world\n",
            "70         world\n",
            "71         world\n",
            "72         world\n",
            "73         world\n",
            "74         world\n",
            "Name: news_category, dtype: object\n",
            "25    sports\n",
            "26    sports\n",
            "27    sports\n",
            "28    sports\n",
            "29    sports\n",
            "30    sports\n",
            "31    sports\n",
            "32    sports\n",
            "33    sports\n",
            "34    sports\n",
            "35    sports\n",
            "36    sports\n",
            "37    sports\n",
            "38    sports\n",
            "40    sports\n",
            "41    sports\n",
            "42    sports\n",
            "43    sports\n",
            "44    sports\n",
            "45    sports\n",
            "46    sports\n",
            "47    sports\n",
            "48    sports\n",
            "49    sports\n",
            "50     world\n",
            "Name: news_category, dtype: object\n"
          ],
          "name": "stdout"
        }
      ]
    },
    {
      "cell_type": "markdown",
      "metadata": {
        "id": "e3jKCKaURyG9"
      },
      "source": [
        "Conseguimos separar bem as editorias por assuntos."
      ]
    },
    {
      "cell_type": "markdown",
      "metadata": {
        "id": "IKr2uZmiRyG9"
      },
      "source": [
        "# Notícia mais similar usando distância euclidiana\n",
        "\n",
        "Vamos agora tentar identificar, dado um documento, qual é o documento mais similar a ele. "
      ]
    },
    {
      "cell_type": "code",
      "metadata": {
        "id": "ii85a8xsRyG9"
      },
      "source": [
        "def get_closest(list_of_articles, article_position, df):\n",
        "    article_vec = list_of_articles[article_position,:]\n",
        "    other_vec = np.delete(list_of_articles, article_position, 0)\n",
        "    from scipy import spatial\n",
        "    A = [other_vec[row,:] for row in range(other_vec.shape[0])]\n",
        "    tree = spatial.KDTree(A)\n",
        "    closest_position = tree.query(article_vec)[1]\n",
        "    print(df[article_position])\n",
        "    print(df[closest_position])\n",
        "    return tree.query(article_vec)[0], closest_position"
      ],
      "execution_count": null,
      "outputs": []
    },
    {
      "cell_type": "code",
      "metadata": {
        "scrolled": true,
        "id": "yGexv0EjRyG9",
        "outputId": "f868089e-e05d-4f83-de9c-9b0a26d19fa6"
      },
      "source": [
        "get_closest(final_feature_matrix, 30, news_df[\"news_article\"])"
      ],
      "execution_count": null,
      "outputs": [
        {
          "output_type": "stream",
          "text": [
            "All-rounder Yusuf Pathan has not been included in Baroda's squad for the upcoming Syed Mushtaq Ali Trophy. This is the first time in the history of the tournament that Yusuf has not been picked in the squad. Yusuf is the second-highest run-scorer for the two-time champions Baroda. He has aggregated 1,244 runs in the tournament at an average of 28.27.\n",
            "Ex-India spinner Pragyan Ojha has called Ravichandran Ashwin the \"bowling captain\" of India's Test side. \"Ashwin knows exactly what he wants to do...He's been to Australia and now he doesn't have to play for his spot...that's what is making a lot of difference for him,\" Ojha added. Ashwin has so far picked 10 wickets in the two Tests. \n"
          ],
          "name": "stdout"
        },
        {
          "output_type": "execute_result",
          "data": {
            "text/plain": [
              "(1.4684237715967863, 46)"
            ]
          },
          "metadata": {
            "tags": []
          },
          "execution_count": 26
        }
      ]
    },
    {
      "cell_type": "markdown",
      "metadata": {
        "id": "8JhpMVt8RyG-"
      },
      "source": [
        "# Explorando visualmente os resultados encontrados\n",
        "\n",
        "Como estamos lidando com uma dimensão elevada (300) para cada documento, não conseguimos visualizar com clareza o que estamos clusterizando. Um método simples que permite explorar os resultados obtidos é reduzir a dimensão do problema para 2, 3 e fazer gráficos exploratórios que permitam visualizar os dados.\n"
      ]
    },
    {
      "cell_type": "code",
      "metadata": {
        "id": "h-bWISdNRyG-"
      },
      "source": [
        "from sklearn.decomposition import PCA\n",
        "pca = PCA(n_components=2)\n",
        "principalComponents = pca.fit_transform(final_feature_matrix)\n",
        "principalDf = pd.DataFrame(data = principalComponents\n",
        "             ,columns = ['principal component 1', 'principal component 2'])"
      ],
      "execution_count": null,
      "outputs": []
    },
    {
      "cell_type": "code",
      "metadata": {
        "id": "KzL4MnQzRyG-",
        "outputId": "5d0e421f-7131-4723-812b-7e99a2bae473"
      },
      "source": [
        "pca.explained_variance_ratio_"
      ],
      "execution_count": null,
      "outputs": [
        {
          "output_type": "execute_result",
          "data": {
            "text/plain": [
              "array([0.199772  , 0.07671219])"
            ]
          },
          "metadata": {
            "tags": []
          },
          "execution_count": 23
        }
      ]
    },
    {
      "cell_type": "markdown",
      "metadata": {
        "id": "xi6eN71VRyG_"
      },
      "source": [
        "Aqui, vamos plotar o gráfico dos dois primeiros componentes e colorir eles com a cor associada à editoria real dele."
      ]
    },
    {
      "cell_type": "code",
      "metadata": {
        "id": "aiG_Xf6RRyG_",
        "outputId": "903988a5-caef-434e-c9d3-64cb09343f54"
      },
      "source": [
        "import numpy as np\n",
        "import matplotlib.pyplot as plt\n",
        "\n",
        "# Create data\n",
        "\n",
        "x = principalDf['principal component 1']\n",
        "y = principalDf['principal component 2']\n",
        "\n",
        "# Plot\n",
        "\n",
        "colors = {'technology':'red', 'world':'blue', 'sports':'green'}\n",
        "plt.scatter(x, y, alpha=0.5, c = news_df['news_category'].apply(lambda x: colors[x]))\n",
        "plt.title('Scatter plot pythonspot.com')\n",
        "plt.xlabel('x')\n",
        "plt.ylabel('y')\n",
        "plt.show()"
      ],
      "execution_count": null,
      "outputs": [
        {
          "output_type": "display_data",
          "data": {
            "image/png": "[encoded data removed]",
            "text/plain": [
              "<Figure size 432x288 with 1 Axes>"
            ]
          },
          "metadata": {
            "tags": [],
            "needs_background": "light"
          }
        }
      ]
    },
    {
      "cell_type": "markdown",
      "metadata": {
        "id": "UrpI_sDeRyHA"
      },
      "source": [
        ""
      ]
    }
  ]
}