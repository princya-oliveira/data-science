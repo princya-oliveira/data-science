{
 "cells": [
  {
   "cell_type": "markdown",
   "metadata": {},
   "source": [
    "<br><br>\n",
    "\n",
    "## Exercício clusterização: clusters RFM\n",
    "\n",
    "<br>\n",
    "\n",
    "No exercício a seguir, estudaremos um conceito muito interessante e comum no contexto de dados, os __clusters RFM!__\n",
    "\n",
    "A sigla __RFM__ vem do inglês, significando __recency, frequency and monetary.__ Em português, recência, frequência e valor monetário.\n",
    "\n",
    "Essa clusterização é muito comum quando o __objetivo é segmentar clientes de uma certa base__ em termos de:\n",
    "\n",
    "<br>\n",
    "\n",
    "__Recência__ de compra: há quantos dias foi feita a última compra, relativo a data atual;\n",
    "\n",
    "__Freqûencia__ de compra: considerando uma certa janela de tempo, qual a frequência (ou quantidade) de compra;\n",
    "\n",
    "__Valor monetário__ das compras: qual foi o total gasto, nesta mesma janela de tempo.\n",
    "\n",
    "\n",
    "<br>\n",
    "\n",
    "Use a função getData para carregar os dados disponíveis para este exercício.\n",
    "\n",
    "Esse dataset contém 4 colunas, em que cada linha/istância corresponde a um cliente único de uma certa empresa.\n",
    "\n",
    "As colunas \"rec\", \"freq\" e \"valor\" indicam a recência, frequência e valor monetário do cliente num período de 120 dias.\n",
    "\n",
    "Desta forma, por exemplo, um usuário com:\n",
    "\n",
    "    - recência: 30\n",
    "    \n",
    "    - frequência: 5\n",
    "    \n",
    "    - valor: 10\n",
    "    \n",
    "deve ser interpretado como: um usuário que fez a última compra há 30 dias atrás; que a frequência mensal de compra dele, dentro dos últimos 120 dias foi de 5 vezes; o valor médio gasto, dentro desse período de 120 dias, foi de R$10,00.\n",
    "\n",
    "<br>\n",
    "\n",
    "__Exercício:__\n",
    "\n",
    "Como cientista de dados da empresa, o seu __objetivo__ é __analisar os dados disponíveis__ e procurar pelos __grupos de clientes mais valiosos e menos valiosos__ para a companhia. \n",
    "\n",
    "Justifique bastante suas análises e __interprete os resultados.__\n",
    "\n",
    "Você pode (e deve!) utilizar técnicas de clusterização, como __KMeans__ e __DBSCAN__, bem como criar segmentações a partir de suas __análises exploratórias.__\n",
    "\n",
    "Lembre-se que, neste contexto não supervisionado, não existe resposta certa e a __criatividade__ é fundamental!\n",
    "\n",
    "__Obs.:__ Ao utilizar o KMeans e o DBSCAN, lembre-se de normalizar os dados antes de aplicar os algoritmos."
   ]
  },
  {
   "cell_type": "code",
   "execution_count": 1,
   "metadata": {},
   "outputs": [],
   "source": [
    "import pandas as pd\n",
    "import numpy as np\n",
    "import matplotlib.pyplot as plt\n",
    "import seaborn as sns\n",
    "\n",
    "def getData():\n",
    "    return pd.read_csv(\"dataframe_exercicio_clusterizacao_RFM.csv\")"
   ]
  },
  {
   "cell_type": "code",
   "execution_count": 2,
   "metadata": {},
   "outputs": [
    {
     "data": {
      "text/html": [
       "<div>\n",
       "<style scoped>\n",
       "    .dataframe tbody tr th:only-of-type {\n",
       "        vertical-align: middle;\n",
       "    }\n",
       "\n",
       "    .dataframe tbody tr th {\n",
       "        vertical-align: top;\n",
       "    }\n",
       "\n",
       "    .dataframe thead th {\n",
       "        text-align: right;\n",
       "    }\n",
       "</style>\n",
       "<table border=\"1\" class=\"dataframe\">\n",
       "  <thead>\n",
       "    <tr style=\"text-align: right;\">\n",
       "      <th></th>\n",
       "      <th>user</th>\n",
       "      <th>rec</th>\n",
       "      <th>freq</th>\n",
       "      <th>valor</th>\n",
       "    </tr>\n",
       "  </thead>\n",
       "  <tbody>\n",
       "    <tr>\n",
       "      <th>0</th>\n",
       "      <td>1</td>\n",
       "      <td>15.0</td>\n",
       "      <td>7.0</td>\n",
       "      <td>196.881015</td>\n",
       "    </tr>\n",
       "    <tr>\n",
       "      <th>1</th>\n",
       "      <td>2</td>\n",
       "      <td>51.0</td>\n",
       "      <td>6.0</td>\n",
       "      <td>162.408892</td>\n",
       "    </tr>\n",
       "    <tr>\n",
       "      <th>2</th>\n",
       "      <td>3</td>\n",
       "      <td>80.0</td>\n",
       "      <td>5.0</td>\n",
       "      <td>180.158644</td>\n",
       "    </tr>\n",
       "    <tr>\n",
       "      <th>3</th>\n",
       "      <td>4</td>\n",
       "      <td>38.0</td>\n",
       "      <td>4.0</td>\n",
       "      <td>156.048130</td>\n",
       "    </tr>\n",
       "    <tr>\n",
       "      <th>4</th>\n",
       "      <td>5</td>\n",
       "      <td>19.0</td>\n",
       "      <td>6.0</td>\n",
       "      <td>164.052067</td>\n",
       "    </tr>\n",
       "    <tr>\n",
       "      <th>...</th>\n",
       "      <td>...</td>\n",
       "      <td>...</td>\n",
       "      <td>...</td>\n",
       "      <td>...</td>\n",
       "    </tr>\n",
       "    <tr>\n",
       "      <th>1007</th>\n",
       "      <td>1008</td>\n",
       "      <td>50.0</td>\n",
       "      <td>6.0</td>\n",
       "      <td>116.867455</td>\n",
       "    </tr>\n",
       "    <tr>\n",
       "      <th>1008</th>\n",
       "      <td>1009</td>\n",
       "      <td>72.0</td>\n",
       "      <td>4.0</td>\n",
       "      <td>94.807854</td>\n",
       "    </tr>\n",
       "    <tr>\n",
       "      <th>1009</th>\n",
       "      <td>1010</td>\n",
       "      <td>50.0</td>\n",
       "      <td>5.0</td>\n",
       "      <td>99.187523</td>\n",
       "    </tr>\n",
       "    <tr>\n",
       "      <th>1010</th>\n",
       "      <td>1011</td>\n",
       "      <td>81.0</td>\n",
       "      <td>2.0</td>\n",
       "      <td>66.581900</td>\n",
       "    </tr>\n",
       "    <tr>\n",
       "      <th>1011</th>\n",
       "      <td>1012</td>\n",
       "      <td>31.0</td>\n",
       "      <td>2.0</td>\n",
       "      <td>129.189160</td>\n",
       "    </tr>\n",
       "  </tbody>\n",
       "</table>\n",
       "<p>1012 rows × 4 columns</p>\n",
       "</div>"
      ],
      "text/plain": [
       "      user   rec  freq       valor\n",
       "0        1  15.0   7.0  196.881015\n",
       "1        2  51.0   6.0  162.408892\n",
       "2        3  80.0   5.0  180.158644\n",
       "3        4  38.0   4.0  156.048130\n",
       "4        5  19.0   6.0  164.052067\n",
       "...    ...   ...   ...         ...\n",
       "1007  1008  50.0   6.0  116.867455\n",
       "1008  1009  72.0   4.0   94.807854\n",
       "1009  1010  50.0   5.0   99.187523\n",
       "1010  1011  81.0   2.0   66.581900\n",
       "1011  1012  31.0   2.0  129.189160\n",
       "\n",
       "[1012 rows x 4 columns]"
      ]
     },
     "execution_count": 2,
     "metadata": {},
     "output_type": "execute_result"
    }
   ],
   "source": [
    "#Análise exploratória e pré-processamento dos dados\n",
    "df = getData()\n",
    "dff = df.copy() #cópia do dataset p/ testes k-means\n",
    "df"
   ]
  },
  {
   "cell_type": "code",
   "execution_count": 3,
   "metadata": {},
   "outputs": [
    {
     "data": {
      "text/html": [
       "<div>\n",
       "<style scoped>\n",
       "    .dataframe tbody tr th:only-of-type {\n",
       "        vertical-align: middle;\n",
       "    }\n",
       "\n",
       "    .dataframe tbody tr th {\n",
       "        vertical-align: top;\n",
       "    }\n",
       "\n",
       "    .dataframe thead th {\n",
       "        text-align: right;\n",
       "    }\n",
       "</style>\n",
       "<table border=\"1\" class=\"dataframe\">\n",
       "  <thead>\n",
       "    <tr style=\"text-align: right;\">\n",
       "      <th></th>\n",
       "      <th>user</th>\n",
       "      <th>rec</th>\n",
       "      <th>freq</th>\n",
       "      <th>valor</th>\n",
       "    </tr>\n",
       "  </thead>\n",
       "  <tbody>\n",
       "    <tr>\n",
       "      <th>count</th>\n",
       "      <td>1012.000000</td>\n",
       "      <td>1012.000000</td>\n",
       "      <td>1012.000000</td>\n",
       "      <td>1012.000000</td>\n",
       "    </tr>\n",
       "    <tr>\n",
       "      <th>mean</th>\n",
       "      <td>506.500000</td>\n",
       "      <td>45.064229</td>\n",
       "      <td>4.524704</td>\n",
       "      <td>109.568915</td>\n",
       "    </tr>\n",
       "    <tr>\n",
       "      <th>std</th>\n",
       "      <td>292.283538</td>\n",
       "      <td>26.471133</td>\n",
       "      <td>2.423586</td>\n",
       "      <td>125.013542</td>\n",
       "    </tr>\n",
       "    <tr>\n",
       "      <th>min</th>\n",
       "      <td>1.000000</td>\n",
       "      <td>1.000000</td>\n",
       "      <td>1.000000</td>\n",
       "      <td>10.859150</td>\n",
       "    </tr>\n",
       "    <tr>\n",
       "      <th>25%</th>\n",
       "      <td>253.750000</td>\n",
       "      <td>23.000000</td>\n",
       "      <td>2.000000</td>\n",
       "      <td>57.097928</td>\n",
       "    </tr>\n",
       "    <tr>\n",
       "      <th>50%</th>\n",
       "      <td>506.500000</td>\n",
       "      <td>45.000000</td>\n",
       "      <td>5.000000</td>\n",
       "      <td>103.561817</td>\n",
       "    </tr>\n",
       "    <tr>\n",
       "      <th>75%</th>\n",
       "      <td>759.250000</td>\n",
       "      <td>68.000000</td>\n",
       "      <td>7.000000</td>\n",
       "      <td>152.704398</td>\n",
       "    </tr>\n",
       "    <tr>\n",
       "      <th>max</th>\n",
       "      <td>1012.000000</td>\n",
       "      <td>118.000000</td>\n",
       "      <td>17.000000</td>\n",
       "      <td>3241.824119</td>\n",
       "    </tr>\n",
       "  </tbody>\n",
       "</table>\n",
       "</div>"
      ],
      "text/plain": [
       "              user          rec         freq        valor\n",
       "count  1012.000000  1012.000000  1012.000000  1012.000000\n",
       "mean    506.500000    45.064229     4.524704   109.568915\n",
       "std     292.283538    26.471133     2.423586   125.013542\n",
       "min       1.000000     1.000000     1.000000    10.859150\n",
       "25%     253.750000    23.000000     2.000000    57.097928\n",
       "50%     506.500000    45.000000     5.000000   103.561817\n",
       "75%     759.250000    68.000000     7.000000   152.704398\n",
       "max    1012.000000   118.000000    17.000000  3241.824119"
      ]
     },
     "execution_count": 3,
     "metadata": {},
     "output_type": "execute_result"
    }
   ],
   "source": [
    "df.describe()"
   ]
  },
  {
   "cell_type": "code",
   "execution_count": 4,
   "metadata": {},
   "outputs": [
    {
     "name": "stdout",
     "output_type": "stream",
     "text": [
      "Total de usuários: 1012\n",
      "\n",
      "Total de informação nula na base: 0\n",
      "\n",
      "Total de nulos por variável:\n",
      " Series([], dtype: int64)\n",
      "\n",
      "Total de linhas completamente preenchidas: 1012\n"
     ]
    }
   ],
   "source": [
    "print(\"Total de usuários:\", df.user.count())\n",
    "print(\"\\nTotal de informação nula na base:\",df.isnull().sum().sum())\n",
    "print(\"\\nTotal de nulos por variável:\\n\", df.isnull().sum()[df.isnull().sum()>0].sort_values(ascending= False))\n",
    "print(\"\\nTotal de linhas completamente preenchidas:\", df.dropna().shape[0])"
   ]
  },
  {
   "cell_type": "code",
   "execution_count": 5,
   "metadata": {
    "scrolled": true
   },
   "outputs": [
    {
     "data": {
      "image/png": "[encoded data removed]",
      "text/plain": [
       "<Figure size 1080x360 with 3 Axes>"
      ]
     },
     "metadata": {
      "needs_background": "light"
     },
     "output_type": "display_data"
    }
   ],
   "source": [
    "#Verifica-se alguns outliers nas variáveis: frequência e valor\n",
    "fig = plt.figure(figsize=(15,5))\n",
    "plt.subplots_adjust(wspace= 0.5)\n",
    "plt.suptitle('Visões das variáveis: recência, frequência e valor')\n",
    "plt.subplot(1,3,1)\n",
    "plt.boxplot(df.rec)\n",
    "plt.subplot(1,3,2)\n",
    "plt.boxplot(df.freq)\n",
    "plt.subplot(1,3,3)\n",
    "plt.boxplot(df.valor)\n",
    "plt.show()"
   ]
  },
  {
   "cell_type": "code",
   "execution_count": 6,
   "metadata": {},
   "outputs": [
    {
     "data": {
      "text/html": [
       "<div>\n",
       "<style scoped>\n",
       "    .dataframe tbody tr th:only-of-type {\n",
       "        vertical-align: middle;\n",
       "    }\n",
       "\n",
       "    .dataframe tbody tr th {\n",
       "        vertical-align: top;\n",
       "    }\n",
       "\n",
       "    .dataframe thead th {\n",
       "        text-align: right;\n",
       "    }\n",
       "</style>\n",
       "<table border=\"1\" class=\"dataframe\">\n",
       "  <thead>\n",
       "    <tr style=\"text-align: right;\">\n",
       "      <th></th>\n",
       "      <th>user</th>\n",
       "      <th>rec</th>\n",
       "      <th>freq</th>\n",
       "      <th>valor</th>\n",
       "    </tr>\n",
       "  </thead>\n",
       "  <tbody>\n",
       "    <tr>\n",
       "      <th>user</th>\n",
       "      <td>1.000000</td>\n",
       "      <td>0.003080</td>\n",
       "      <td>-0.000657</td>\n",
       "      <td>-0.019787</td>\n",
       "    </tr>\n",
       "    <tr>\n",
       "      <th>rec</th>\n",
       "      <td>0.003080</td>\n",
       "      <td>1.000000</td>\n",
       "      <td>-0.019119</td>\n",
       "      <td>0.090110</td>\n",
       "    </tr>\n",
       "    <tr>\n",
       "      <th>freq</th>\n",
       "      <td>-0.000657</td>\n",
       "      <td>-0.019119</td>\n",
       "      <td>1.000000</td>\n",
       "      <td>-0.061690</td>\n",
       "    </tr>\n",
       "    <tr>\n",
       "      <th>valor</th>\n",
       "      <td>-0.019787</td>\n",
       "      <td>0.090110</td>\n",
       "      <td>-0.061690</td>\n",
       "      <td>1.000000</td>\n",
       "    </tr>\n",
       "  </tbody>\n",
       "</table>\n",
       "</div>"
      ],
      "text/plain": [
       "           user       rec      freq     valor\n",
       "user   1.000000  0.003080 -0.000657 -0.019787\n",
       "rec    0.003080  1.000000 -0.019119  0.090110\n",
       "freq  -0.000657 -0.019119  1.000000 -0.061690\n",
       "valor -0.019787  0.090110 -0.061690  1.000000"
      ]
     },
     "execution_count": 6,
     "metadata": {},
     "output_type": "execute_result"
    }
   ],
   "source": [
    "#Correlação entre as variáveis\n",
    "df.corr()"
   ]
  },
  {
   "cell_type": "code",
   "execution_count": 7,
   "metadata": {},
   "outputs": [
    {
     "data": {
      "text/plain": [
       "<AxesSubplot:>"
      ]
     },
     "execution_count": 7,
     "metadata": {},
     "output_type": "execute_result"
    },
    {
     "data": {
      "image/png": "[encoded data removed]",
      "text/plain": [
       "<Figure size 432x288 with 2 Axes>"
      ]
     },
     "metadata": {
      "needs_background": "light"
     },
     "output_type": "display_data"
    }
   ],
   "source": [
    "#É possível verificar que não existe uma correlação substancial entre as variáveis\n",
    "corr = df.corr()\n",
    "cmap = sns.diverging_palette(230, 20, as_cmap=True)\n",
    "sns.heatmap(corr, \n",
    "        xticklabels=corr.columns,\n",
    "        yticklabels=corr.columns, cmap=cmap, linewidths=.5)"
   ]
  },
  {
   "cell_type": "code",
   "execution_count": 8,
   "metadata": {},
   "outputs": [],
   "source": [
    "#Análise RFM\n",
    "\n",
    "#Recência de compra: há quantos dias foi feita a última compra, relativo a data atual;\n",
    "#Freqûencia de compra: considerando uma certa janela de tempo, qual a frequência (ou quantidade) de compra;\n",
    "#Valor monetário das compras: qual foi o total gasto, nesta mesma janela de tempo.\n",
    "\n",
    "#Atribui uma pontuação de 1 a 5 para cada recência, frequência e valor dos clientes.\n",
    "#Abaixo está a conversão de colunas em pontuações rfm em que '5' é a maior pontuação e '1' a menor.\n",
    "\n",
    "#Quanto maior o valor, maior é a pontuação, ou seja,'5';\n",
    "#Menor valor de recência indica compras recentes, portanto, leva o maior valor de 5;\n",
    "#A frequência é a mesma que em valor, quanto maior a frequência, maior a pontuação."
   ]
  },
  {
   "cell_type": "code",
   "execution_count": 9,
   "metadata": {},
   "outputs": [],
   "source": [
    "df[\"rec_score\"] = pd.qcut(df['rec'], 5, labels=[5, 4, 3, 2, 1])\n",
    "\n",
    "df[\"freq_score\"] = pd.qcut(df['freq'].rank(method=\"first\"), 5, labels=[1, 2, 3, 4, 5])\n",
    "df[\"valor_score\"] = pd.qcut(df['valor'], 5, labels=[1, 2, 3, 4, 5])\n",
    "df['score']=df['rec_score'].astype(int)+df['freq_score'].astype(int)+df['valor_score'].astype(int)"
   ]
  },
  {
   "cell_type": "code",
   "execution_count": 10,
   "metadata": {},
   "outputs": [
    {
     "data": {
      "text/html": [
       "<div>\n",
       "<style scoped>\n",
       "    .dataframe tbody tr th:only-of-type {\n",
       "        vertical-align: middle;\n",
       "    }\n",
       "\n",
       "    .dataframe tbody tr th {\n",
       "        vertical-align: top;\n",
       "    }\n",
       "\n",
       "    .dataframe thead th {\n",
       "        text-align: right;\n",
       "    }\n",
       "</style>\n",
       "<table border=\"1\" class=\"dataframe\">\n",
       "  <thead>\n",
       "    <tr style=\"text-align: right;\">\n",
       "      <th></th>\n",
       "      <th>user</th>\n",
       "      <th>rec</th>\n",
       "      <th>freq</th>\n",
       "      <th>valor</th>\n",
       "      <th>rec_score</th>\n",
       "      <th>freq_score</th>\n",
       "      <th>valor_score</th>\n",
       "      <th>score</th>\n",
       "    </tr>\n",
       "  </thead>\n",
       "  <tbody>\n",
       "    <tr>\n",
       "      <th>0</th>\n",
       "      <td>1</td>\n",
       "      <td>15.0</td>\n",
       "      <td>7.0</td>\n",
       "      <td>196.881015</td>\n",
       "      <td>5</td>\n",
       "      <td>4</td>\n",
       "      <td>5</td>\n",
       "      <td>14</td>\n",
       "    </tr>\n",
       "    <tr>\n",
       "      <th>1</th>\n",
       "      <td>2</td>\n",
       "      <td>51.0</td>\n",
       "      <td>6.0</td>\n",
       "      <td>162.408892</td>\n",
       "      <td>3</td>\n",
       "      <td>4</td>\n",
       "      <td>4</td>\n",
       "      <td>11</td>\n",
       "    </tr>\n",
       "    <tr>\n",
       "      <th>2</th>\n",
       "      <td>3</td>\n",
       "      <td>80.0</td>\n",
       "      <td>5.0</td>\n",
       "      <td>180.158644</td>\n",
       "      <td>1</td>\n",
       "      <td>3</td>\n",
       "      <td>5</td>\n",
       "      <td>9</td>\n",
       "    </tr>\n",
       "    <tr>\n",
       "      <th>3</th>\n",
       "      <td>4</td>\n",
       "      <td>38.0</td>\n",
       "      <td>4.0</td>\n",
       "      <td>156.048130</td>\n",
       "      <td>3</td>\n",
       "      <td>2</td>\n",
       "      <td>4</td>\n",
       "      <td>9</td>\n",
       "    </tr>\n",
       "    <tr>\n",
       "      <th>4</th>\n",
       "      <td>5</td>\n",
       "      <td>19.0</td>\n",
       "      <td>6.0</td>\n",
       "      <td>164.052067</td>\n",
       "      <td>4</td>\n",
       "      <td>4</td>\n",
       "      <td>5</td>\n",
       "      <td>13</td>\n",
       "    </tr>\n",
       "  </tbody>\n",
       "</table>\n",
       "</div>"
      ],
      "text/plain": [
       "   user   rec  freq       valor rec_score freq_score valor_score  score\n",
       "0     1  15.0   7.0  196.881015         5          4           5     14\n",
       "1     2  51.0   6.0  162.408892         3          4           4     11\n",
       "2     3  80.0   5.0  180.158644         1          3           5      9\n",
       "3     4  38.0   4.0  156.048130         3          2           4      9\n",
       "4     5  19.0   6.0  164.052067         4          4           5     13"
      ]
     },
     "execution_count": 10,
     "metadata": {},
     "output_type": "execute_result"
    }
   ],
   "source": [
    "df.head()"
   ]
  },
  {
   "cell_type": "code",
   "execution_count": 11,
   "metadata": {},
   "outputs": [
    {
     "data": {
      "text/html": [
       "<div>\n",
       "<style scoped>\n",
       "    .dataframe tbody tr th:only-of-type {\n",
       "        vertical-align: middle;\n",
       "    }\n",
       "\n",
       "    .dataframe tbody tr th {\n",
       "        vertical-align: top;\n",
       "    }\n",
       "\n",
       "    .dataframe thead th {\n",
       "        text-align: right;\n",
       "    }\n",
       "</style>\n",
       "<table border=\"1\" class=\"dataframe\">\n",
       "  <thead>\n",
       "    <tr style=\"text-align: right;\">\n",
       "      <th></th>\n",
       "      <th>user</th>\n",
       "      <th>rec</th>\n",
       "      <th>freq</th>\n",
       "      <th>valor</th>\n",
       "      <th>rec_score</th>\n",
       "      <th>freq_score</th>\n",
       "      <th>valor_score</th>\n",
       "      <th>score</th>\n",
       "    </tr>\n",
       "  </thead>\n",
       "  <tbody>\n",
       "    <tr>\n",
       "      <th>187</th>\n",
       "      <td>188</td>\n",
       "      <td>7.0</td>\n",
       "      <td>11.0</td>\n",
       "      <td>299.624773</td>\n",
       "      <td>5</td>\n",
       "      <td>5</td>\n",
       "      <td>5</td>\n",
       "      <td>15</td>\n",
       "    </tr>\n",
       "    <tr>\n",
       "      <th>314</th>\n",
       "      <td>315</td>\n",
       "      <td>2.0</td>\n",
       "      <td>9.0</td>\n",
       "      <td>291.666395</td>\n",
       "      <td>5</td>\n",
       "      <td>5</td>\n",
       "      <td>5</td>\n",
       "      <td>15</td>\n",
       "    </tr>\n",
       "    <tr>\n",
       "      <th>457</th>\n",
       "      <td>458</td>\n",
       "      <td>3.0</td>\n",
       "      <td>10.0</td>\n",
       "      <td>282.813342</td>\n",
       "      <td>5</td>\n",
       "      <td>5</td>\n",
       "      <td>5</td>\n",
       "      <td>15</td>\n",
       "    </tr>\n",
       "    <tr>\n",
       "      <th>983</th>\n",
       "      <td>984</td>\n",
       "      <td>4.0</td>\n",
       "      <td>11.0</td>\n",
       "      <td>266.919519</td>\n",
       "      <td>5</td>\n",
       "      <td>5</td>\n",
       "      <td>5</td>\n",
       "      <td>15</td>\n",
       "    </tr>\n",
       "    <tr>\n",
       "      <th>199</th>\n",
       "      <td>200</td>\n",
       "      <td>3.0</td>\n",
       "      <td>8.0</td>\n",
       "      <td>254.348782</td>\n",
       "      <td>5</td>\n",
       "      <td>5</td>\n",
       "      <td>5</td>\n",
       "      <td>15</td>\n",
       "    </tr>\n",
       "  </tbody>\n",
       "</table>\n",
       "</div>"
      ],
      "text/plain": [
       "     user  rec  freq       valor rec_score freq_score valor_score  score\n",
       "187   188  7.0  11.0  299.624773         5          5           5     15\n",
       "314   315  2.0   9.0  291.666395         5          5           5     15\n",
       "457   458  3.0  10.0  282.813342         5          5           5     15\n",
       "983   984  4.0  11.0  266.919519         5          5           5     15\n",
       "199   200  3.0   8.0  254.348782         5          5           5     15"
      ]
     },
     "execution_count": 11,
     "metadata": {},
     "output_type": "execute_result"
    }
   ],
   "source": [
    "#Clientes mais valiosos\n",
    "#Utilizando o score acima pode-se relacionar os clientes mais valiosos para a empresa\n",
    "#Ou seja, aqueles que alcançaram o score de 15pts., sendo os mais ativos na empresa\n",
    "\n",
    "df[df['score']== 15].sort_values('valor', ascending=False).head()"
   ]
  },
  {
   "cell_type": "code",
   "execution_count": 12,
   "metadata": {},
   "outputs": [
    {
     "data": {
      "text/plain": [
       "user           14\n",
       "rec            14\n",
       "freq           14\n",
       "valor          14\n",
       "rec_score      14\n",
       "freq_score     14\n",
       "valor_score    14\n",
       "score          14\n",
       "dtype: int64"
      ]
     },
     "execution_count": 12,
     "metadata": {},
     "output_type": "execute_result"
    }
   ],
   "source": [
    "#14 clientes podem ser considerados os mais valiosos, gerando alta receita e comprando com mais frequência\n",
    "df[df['score']==15].count()"
   ]
  },
  {
   "cell_type": "code",
   "execution_count": 13,
   "metadata": {},
   "outputs": [],
   "source": [
    "#Separando os clientes por nível (Ativo, Bom, Médio e Inativo) com base na sua pontuação\n",
    "\n",
    "#Ativo: alta geração de receita e compram com frequência;\n",
    "#Bom: compras bastante frequentes e geração de receita média;\n",
    "#Médio: menos ativos, com pouca frequência de compra de baixa geração de receita;\n",
    "#Inativo: geram receita muito baixa e compram ocasionalmente.\n",
    "\n",
    "def rfm_level(score):\n",
    "    if  ((score >1) and (score < 4)):\n",
    "        return 'Inativo'\n",
    "    elif ((score >3) and (score < 8)):\n",
    "        return 'Médio'\n",
    "    elif ((score > 7) and (score <11)):\n",
    "        return 'Bom'\n",
    "    else:\n",
    "        return 'Ativo'"
   ]
  },
  {
   "cell_type": "code",
   "execution_count": 14,
   "metadata": {},
   "outputs": [
    {
     "data": {
      "text/html": [
       "<div>\n",
       "<style scoped>\n",
       "    .dataframe tbody tr th:only-of-type {\n",
       "        vertical-align: middle;\n",
       "    }\n",
       "\n",
       "    .dataframe tbody tr th {\n",
       "        vertical-align: top;\n",
       "    }\n",
       "\n",
       "    .dataframe thead th {\n",
       "        text-align: right;\n",
       "    }\n",
       "</style>\n",
       "<table border=\"1\" class=\"dataframe\">\n",
       "  <thead>\n",
       "    <tr style=\"text-align: right;\">\n",
       "      <th></th>\n",
       "      <th>user</th>\n",
       "      <th>rec</th>\n",
       "      <th>freq</th>\n",
       "      <th>valor</th>\n",
       "      <th>rec_score</th>\n",
       "      <th>freq_score</th>\n",
       "      <th>valor_score</th>\n",
       "      <th>score</th>\n",
       "      <th>classificacao</th>\n",
       "    </tr>\n",
       "  </thead>\n",
       "  <tbody>\n",
       "    <tr>\n",
       "      <th>0</th>\n",
       "      <td>1</td>\n",
       "      <td>15.0</td>\n",
       "      <td>7.0</td>\n",
       "      <td>196.881015</td>\n",
       "      <td>5</td>\n",
       "      <td>4</td>\n",
       "      <td>5</td>\n",
       "      <td>14</td>\n",
       "      <td>Ativo</td>\n",
       "    </tr>\n",
       "    <tr>\n",
       "      <th>1</th>\n",
       "      <td>2</td>\n",
       "      <td>51.0</td>\n",
       "      <td>6.0</td>\n",
       "      <td>162.408892</td>\n",
       "      <td>3</td>\n",
       "      <td>4</td>\n",
       "      <td>4</td>\n",
       "      <td>11</td>\n",
       "      <td>Ativo</td>\n",
       "    </tr>\n",
       "    <tr>\n",
       "      <th>2</th>\n",
       "      <td>3</td>\n",
       "      <td>80.0</td>\n",
       "      <td>5.0</td>\n",
       "      <td>180.158644</td>\n",
       "      <td>1</td>\n",
       "      <td>3</td>\n",
       "      <td>5</td>\n",
       "      <td>9</td>\n",
       "      <td>Bom</td>\n",
       "    </tr>\n",
       "    <tr>\n",
       "      <th>3</th>\n",
       "      <td>4</td>\n",
       "      <td>38.0</td>\n",
       "      <td>4.0</td>\n",
       "      <td>156.048130</td>\n",
       "      <td>3</td>\n",
       "      <td>2</td>\n",
       "      <td>4</td>\n",
       "      <td>9</td>\n",
       "      <td>Bom</td>\n",
       "    </tr>\n",
       "    <tr>\n",
       "      <th>4</th>\n",
       "      <td>5</td>\n",
       "      <td>19.0</td>\n",
       "      <td>6.0</td>\n",
       "      <td>164.052067</td>\n",
       "      <td>4</td>\n",
       "      <td>4</td>\n",
       "      <td>5</td>\n",
       "      <td>13</td>\n",
       "      <td>Ativo</td>\n",
       "    </tr>\n",
       "  </tbody>\n",
       "</table>\n",
       "</div>"
      ],
      "text/plain": [
       "   user   rec  freq       valor rec_score freq_score valor_score  score  \\\n",
       "0     1  15.0   7.0  196.881015         5          4           5     14   \n",
       "1     2  51.0   6.0  162.408892         3          4           4     11   \n",
       "2     3  80.0   5.0  180.158644         1          3           5      9   \n",
       "3     4  38.0   4.0  156.048130         3          2           4      9   \n",
       "4     5  19.0   6.0  164.052067         4          4           5     13   \n",
       "\n",
       "  classificacao  \n",
       "0         Ativo  \n",
       "1         Ativo  \n",
       "2           Bom  \n",
       "3           Bom  \n",
       "4         Ativo  "
      ]
     },
     "execution_count": 14,
     "metadata": {},
     "output_type": "execute_result"
    }
   ],
   "source": [
    "df['classificacao'] = df['score'].apply(lambda score : rfm_level(score))\n",
    "df.head()"
   ]
  },
  {
   "cell_type": "code",
   "execution_count": 15,
   "metadata": {},
   "outputs": [
    {
     "data": {
      "image/png": "[encoded data removed]",
      "text/plain": [
       "<Figure size 432x288 with 1 Axes>"
      ]
     },
     "metadata": {
      "needs_background": "light"
     },
     "output_type": "display_data"
    }
   ],
   "source": [
    "#Visualizando o nº de clientes por nível/classificação\n",
    "#Pode-se inferir, a partir do gráfico, que a empresa tem bons clientes no geral,\n",
    "#considerando que a maioria deles se enquadra em clientes ativos ou bons, verificando-se\n",
    "#um baixo número de clientes inativos.\n",
    "\n",
    "plt.bar(df.classificacao.unique(), df.classificacao.value_counts(), color = '#546FBF')\n",
    "plt.title('Distribuição de frequência | Classificação dos clientes\\n', {'fontsize': 14,'fontweight': 'bold'})\n",
    "plt.show()"
   ]
  },
  {
   "cell_type": "code",
   "execution_count": 16,
   "metadata": {},
   "outputs": [
    {
     "data": {
      "text/html": [
       "<div>\n",
       "<style scoped>\n",
       "    .dataframe tbody tr th:only-of-type {\n",
       "        vertical-align: middle;\n",
       "    }\n",
       "\n",
       "    .dataframe tbody tr th {\n",
       "        vertical-align: top;\n",
       "    }\n",
       "\n",
       "    .dataframe thead tr th {\n",
       "        text-align: left;\n",
       "    }\n",
       "\n",
       "    .dataframe thead tr:last-of-type th {\n",
       "        text-align: right;\n",
       "    }\n",
       "</style>\n",
       "<table border=\"1\" class=\"dataframe\">\n",
       "  <thead>\n",
       "    <tr>\n",
       "      <th></th>\n",
       "      <th colspan=\"3\" halign=\"left\">rec</th>\n",
       "      <th colspan=\"3\" halign=\"left\">freq</th>\n",
       "      <th colspan=\"4\" halign=\"left\">valor</th>\n",
       "    </tr>\n",
       "    <tr>\n",
       "      <th></th>\n",
       "      <th>mean</th>\n",
       "      <th>min</th>\n",
       "      <th>max</th>\n",
       "      <th>mean</th>\n",
       "      <th>min</th>\n",
       "      <th>max</th>\n",
       "      <th>mean</th>\n",
       "      <th>min</th>\n",
       "      <th>max</th>\n",
       "      <th>count</th>\n",
       "    </tr>\n",
       "    <tr>\n",
       "      <th>classificacao</th>\n",
       "      <th></th>\n",
       "      <th></th>\n",
       "      <th></th>\n",
       "      <th></th>\n",
       "      <th></th>\n",
       "      <th></th>\n",
       "      <th></th>\n",
       "      <th></th>\n",
       "      <th></th>\n",
       "      <th></th>\n",
       "    </tr>\n",
       "  </thead>\n",
       "  <tbody>\n",
       "    <tr>\n",
       "      <th>Ativo</th>\n",
       "      <td>25.660517</td>\n",
       "      <td>1.0</td>\n",
       "      <td>88.0</td>\n",
       "      <td>6.188192</td>\n",
       "      <td>1.0</td>\n",
       "      <td>17.0</td>\n",
       "      <td>140.637583</td>\n",
       "      <td>11.549768</td>\n",
       "      <td>299.624773</td>\n",
       "      <td>271</td>\n",
       "    </tr>\n",
       "    <tr>\n",
       "      <th>Bom</th>\n",
       "      <td>45.251046</td>\n",
       "      <td>1.0</td>\n",
       "      <td>90.0</td>\n",
       "      <td>4.433054</td>\n",
       "      <td>1.0</td>\n",
       "      <td>8.0</td>\n",
       "      <td>104.419202</td>\n",
       "      <td>11.245200</td>\n",
       "      <td>199.941698</td>\n",
       "      <td>478</td>\n",
       "    </tr>\n",
       "    <tr>\n",
       "      <th>Inativo</th>\n",
       "      <td>78.428571</td>\n",
       "      <td>73.0</td>\n",
       "      <td>85.0</td>\n",
       "      <td>1.285714</td>\n",
       "      <td>1.0</td>\n",
       "      <td>2.0</td>\n",
       "      <td>28.412216</td>\n",
       "      <td>15.416968</td>\n",
       "      <td>47.287083</td>\n",
       "      <td>7</td>\n",
       "    </tr>\n",
       "    <tr>\n",
       "      <th>Médio</th>\n",
       "      <td>64.343750</td>\n",
       "      <td>5.0</td>\n",
       "      <td>118.0</td>\n",
       "      <td>3.023438</td>\n",
       "      <td>1.0</td>\n",
       "      <td>8.0</td>\n",
       "      <td>88.514428</td>\n",
       "      <td>10.859150</td>\n",
       "      <td>3241.824119</td>\n",
       "      <td>256</td>\n",
       "    </tr>\n",
       "  </tbody>\n",
       "</table>\n",
       "</div>"
      ],
      "text/plain": [
       "                     rec                   freq                  valor  \\\n",
       "                    mean   min    max      mean  min   max        mean   \n",
       "classificacao                                                            \n",
       "Ativo          25.660517   1.0   88.0  6.188192  1.0  17.0  140.637583   \n",
       "Bom            45.251046   1.0   90.0  4.433054  1.0   8.0  104.419202   \n",
       "Inativo        78.428571  73.0   85.0  1.285714  1.0   2.0   28.412216   \n",
       "Médio          64.343750   5.0  118.0  3.023438  1.0   8.0   88.514428   \n",
       "\n",
       "                                             \n",
       "                     min          max count  \n",
       "classificacao                                \n",
       "Ativo          11.549768   299.624773   271  \n",
       "Bom            11.245200   199.941698   478  \n",
       "Inativo        15.416968    47.287083     7  \n",
       "Médio          10.859150  3241.824119   256  "
      ]
     },
     "execution_count": 16,
     "metadata": {},
     "output_type": "execute_result"
    }
   ],
   "source": [
    "df.groupby('classificacao').agg({\n",
    "    'rec' : ['mean', 'min','max'],\n",
    "    'freq' : ['mean', 'min','max'],\n",
    "    'valor' : ['mean','min','max','count']\n",
    "})"
   ]
  },
  {
   "cell_type": "code",
   "execution_count": 17,
   "metadata": {},
   "outputs": [],
   "source": [
    "#Utilizando K-means\n",
    "\n",
    "from sklearn.preprocessing import StandardScaler\n",
    "from sklearn.cluster import KMeans"
   ]
  },
  {
   "cell_type": "code",
   "execution_count": 35,
   "metadata": {},
   "outputs": [
    {
     "data": {
      "image/png": "[encoded data removed]",
      "text/plain": [
       "<Figure size 432x288 with 1 Axes>"
      ]
     },
     "metadata": {},
     "output_type": "display_data"
    }
   ],
   "source": [
    "#Agora, aplicando aprendizado de máquina não supervisionado, pode-se identificar \n",
    "#diferentes clusters com base na segmentação de clientes a partir de seu comportamento de compra.\n",
    "\n",
    "#Como verificado no início deste exercício, alguns outiers foram detectados, mostrando a \n",
    "#necessidade de tratá-los apropriadamente\n",
    "\n",
    "#Tratamento de outliers na variável frequência ('freq'):\n",
    "plt.boxplot(dff.freq)\n",
    "Q1 = dff.freq.quantile(0.25)\n",
    "Q3 = dff.freq.quantile(0.75)\n",
    "IQR = Q3 - Q1\n",
    "dff = dff[(dff.freq >= Q1 - 1.5*IQR) & (dff.freq <= Q3 + 1.5*IQR)]"
   ]
  },
  {
   "cell_type": "code",
   "execution_count": 19,
   "metadata": {},
   "outputs": [
    {
     "data": {
      "image/png": "[encoded data removed]",
      "text/plain": [
       "<Figure size 432x288 with 1 Axes>"
      ]
     },
     "metadata": {
      "needs_background": "light"
     },
     "output_type": "display_data"
    }
   ],
   "source": [
    "#Tratamento de outliers na variável 'valor':\n",
    "\n",
    "plt.boxplot(dff.valor)\n",
    "Q1 = dff.valor.quantile(0.25)\n",
    "Q3 = dff.valor.quantile(0.75)\n",
    "IQR = Q3 - Q1\n",
    "rfm = dff[(dff.valor >= (Q1 - 1.5*IQR)) & (dff.valor <= (Q3 + 1.5*IQR))]"
   ]
  },
  {
   "cell_type": "code",
   "execution_count": 21,
   "metadata": {},
   "outputs": [
    {
     "data": {
      "text/plain": [
       "array([[-1.1407629 ,  1.05653834,  0.70064121],\n",
       "       [ 0.22163286,  0.63375557,  0.42477396],\n",
       "       [ 1.31911834,  0.21097279,  0.56681845],\n",
       "       ...,\n",
       "       [ 0.18378854,  0.21097279, -0.08116256],\n",
       "       [ 1.35696267, -1.05737554, -0.34209293],\n",
       "       [-0.53525367, -1.05737554,  0.1589291 ]])"
      ]
     },
     "execution_count": 21,
     "metadata": {},
     "output_type": "execute_result"
    }
   ],
   "source": [
    "#Normalização dos dados\n",
    "\n",
    "dff_norm = dff[['rec','freq','valor']]\n",
    "scaler = StandardScaler()\n",
    "x_scaled = scaler.fit(dff_norm)\n",
    "x_scaled = scaler.fit_transform(dff_norm)\n",
    "x_scaled"
   ]
  },
  {
   "cell_type": "code",
   "execution_count": 22,
   "metadata": {},
   "outputs": [
    {
     "data": {
      "image/png": "[encoded data removed]",
      "text/plain": [
       "<Figure size 1080x432 with 1 Axes>"
      ]
     },
     "metadata": {
      "needs_background": "light"
     },
     "output_type": "display_data"
    }
   ],
   "source": [
    "#Definindo a quantidade ideal de clusters - Curva de Elbow\n",
    "\n",
    "l=[]\n",
    "for k in range(1, 21):\n",
    "    km = KMeans(n_clusters=k)\n",
    "    km.fit(x_scaled)\n",
    "    l.append(km.inertia_)\n",
    "\n",
    "plt.figure(figsize=[15,6])\n",
    "plt.title(\"Curva de Elbow\", fontsize = 20, fontweight = 'bold')\n",
    "plt.xlabel(\"Número de clusters\", fontsize = 14, fontweight = 'bold')\n",
    "plt.ylabel(\"WCSS (inertia)\", fontsize = 14, fontweight = 'bold')\n",
    "plt.plot(range(1, 1+len(l)), l, c = 'black', lw = 2)\n",
    "plt.scatter(range(1, 1+len(l)), l, c = 'black', lw = 2)\n",
    "plt.xticks(range(1,1+len(l)))\n",
    "plt.grid()\n",
    "plt.show()\n",
    "\n",
    "#COMENTÁRIOS:\n",
    "#No gráfico da curva de elbow, relacionado abaixo, observa-se que o número ideal para este estudo são 4 clusters,\n",
    "#pois este é exatamente o ponto em que a WCSS começa a cair de forma mais suave. "
   ]
  },
  {
   "cell_type": "code",
   "execution_count": 23,
   "metadata": {},
   "outputs": [],
   "source": [
    "km = KMeans(n_clusters=4).fit(x_scaled)"
   ]
  },
  {
   "cell_type": "code",
   "execution_count": 45,
   "metadata": {},
   "outputs": [
    {
     "data": {
      "text/html": [
       "<div>\n",
       "<style scoped>\n",
       "    .dataframe tbody tr th:only-of-type {\n",
       "        vertical-align: middle;\n",
       "    }\n",
       "\n",
       "    .dataframe tbody tr th {\n",
       "        vertical-align: top;\n",
       "    }\n",
       "\n",
       "    .dataframe thead th {\n",
       "        text-align: right;\n",
       "    }\n",
       "</style>\n",
       "<table border=\"1\" class=\"dataframe\">\n",
       "  <thead>\n",
       "    <tr style=\"text-align: right;\">\n",
       "      <th></th>\n",
       "      <th>user</th>\n",
       "      <th>rec</th>\n",
       "      <th>freq</th>\n",
       "      <th>valor</th>\n",
       "      <th>km4</th>\n",
       "    </tr>\n",
       "  </thead>\n",
       "  <tbody>\n",
       "    <tr>\n",
       "      <th>0</th>\n",
       "      <td>1</td>\n",
       "      <td>15.0</td>\n",
       "      <td>7.0</td>\n",
       "      <td>196.881015</td>\n",
       "      <td>3</td>\n",
       "    </tr>\n",
       "    <tr>\n",
       "      <th>1</th>\n",
       "      <td>2</td>\n",
       "      <td>51.0</td>\n",
       "      <td>6.0</td>\n",
       "      <td>162.408892</td>\n",
       "      <td>3</td>\n",
       "    </tr>\n",
       "    <tr>\n",
       "      <th>2</th>\n",
       "      <td>3</td>\n",
       "      <td>80.0</td>\n",
       "      <td>5.0</td>\n",
       "      <td>180.158644</td>\n",
       "      <td>1</td>\n",
       "    </tr>\n",
       "    <tr>\n",
       "      <th>3</th>\n",
       "      <td>4</td>\n",
       "      <td>38.0</td>\n",
       "      <td>4.0</td>\n",
       "      <td>156.048130</td>\n",
       "      <td>0</td>\n",
       "    </tr>\n",
       "    <tr>\n",
       "      <th>4</th>\n",
       "      <td>5</td>\n",
       "      <td>19.0</td>\n",
       "      <td>6.0</td>\n",
       "      <td>164.052067</td>\n",
       "      <td>3</td>\n",
       "    </tr>\n",
       "    <tr>\n",
       "      <th>...</th>\n",
       "      <td>...</td>\n",
       "      <td>...</td>\n",
       "      <td>...</td>\n",
       "      <td>...</td>\n",
       "      <td>...</td>\n",
       "    </tr>\n",
       "    <tr>\n",
       "      <th>1007</th>\n",
       "      <td>1008</td>\n",
       "      <td>50.0</td>\n",
       "      <td>6.0</td>\n",
       "      <td>116.867455</td>\n",
       "      <td>3</td>\n",
       "    </tr>\n",
       "    <tr>\n",
       "      <th>1008</th>\n",
       "      <td>1009</td>\n",
       "      <td>72.0</td>\n",
       "      <td>4.0</td>\n",
       "      <td>94.807854</td>\n",
       "      <td>1</td>\n",
       "    </tr>\n",
       "    <tr>\n",
       "      <th>1009</th>\n",
       "      <td>1010</td>\n",
       "      <td>50.0</td>\n",
       "      <td>5.0</td>\n",
       "      <td>99.187523</td>\n",
       "      <td>3</td>\n",
       "    </tr>\n",
       "    <tr>\n",
       "      <th>1010</th>\n",
       "      <td>1011</td>\n",
       "      <td>81.0</td>\n",
       "      <td>2.0</td>\n",
       "      <td>66.581900</td>\n",
       "      <td>1</td>\n",
       "    </tr>\n",
       "    <tr>\n",
       "      <th>1011</th>\n",
       "      <td>1012</td>\n",
       "      <td>31.0</td>\n",
       "      <td>2.0</td>\n",
       "      <td>129.189160</td>\n",
       "      <td>0</td>\n",
       "    </tr>\n",
       "  </tbody>\n",
       "</table>\n",
       "<p>1010 rows × 5 columns</p>\n",
       "</div>"
      ],
      "text/plain": [
       "      user   rec  freq       valor  km4\n",
       "0        1  15.0   7.0  196.881015    3\n",
       "1        2  51.0   6.0  162.408892    3\n",
       "2        3  80.0   5.0  180.158644    1\n",
       "3        4  38.0   4.0  156.048130    0\n",
       "4        5  19.0   6.0  164.052067    3\n",
       "...    ...   ...   ...         ...  ...\n",
       "1007  1008  50.0   6.0  116.867455    3\n",
       "1008  1009  72.0   4.0   94.807854    1\n",
       "1009  1010  50.0   5.0   99.187523    3\n",
       "1010  1011  81.0   2.0   66.581900    1\n",
       "1011  1012  31.0   2.0  129.189160    0\n",
       "\n",
       "[1010 rows x 5 columns]"
      ]
     },
     "execution_count": 45,
     "metadata": {},
     "output_type": "execute_result"
    }
   ],
   "source": [
    "dff['km4'] = km.predict(x_scaled)\n",
    "dff"
   ]
  },
  {
   "cell_type": "code",
   "execution_count": 59,
   "metadata": {},
   "outputs": [
    {
     "data": {
      "text/html": [
       "<div>\n",
       "<style scoped>\n",
       "    .dataframe tbody tr th:only-of-type {\n",
       "        vertical-align: middle;\n",
       "    }\n",
       "\n",
       "    .dataframe tbody tr th {\n",
       "        vertical-align: top;\n",
       "    }\n",
       "\n",
       "    .dataframe thead th {\n",
       "        text-align: right;\n",
       "    }\n",
       "</style>\n",
       "<table border=\"1\" class=\"dataframe\">\n",
       "  <thead>\n",
       "    <tr style=\"text-align: right;\">\n",
       "      <th></th>\n",
       "      <th>user</th>\n",
       "      <th>rec</th>\n",
       "      <th>freq</th>\n",
       "      <th>valor</th>\n",
       "      <th>km4</th>\n",
       "    </tr>\n",
       "  </thead>\n",
       "  <tbody>\n",
       "    <tr>\n",
       "      <th>count</th>\n",
       "      <td>1010.000000</td>\n",
       "      <td>1010.000000</td>\n",
       "      <td>1010.000000</td>\n",
       "      <td>1010.000000</td>\n",
       "      <td>1010.000000</td>\n",
       "    </tr>\n",
       "    <tr>\n",
       "      <th>mean</th>\n",
       "      <td>507.139604</td>\n",
       "      <td>45.143564</td>\n",
       "      <td>4.500990</td>\n",
       "      <td>109.329523</td>\n",
       "      <td>1.440594</td>\n",
       "    </tr>\n",
       "    <tr>\n",
       "      <th>std</th>\n",
       "      <td>292.218372</td>\n",
       "      <td>26.437131</td>\n",
       "      <td>2.366453</td>\n",
       "      <td>125.021003</td>\n",
       "      <td>1.278369</td>\n",
       "    </tr>\n",
       "    <tr>\n",
       "      <th>min</th>\n",
       "      <td>1.000000</td>\n",
       "      <td>1.000000</td>\n",
       "      <td>1.000000</td>\n",
       "      <td>10.859150</td>\n",
       "      <td>0.000000</td>\n",
       "    </tr>\n",
       "    <tr>\n",
       "      <th>25%</th>\n",
       "      <td>255.250000</td>\n",
       "      <td>23.000000</td>\n",
       "      <td>2.000000</td>\n",
       "      <td>56.891056</td>\n",
       "      <td>0.000000</td>\n",
       "    </tr>\n",
       "    <tr>\n",
       "      <th>50%</th>\n",
       "      <td>507.500000</td>\n",
       "      <td>45.000000</td>\n",
       "      <td>5.000000</td>\n",
       "      <td>103.371429</td>\n",
       "      <td>1.000000</td>\n",
       "    </tr>\n",
       "    <tr>\n",
       "      <th>75%</th>\n",
       "      <td>759.750000</td>\n",
       "      <td>68.000000</td>\n",
       "      <td>7.000000</td>\n",
       "      <td>152.404221</td>\n",
       "      <td>3.000000</td>\n",
       "    </tr>\n",
       "    <tr>\n",
       "      <th>max</th>\n",
       "      <td>1012.000000</td>\n",
       "      <td>118.000000</td>\n",
       "      <td>12.000000</td>\n",
       "      <td>3241.824119</td>\n",
       "      <td>3.000000</td>\n",
       "    </tr>\n",
       "  </tbody>\n",
       "</table>\n",
       "</div>"
      ],
      "text/plain": [
       "              user          rec         freq        valor          km4\n",
       "count  1010.000000  1010.000000  1010.000000  1010.000000  1010.000000\n",
       "mean    507.139604    45.143564     4.500990   109.329523     1.440594\n",
       "std     292.218372    26.437131     2.366453   125.021003     1.278369\n",
       "min       1.000000     1.000000     1.000000    10.859150     0.000000\n",
       "25%     255.250000    23.000000     2.000000    56.891056     0.000000\n",
       "50%     507.500000    45.000000     5.000000   103.371429     1.000000\n",
       "75%     759.750000    68.000000     7.000000   152.404221     3.000000\n",
       "max    1012.000000   118.000000    12.000000  3241.824119     3.000000"
      ]
     },
     "execution_count": 59,
     "metadata": {},
     "output_type": "execute_result"
    }
   ],
   "source": [
    "dff.describe()"
   ]
  },
  {
   "cell_type": "code",
   "execution_count": 38,
   "metadata": {},
   "outputs": [
    {
     "data": {
      "text/plain": [
       "<AxesSubplot:xlabel='km4', ylabel='rec'>"
      ]
     },
     "execution_count": 38,
     "metadata": {},
     "output_type": "execute_result"
    },
    {
     "data": {
      "image/png": "[encoded data removed]",
      "text/plain": [
       "<Figure size 432x288 with 1 Axes>"
      ]
     },
     "metadata": {},
     "output_type": "display_data"
    }
   ],
   "source": [
    "sns.boxplot(x='km4', y='rec',data=dff)"
   ]
  },
  {
   "cell_type": "code",
   "execution_count": 39,
   "metadata": {},
   "outputs": [
    {
     "data": {
      "text/plain": [
       "<AxesSubplot:xlabel='km4', ylabel='freq'>"
      ]
     },
     "execution_count": 39,
     "metadata": {},
     "output_type": "execute_result"
    },
    {
     "data": {
      "image/png": "[encoded data removed]",
      "text/plain": [
       "<Figure size 432x288 with 1 Axes>"
      ]
     },
     "metadata": {},
     "output_type": "display_data"
    }
   ],
   "source": [
    "sns.boxplot(x='km4', y='freq',data=dff)"
   ]
  },
  {
   "cell_type": "code",
   "execution_count": 37,
   "metadata": {},
   "outputs": [
    {
     "data": {
      "text/plain": [
       "<AxesSubplot:xlabel='km4', ylabel='valor'>"
      ]
     },
     "execution_count": 37,
     "metadata": {},
     "output_type": "execute_result"
    },
    {
     "data": {
      "image/png": "[encoded data removed]",
      "text/plain": [
       "<Figure size 432x288 with 1 Axes>"
      ]
     },
     "metadata": {},
     "output_type": "display_data"
    }
   ],
   "source": [
    "sns.boxplot(x='km4', y='valor',data=dff)"
   ]
  },
  {
   "cell_type": "code",
   "execution_count": 60,
   "metadata": {},
   "outputs": [
    {
     "data": {
      "text/plain": [
       "Text(0.5, 0, 'Frequência')"
      ]
     },
     "execution_count": 60,
     "metadata": {},
     "output_type": "execute_result"
    },
    {
     "data": {
      "image/png": "[encoded data removed]",
      "text/plain": [
       "<Figure size 432x288 with 1 Axes>"
      ]
     },
     "metadata": {},
     "output_type": "display_data"
    }
   ],
   "source": [
    "#Visualização dos clusters\n",
    "\n",
    "fig = plt.figure()\n",
    "ax = plt.axes(projection='3d')\n",
    "xline=clusters_scaled['rec']\n",
    "yline=clusters_scaled['freq']\n",
    "zline=clusters_scaled['valor']\n",
    "\n",
    "ax.scatter3D(xline, zline,yline,c=clusters_scaled['cluster_pred'])\n",
    "ax.view_init(30, 60)\n",
    "ax.set_xlabel('Recência')\n",
    "ax.set_ylabel('Valor')\n",
    "ax.set_zlabel('Frequência')"
   ]
  },
  {
   "cell_type": "code",
   "execution_count": null,
   "metadata": {},
   "outputs": [],
   "source": [
    "#Conclusões\n",
    "\n",
    "#A partir das análises acima relacionadas pode-se verificar, a partir das médias nos boxplot\n",
    "#que o resultado obtido com a utilização do K-means corresponde a segmentação realizada \n",
    "#inicialmente, em 4 clusters de clientes e se mostra bem satisfatória para o conjunto de dados apresentado."
   ]
  }
 ],
 "metadata": {
  "kernelspec": {
   "display_name": "Python 3",
   "language": "python",
   "name": "python3"
  },
  "language_info": {
   "codemirror_mode": {
    "name": "ipython",
    "version": 3
   },
   "file_extension": ".py",
   "mimetype": "text/x-python",
   "name": "python",
   "nbconvert_exporter": "python",
   "pygments_lexer": "ipython3",
   "version": "3.8.5"
  }
 },
 "nbformat": 4,
 "nbformat_minor": 2
}
